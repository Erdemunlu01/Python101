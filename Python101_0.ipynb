{
 "cells": [
  {
   "cell_type": "markdown",
   "id": "da99addd-4319-47fe-804f-b5e0b618191b",
   "metadata": {},
   "source": [
    "# PYTHON 101 PART 1"
   ]
  },
  {
   "cell_type": "markdown",
   "id": "228d1c28-609d-4cbb-bf45-4d98d2671479",
   "metadata": {},
   "source": [
    "## Print describtions"
   ]
  },
  {
   "cell_type": "code",
   "execution_count": 4,
   "id": "2afa87ec-f600-40b6-9da8-4f1e0cbdf6f5",
   "metadata": {},
   "outputs": [
    {
     "name": "stdout",
     "output_type": "stream",
     "text": [
      "hello world\n"
     ]
    }
   ],
   "source": [
    "print(\"hello world\")"
   ]
  },
  {
   "cell_type": "code",
   "execution_count": 13,
   "id": "79f43a77-4991-4e0e-bffe-e945ce8c1310",
   "metadata": {},
   "outputs": [
    {
     "name": "stdout",
     "output_type": "stream",
     "text": [
      "hello \n",
      "world\n",
      "hello \tworld\n",
      "hello World\n",
      "hello World. I love you\n",
      "hello World. I love you\n",
      "hello love. I World you\n",
      "hello World. I love you\n"
     ]
    }
   ],
   "source": [
    "print(\"hello \\nworld\")\n",
    "print(\"hello \\tworld\")\n",
    "print(\"hello {}\".format(\"World\"))\n",
    "print(\"hello {}. I {} you\".format(\"World\",\"love\"))\n",
    "print(\"hello {0}. I {1} you\".format(\"World\",\"love\"))\n",
    "print(\"hello {1}. I {0} you\".format(\"World\",\"love\"))\n",
    "print(\"hello {x}. I {y} you\".format(x = \"World\", y = \"love\"))"
   ]
  },
  {
   "cell_type": "markdown",
   "id": "82fa94cb-5bc3-4abd-90be-cd9ea9403f0b",
   "metadata": {
    "tags": []
   },
   "source": [
    "## Variable describtions"
   ]
  },
  {
   "cell_type": "code",
   "execution_count": 16,
   "id": "317685af-4a2c-4ff6-8c7a-6f6f5f68ab07",
   "metadata": {},
   "outputs": [
    {
     "name": "stdout",
     "output_type": "stream",
     "text": [
      "10\n"
     ]
    }
   ],
   "source": [
    "sayi = 10\n",
    "print(sayi)"
   ]
  },
  {
   "cell_type": "code",
   "execution_count": 19,
   "id": "b8c7b918-454a-4a72-8126-ab1ae42e54a9",
   "metadata": {},
   "outputs": [
    {
     "name": "stdout",
     "output_type": "stream",
     "text": [
      "11\n"
     ]
    }
   ],
   "source": [
    "sayi = sayi + 1\n",
    "print(sayi)"
   ]
  },
  {
   "cell_type": "markdown",
   "id": "87420a2a-6871-4feb-addb-12ac25b23d64",
   "metadata": {},
   "source": [
    "## Data Type"
   ]
  },
  {
   "cell_type": "code",
   "execution_count": 25,
   "id": "1e6e9a4e-0fca-4585-b9f6-d44fd126c03b",
   "metadata": {},
   "outputs": [
    {
     "data": {
      "text/plain": [
       "int"
      ]
     },
     "execution_count": 25,
     "metadata": {},
     "output_type": "execute_result"
    }
   ],
   "source": [
    "type(3)"
   ]
  },
  {
   "cell_type": "code",
   "execution_count": 22,
   "id": "ba26fd4f-8c15-4a29-9620-754e02763096",
   "metadata": {},
   "outputs": [
    {
     "data": {
      "text/plain": [
       "float"
      ]
     },
     "execution_count": 22,
     "metadata": {},
     "output_type": "execute_result"
    }
   ],
   "source": [
    "type(3.4)"
   ]
  },
  {
   "cell_type": "code",
   "execution_count": 23,
   "id": "deb56e50-2482-41a0-bd28-8a436243067f",
   "metadata": {},
   "outputs": [
    {
     "data": {
      "text/plain": [
       "str"
      ]
     },
     "execution_count": 23,
     "metadata": {},
     "output_type": "execute_result"
    }
   ],
   "source": [
    "type('hello')"
   ]
  },
  {
   "cell_type": "code",
   "execution_count": 24,
   "id": "b054a672-2e94-4877-9dc6-71f0892fb838",
   "metadata": {},
   "outputs": [
    {
     "data": {
      "text/plain": [
       "bool"
      ]
     },
     "execution_count": 24,
     "metadata": {},
     "output_type": "execute_result"
    }
   ],
   "source": [
    "type(True)"
   ]
  },
  {
   "cell_type": "markdown",
   "id": "d1009472-270a-4297-98f0-ec08890066d0",
   "metadata": {},
   "source": [
    "## Arithmatic operations"
   ]
  },
  {
   "cell_type": "code",
   "execution_count": 26,
   "id": "ff05f970-1215-4b31-8a47-e147fb785a7a",
   "metadata": {},
   "outputs": [
    {
     "data": {
      "text/plain": [
       "7"
      ]
     },
     "execution_count": 26,
     "metadata": {},
     "output_type": "execute_result"
    }
   ],
   "source": [
    "3+4"
   ]
  },
  {
   "cell_type": "code",
   "execution_count": 27,
   "id": "052a0bcb-7d42-4c36-b410-ae1a8a1f2b55",
   "metadata": {},
   "outputs": [
    {
     "data": {
      "text/plain": [
       "-1"
      ]
     },
     "execution_count": 27,
     "metadata": {},
     "output_type": "execute_result"
    }
   ],
   "source": [
    "3-4"
   ]
  },
  {
   "cell_type": "code",
   "execution_count": 28,
   "id": "94ac26cc-6bb3-4b84-9b6d-390e7e797ba0",
   "metadata": {},
   "outputs": [
    {
     "data": {
      "text/plain": [
       "0.75"
      ]
     },
     "execution_count": 28,
     "metadata": {},
     "output_type": "execute_result"
    }
   ],
   "source": [
    "3/4"
   ]
  },
  {
   "cell_type": "code",
   "execution_count": 29,
   "id": "a75c1a27-5c36-4acc-92dc-c2f6cb1d027c",
   "metadata": {},
   "outputs": [
    {
     "data": {
      "text/plain": [
       "12"
      ]
     },
     "execution_count": 29,
     "metadata": {},
     "output_type": "execute_result"
    }
   ],
   "source": [
    "3*4"
   ]
  },
  {
   "cell_type": "code",
   "execution_count": 31,
   "id": "2a7687a1-e675-45dd-b82a-32a0257524fb",
   "metadata": {},
   "outputs": [
    {
     "data": {
      "text/plain": [
       "2"
      ]
     },
     "execution_count": 31,
     "metadata": {},
     "output_type": "execute_result"
    }
   ],
   "source": [
    "5%3 ## % = Mod"
   ]
  },
  {
   "cell_type": "code",
   "execution_count": 32,
   "id": "2be8dac2-1bbd-4bf2-a0c9-20d45157fb8b",
   "metadata": {},
   "outputs": [
    {
     "name": "stdout",
     "output_type": "stream",
     "text": [
      "35\n",
      "32\n"
     ]
    }
   ],
   "source": [
    "print(5*7)\n",
    "print(4*8)"
   ]
  },
  {
   "cell_type": "code",
   "execution_count": 33,
   "id": "936ecfa3-e1d1-489c-b479-85374835edf5",
   "metadata": {},
   "outputs": [
    {
     "data": {
      "text/plain": [
       "32"
      ]
     },
     "execution_count": 33,
     "metadata": {},
     "output_type": "execute_result"
    }
   ],
   "source": [
    "5*7\n",
    "4*8"
   ]
  },
  {
   "cell_type": "code",
   "execution_count": 34,
   "id": "0f7672a1-74c1-44bf-bbe7-a93c85e882bd",
   "metadata": {},
   "outputs": [
    {
     "data": {
      "text/plain": [
       "57"
      ]
     },
     "execution_count": 34,
     "metadata": {},
     "output_type": "execute_result"
    }
   ],
   "source": [
    "3+6*9"
   ]
  },
  {
   "cell_type": "markdown",
   "id": "3e24f6c7-2bb5-412f-81d1-6c5efec4e73c",
   "metadata": {},
   "source": [
    "## String variable"
   ]
  },
  {
   "cell_type": "code",
   "execution_count": 35,
   "id": "dfa95093-6328-45c9-8857-35c94ac1e185",
   "metadata": {},
   "outputs": [],
   "source": [
    "strvar = \"Python\""
   ]
  },
  {
   "cell_type": "code",
   "execution_count": 36,
   "id": "62073842-ba2b-4945-b187-e2b0f8c0c345",
   "metadata": {},
   "outputs": [
    {
     "name": "stdout",
     "output_type": "stream",
     "text": [
      "Python\n"
     ]
    }
   ],
   "source": [
    "print(strvar)"
   ]
  },
  {
   "cell_type": "code",
   "execution_count": 38,
   "id": "a8544321-b93f-4861-9dfd-b4c6598cefbe",
   "metadata": {},
   "outputs": [
    {
     "data": {
      "text/plain": [
       "'o'"
      ]
     },
     "execution_count": 38,
     "metadata": {},
     "output_type": "execute_result"
    }
   ],
   "source": [
    "strvar[0]"
   ]
  },
  {
   "cell_type": "code",
   "execution_count": 40,
   "id": "45848637-5658-4840-9b75-904550c382d5",
   "metadata": {},
   "outputs": [
    {
     "name": "stdout",
     "output_type": "stream",
     "text": [
      "P\n",
      "y\n",
      "t\n",
      "h\n",
      "o\n",
      "n\n"
     ]
    }
   ],
   "source": [
    "print(strvar[0])\n",
    "print(strvar[1])\n",
    "print(strvar[2])\n",
    "print(strvar[3])\n",
    "print(strvar[4])\n",
    "print(strvar[5])"
   ]
  },
  {
   "cell_type": "code",
   "execution_count": 41,
   "id": "90ab63d0-668d-4d67-baa8-375ba1a40aa4",
   "metadata": {},
   "outputs": [
    {
     "data": {
      "text/plain": [
       "'Python'"
      ]
     },
     "execution_count": 41,
     "metadata": {},
     "output_type": "execute_result"
    }
   ],
   "source": [
    "strvar[0:]"
   ]
  },
  {
   "cell_type": "code",
   "execution_count": 43,
   "id": "953feec6-9bd7-4f01-b523-e1af1d689310",
   "metadata": {},
   "outputs": [
    {
     "data": {
      "text/plain": [
       "'ython'"
      ]
     },
     "execution_count": 43,
     "metadata": {},
     "output_type": "execute_result"
    }
   ],
   "source": [
    "strvar[1:]"
   ]
  },
  {
   "cell_type": "code",
   "execution_count": 44,
   "id": "dc6d7650-7265-412d-a2db-7e60d3cd2365",
   "metadata": {},
   "outputs": [
    {
     "data": {
      "text/plain": [
       "'thon'"
      ]
     },
     "execution_count": 44,
     "metadata": {},
     "output_type": "execute_result"
    }
   ],
   "source": [
    "strvar[2:]"
   ]
  },
  {
   "cell_type": "code",
   "execution_count": 48,
   "id": "0fe1f52c-b2fa-4b1e-9c6f-e80022a91c5c",
   "metadata": {},
   "outputs": [
    {
     "data": {
      "text/plain": [
       "'Python'"
      ]
     },
     "execution_count": 48,
     "metadata": {},
     "output_type": "execute_result"
    }
   ],
   "source": [
    "strvar[:6]"
   ]
  },
  {
   "cell_type": "code",
   "execution_count": 49,
   "id": "b39baf12-2c88-4d23-8965-e11549024229",
   "metadata": {},
   "outputs": [
    {
     "data": {
      "text/plain": [
       "'Pytho'"
      ]
     },
     "execution_count": 49,
     "metadata": {},
     "output_type": "execute_result"
    }
   ],
   "source": [
    "strvar[:5]"
   ]
  },
  {
   "cell_type": "code",
   "execution_count": 50,
   "id": "11fb2fa4-5089-4a81-977a-8dfb6e4bbd06",
   "metadata": {},
   "outputs": [
    {
     "data": {
      "text/plain": [
       "'Pyth'"
      ]
     },
     "execution_count": 50,
     "metadata": {},
     "output_type": "execute_result"
    }
   ],
   "source": [
    "strvar[:4]"
   ]
  },
  {
   "cell_type": "code",
   "execution_count": 51,
   "id": "ebb814be-90b1-43e7-ac5f-5690551956d6",
   "metadata": {},
   "outputs": [
    {
     "data": {
      "text/plain": [
       "'tho'"
      ]
     },
     "execution_count": 51,
     "metadata": {},
     "output_type": "execute_result"
    }
   ],
   "source": [
    "strvar[2:5]"
   ]
  },
  {
   "cell_type": "code",
   "execution_count": 52,
   "id": "ee6d383b-91da-45f1-9341-d37a960a3f42",
   "metadata": {},
   "outputs": [
    {
     "data": {
      "text/plain": [
       "'Pto'"
      ]
     },
     "execution_count": 52,
     "metadata": {},
     "output_type": "execute_result"
    }
   ],
   "source": [
    "strvar[::2]"
   ]
  },
  {
   "cell_type": "code",
   "execution_count": 53,
   "id": "d38c9ed2-a765-49da-980d-4100dfd1c907",
   "metadata": {},
   "outputs": [
    {
     "data": {
      "text/plain": [
       "'Ph'"
      ]
     },
     "execution_count": 53,
     "metadata": {},
     "output_type": "execute_result"
    }
   ],
   "source": [
    "strvar[::3]"
   ]
  },
  {
   "cell_type": "code",
   "execution_count": 54,
   "id": "0040ea23-1163-45fd-9d07-87f8bf33af9b",
   "metadata": {},
   "outputs": [
    {
     "data": {
      "text/plain": [
       "'yo'"
      ]
     },
     "execution_count": 54,
     "metadata": {},
     "output_type": "execute_result"
    }
   ],
   "source": [
    "strvar[1:5:3]\n",
    "#Start at the 1st digit, go to the 5th digit, skip 3"
   ]
  },
  {
   "cell_type": "code",
   "execution_count": 55,
   "id": "79d44a68-38d9-4a18-a39a-4b023e169eb3",
   "metadata": {},
   "outputs": [
    {
     "data": {
      "text/plain": [
       "6"
      ]
     },
     "execution_count": 55,
     "metadata": {},
     "output_type": "execute_result"
    }
   ],
   "source": [
    "len(strvar)"
   ]
  },
  {
   "cell_type": "code",
   "execution_count": 59,
   "id": "90ee6968-95e4-494b-b5dc-f0ae9adb0f6b",
   "metadata": {},
   "outputs": [
    {
     "data": {
      "text/plain": [
       "'Python unbelievable!'"
      ]
     },
     "execution_count": 59,
     "metadata": {},
     "output_type": "execute_result"
    }
   ],
   "source": [
    "strvar +\" unbelievable!\""
   ]
  },
  {
   "cell_type": "code",
   "execution_count": 60,
   "id": "ee2bad5e-e56e-419f-aadf-dfe05bcd65ec",
   "metadata": {},
   "outputs": [
    {
     "data": {
      "text/plain": [
       "'Python unbelievable!'"
      ]
     },
     "execution_count": 60,
     "metadata": {},
     "output_type": "execute_result"
    }
   ],
   "source": [
    "strvar1 = strvar +\" unbelievable!\"\n",
    "strvar1"
   ]
  },
  {
   "cell_type": "code",
   "execution_count": 61,
   "id": "f1448750-6526-4ef6-93fd-fe58b30673ed",
   "metadata": {},
   "outputs": [
    {
     "data": {
      "text/plain": [
       "'PythonPythonPython'"
      ]
     },
     "execution_count": 61,
     "metadata": {},
     "output_type": "execute_result"
    }
   ],
   "source": [
    "strvar * 3"
   ]
  },
  {
   "cell_type": "code",
   "execution_count": 62,
   "id": "88d26ec8-e22a-49e8-8946-06576f29f3ce",
   "metadata": {},
   "outputs": [
    {
     "data": {
      "text/plain": [
       "'PYTHON'"
      ]
     },
     "execution_count": 62,
     "metadata": {},
     "output_type": "execute_result"
    }
   ],
   "source": [
    "strvar.upper()"
   ]
  },
  {
   "cell_type": "code",
   "execution_count": 63,
   "id": "470a72f6-94f8-4184-897b-a39999db71cd",
   "metadata": {},
   "outputs": [
    {
     "data": {
      "text/plain": [
       "'python'"
      ]
     },
     "execution_count": 63,
     "metadata": {},
     "output_type": "execute_result"
    }
   ],
   "source": [
    "strvar.lower()"
   ]
  },
  {
   "cell_type": "code",
   "execution_count": 66,
   "id": "939196d6-82eb-4c29-b483-fd03dff8fb26",
   "metadata": {},
   "outputs": [
    {
     "data": {
      "text/plain": [
       "['Python', 'unbelievable!']"
      ]
     },
     "execution_count": 66,
     "metadata": {},
     "output_type": "execute_result"
    }
   ],
   "source": [
    "strvar1.split()"
   ]
  },
  {
   "cell_type": "code",
   "execution_count": 68,
   "id": "6c40d006-58d1-40e1-a9c8-beb7d049bf33",
   "metadata": {},
   "outputs": [
    {
     "data": {
      "text/plain": [
       "['Pyth', 'n unbelievable!']"
      ]
     },
     "execution_count": 68,
     "metadata": {},
     "output_type": "execute_result"
    }
   ],
   "source": [
    "strvar1.split('o')"
   ]
  },
  {
   "cell_type": "code",
   "execution_count": 69,
   "id": "b3a8cacb-9b57-41f9-a5a0-712be78ae6a0",
   "metadata": {},
   "outputs": [
    {
     "data": {
      "text/plain": [
       "['Python unb', 'li', 'vabl', '!']"
      ]
     },
     "execution_count": 69,
     "metadata": {},
     "output_type": "execute_result"
    }
   ],
   "source": [
    "strvar1.split('e')"
   ]
  },
  {
   "cell_type": "code",
   "execution_count": 70,
   "id": "f2a36a2c-57bb-4f06-a931-d063c9359da6",
   "metadata": {},
   "outputs": [
    {
     "data": {
      "text/plain": [
       "['Python', 'unbelievable!']"
      ]
     },
     "execution_count": 70,
     "metadata": {},
     "output_type": "execute_result"
    }
   ],
   "source": [
    "strvar1.split() # If you press 'shift' and 'tab' you can read the information of the function."
   ]
  },
  {
   "cell_type": "code",
   "execution_count": 71,
   "id": "031b798d-b405-4e5d-8996-33f513261598",
   "metadata": {},
   "outputs": [
    {
     "data": {
      "text/plain": [
       "['Python unb', 'lievable!']"
      ]
     },
     "execution_count": 71,
     "metadata": {},
     "output_type": "execute_result"
    }
   ],
   "source": [
    "strvar1.split(sep = 'e', maxsplit = 1)"
   ]
  },
  {
   "cell_type": "markdown",
   "id": "be002bd0-8262-40e1-a7e0-97cf86bee4ce",
   "metadata": {},
   "source": [
    "## Boolean Variable"
   ]
  },
  {
   "cell_type": "code",
   "execution_count": 73,
   "id": "d369d48b-c681-43ae-9f9f-7b1eeb7a4cb9",
   "metadata": {},
   "outputs": [
    {
     "data": {
      "text/plain": [
       "True"
      ]
     },
     "execution_count": 73,
     "metadata": {},
     "output_type": "execute_result"
    }
   ],
   "source": [
    "a = True\n",
    "a"
   ]
  },
  {
   "cell_type": "code",
   "execution_count": 74,
   "id": "5ecb039c-116f-44c5-8233-a01b813fb545",
   "metadata": {},
   "outputs": [
    {
     "data": {
      "text/plain": [
       "False"
      ]
     },
     "execution_count": 74,
     "metadata": {},
     "output_type": "execute_result"
    }
   ],
   "source": [
    "b = False\n",
    "b"
   ]
  },
  {
   "cell_type": "code",
   "execution_count": 75,
   "id": "ea7904c8-c419-4f0a-86eb-3d45a0064fbe",
   "metadata": {},
   "outputs": [
    {
     "name": "stdout",
     "output_type": "stream",
     "text": [
      "True\n"
     ]
    }
   ],
   "source": [
    "age1 = 20\n",
    "age2 = 18\n",
    "print(age1>18)"
   ]
  },
  {
   "cell_type": "code",
   "execution_count": 76,
   "id": "88a1d02a-b899-4e17-813c-82c75522a560",
   "metadata": {},
   "outputs": [
    {
     "name": "stdout",
     "output_type": "stream",
     "text": [
      "False\n"
     ]
    }
   ],
   "source": [
    "print(age2>18)"
   ]
  },
  {
   "cell_type": "code",
   "execution_count": 77,
   "id": "36ac981c-fb23-4966-8a2b-5054190c1535",
   "metadata": {},
   "outputs": [
    {
     "data": {
      "text/plain": [
       "False"
      ]
     },
     "execution_count": 77,
     "metadata": {},
     "output_type": "execute_result"
    }
   ],
   "source": [
    "age1 == 18"
   ]
  },
  {
   "cell_type": "code",
   "execution_count": 78,
   "id": "cc7ed9e7-67d7-4d4d-bbe4-424db37416d7",
   "metadata": {},
   "outputs": [
    {
     "data": {
      "text/plain": [
       "True"
      ]
     },
     "execution_count": 78,
     "metadata": {},
     "output_type": "execute_result"
    }
   ],
   "source": [
    "age2 == 18"
   ]
  },
  {
   "cell_type": "code",
   "execution_count": 81,
   "id": "99c43d18-82fd-45aa-b38d-a7ceb9e57523",
   "metadata": {},
   "outputs": [
    {
     "data": {
      "text/plain": [
       "True"
      ]
     },
     "execution_count": 81,
     "metadata": {},
     "output_type": "execute_result"
    }
   ],
   "source": [
    "age1 != 18 # != is not equal"
   ]
  },
  {
   "cell_type": "code",
   "execution_count": 82,
   "id": "080f1095-7fa9-41ad-af27-53d975d01fbe",
   "metadata": {},
   "outputs": [
    {
     "data": {
      "text/plain": [
       "False"
      ]
     },
     "execution_count": 82,
     "metadata": {},
     "output_type": "execute_result"
    }
   ],
   "source": [
    "age2 != 18"
   ]
  },
  {
   "cell_type": "code",
   "execution_count": 83,
   "id": "0d14153d-d305-4e57-a37b-6bbd9559772b",
   "metadata": {},
   "outputs": [
    {
     "data": {
      "text/plain": [
       "False"
      ]
     },
     "execution_count": 83,
     "metadata": {},
     "output_type": "execute_result"
    }
   ],
   "source": [
    "not age1 > 18"
   ]
  },
  {
   "cell_type": "code",
   "execution_count": 84,
   "id": "77f5152e-66a0-4c98-be94-5ced36cd7417",
   "metadata": {},
   "outputs": [
    {
     "data": {
      "text/plain": [
       "True"
      ]
     },
     "execution_count": 84,
     "metadata": {},
     "output_type": "execute_result"
    }
   ],
   "source": [
    "not age2 > 18"
   ]
  },
  {
   "cell_type": "markdown",
   "id": "7894cd3c-0c62-4ab9-819b-c144c38454ce",
   "metadata": {},
   "source": [
    "## Collection Data Types"
   ]
  },
  {
   "cell_type": "markdown",
   "id": "10f2f924-0052-4690-bbd1-2cebc165217c",
   "metadata": {
    "tags": []
   },
   "source": [
    "### List"
   ]
  },
  {
   "cell_type": "code",
   "execution_count": 95,
   "id": "48f70d6a-b32b-46c8-b4ac-d5ef931837af",
   "metadata": {},
   "outputs": [
    {
     "name": "stdout",
     "output_type": "stream",
     "text": [
      "['a', 'b', 'c', 'd', 'e', 'a']\n"
     ]
    }
   ],
   "source": [
    "list = [\"a\",\"b\",\"c\",\"d\",\"e\",\"a\"]\n",
    "print(list)"
   ]
  },
  {
   "cell_type": "code",
   "execution_count": 96,
   "id": "903d7fd5-5907-4905-a05d-4422963690b6",
   "metadata": {},
   "outputs": [
    {
     "name": "stdout",
     "output_type": "stream",
     "text": [
      "['a', 'b', 'c', 'd', 'e', 'a', 'f']\n"
     ]
    }
   ],
   "source": [
    "##Lists can be processed within themselves.\n",
    "list = list + [\"f\"]\n",
    "print(list)"
   ]
  },
  {
   "cell_type": "code",
   "execution_count": 97,
   "id": "6119b5db-a6af-437a-bee0-57daf893622f",
   "metadata": {},
   "outputs": [
    {
     "data": {
      "text/plain": [
       "'a'"
      ]
     },
     "execution_count": 97,
     "metadata": {},
     "output_type": "execute_result"
    }
   ],
   "source": [
    "list[0]"
   ]
  },
  {
   "cell_type": "code",
   "execution_count": 98,
   "id": "a2949b59-6d09-4608-87e9-c35a288f3e25",
   "metadata": {},
   "outputs": [
    {
     "name": "stdout",
     "output_type": "stream",
     "text": [
      "a\n",
      "['a', 'b']\n",
      "['c', 'd', 'e', 'a', 'f']\n",
      "['b', 'd', 'a']\n"
     ]
    }
   ],
   "source": [
    "print(list[0])\n",
    "print(list[:2])\n",
    "print(list[2:])\n",
    "print(list[1:6:2])"
   ]
  },
  {
   "cell_type": "code",
   "execution_count": 99,
   "id": "2918abb5-f600-49a2-bb0b-172563319014",
   "metadata": {},
   "outputs": [
    {
     "data": {
      "text/plain": [
       "['a', 'b', 'c', 'd', 'e', 'a', 'f', 'g']"
      ]
     },
     "execution_count": 99,
     "metadata": {},
     "output_type": "execute_result"
    }
   ],
   "source": [
    "list.append(\"g\") # works without assignment\n",
    "list"
   ]
  },
  {
   "cell_type": "code",
   "execution_count": 100,
   "id": "ba5bc8e6-0c2f-4692-a99b-35d8f00f025b",
   "metadata": {},
   "outputs": [
    {
     "data": {
      "text/plain": [
       "'g'"
      ]
     },
     "execution_count": 100,
     "metadata": {},
     "output_type": "execute_result"
    }
   ],
   "source": [
    "list.pop() # discards and returns the last element of the list"
   ]
  },
  {
   "cell_type": "code",
   "execution_count": 101,
   "id": "019917f8-20d0-411a-afd1-5b7e35442300",
   "metadata": {},
   "outputs": [
    {
     "data": {
      "text/plain": [
       "['a', 'b', 'c', 'd', 'e', 'a', 'f']"
      ]
     },
     "execution_count": 101,
     "metadata": {},
     "output_type": "execute_result"
    }
   ],
   "source": [
    "list"
   ]
  },
  {
   "cell_type": "code",
   "execution_count": 102,
   "id": "1f543612-4abb-4aaf-8c48-4db98f26fed9",
   "metadata": {},
   "outputs": [
    {
     "name": "stdout",
     "output_type": "stream",
     "text": [
      "['a', 'b', 'c', 'd', 'e', 'f']\n"
     ]
    }
   ],
   "source": [
    "list.pop(5)\n",
    "print(list)"
   ]
  },
  {
   "cell_type": "code",
   "execution_count": 107,
   "id": "69572ff2-5c53-44b7-bc00-1483244b93d6",
   "metadata": {},
   "outputs": [
    {
     "data": {
      "text/plain": [
       "[235, 5436, 12, 65, 88, 1, 2, 96535, 12, 12]"
      ]
     },
     "execution_count": 107,
     "metadata": {},
     "output_type": "execute_result"
    }
   ],
   "source": [
    "numbers = [235,5436,12,65,88,1,2,96535,12,12]\n",
    "numbers"
   ]
  },
  {
   "cell_type": "code",
   "execution_count": 108,
   "id": "7dc15144-14fa-49ef-8470-b1db83fa0828",
   "metadata": {},
   "outputs": [
    {
     "data": {
      "text/plain": [
       "[1, 2, 12, 12, 12, 65, 88, 235, 5436, 96535]"
      ]
     },
     "execution_count": 108,
     "metadata": {},
     "output_type": "execute_result"
    }
   ],
   "source": [
    "numbers.sort()\n",
    "numbers"
   ]
  },
  {
   "cell_type": "code",
   "execution_count": 109,
   "id": "61675756-7037-48a5-8e67-70d9f874843a",
   "metadata": {},
   "outputs": [
    {
     "name": "stdout",
     "output_type": "stream",
     "text": [
      "[96535, 5436, 235, 88, 65, 12, 12, 12, 2, 1]\n"
     ]
    }
   ],
   "source": [
    "numbers.reverse()\n",
    "print(numbers)"
   ]
  },
  {
   "cell_type": "code",
   "execution_count": 110,
   "id": "da2309e1-cf54-49b7-ac8e-6c0936be9462",
   "metadata": {},
   "outputs": [
    {
     "data": {
      "text/plain": [
       "{1, 2, 12, 65, 88, 235, 5436, 96535}"
      ]
     },
     "execution_count": 110,
     "metadata": {},
     "output_type": "execute_result"
    }
   ],
   "source": [
    "set(numbers)"
   ]
  },
  {
   "cell_type": "markdown",
   "id": "3989d989-84a3-45ad-b52b-36783a6ae5fa",
   "metadata": {},
   "source": [
    "## Tuple"
   ]
  },
  {
   "cell_type": "code",
   "execution_count": 119,
   "id": "e5450900-970b-4b2c-aabb-720a96248083",
   "metadata": {},
   "outputs": [
    {
     "name": "stdout",
     "output_type": "stream",
     "text": [
      "('a', 'b', 'c', 'd', 'e', 'a')\n"
     ]
    }
   ],
   "source": [
    "tup = (\"a\",\"b\",\"c\",\"d\",\"e\",\"a\") #tuple data cannot be changed\n",
    "print(tup)"
   ]
  },
  {
   "cell_type": "code",
   "execution_count": 120,
   "id": "e7cbf80d-c18a-4022-9f0e-cab6586a341b",
   "metadata": {},
   "outputs": [
    {
     "name": "stdout",
     "output_type": "stream",
     "text": [
      "[123, 'b', 'c', 'd', 'e', 'a']\n"
     ]
    }
   ],
   "source": [
    "list = [\"a\",\"b\",\"c\",\"d\",\"e\",\"a\"]\n",
    "list[0] = 123\n",
    "print(list)"
   ]
  },
  {
   "cell_type": "code",
   "execution_count": 121,
   "id": "af62f020-6cd6-4aca-8ba5-a93d86539c71",
   "metadata": {},
   "outputs": [
    {
     "data": {
      "text/plain": [
       "'a'"
      ]
     },
     "execution_count": 121,
     "metadata": {},
     "output_type": "execute_result"
    }
   ],
   "source": [
    "tup[0]"
   ]
  },
  {
   "cell_type": "code",
   "execution_count": 122,
   "id": "31e91548-5d22-4521-89c0-fd59ef4b1097",
   "metadata": {},
   "outputs": [
    {
     "ename": "TypeError",
     "evalue": "'tuple' object does not support item assignment",
     "output_type": "error",
     "traceback": [
      "\u001b[1;31m---------------------------------------------------------------------------\u001b[0m",
      "\u001b[1;31mTypeError\u001b[0m                                 Traceback (most recent call last)",
      "Cell \u001b[1;32mIn[122], line 1\u001b[0m\n\u001b[1;32m----> 1\u001b[0m tup[\u001b[38;5;241m0\u001b[39m] \u001b[38;5;241m=\u001b[39m \u001b[38;5;241m123\u001b[39m\n",
      "\u001b[1;31mTypeError\u001b[0m: 'tuple' object does not support item assignment"
     ]
    }
   ],
   "source": [
    "tup[0] = 123"
   ]
  },
  {
   "cell_type": "code",
   "execution_count": 123,
   "id": "e5ab503d-c4e4-4cc2-bfbc-c534f6f42bbe",
   "metadata": {},
   "outputs": [
    {
     "data": {
      "text/plain": [
       "2"
      ]
     },
     "execution_count": 123,
     "metadata": {},
     "output_type": "execute_result"
    }
   ],
   "source": [
    "tup.count('a')"
   ]
  },
  {
   "cell_type": "code",
   "execution_count": 124,
   "id": "7c7cbc33-c050-41be-b25d-f7326afaa8cc",
   "metadata": {},
   "outputs": [
    {
     "data": {
      "text/plain": [
       "0"
      ]
     },
     "execution_count": 124,
     "metadata": {},
     "output_type": "execute_result"
    }
   ],
   "source": [
    "tup.count('z')"
   ]
  },
  {
   "cell_type": "code",
   "execution_count": 125,
   "id": "14a628c3-3145-437f-8a8b-45937a236fc4",
   "metadata": {},
   "outputs": [
    {
     "data": {
      "text/plain": [
       "1"
      ]
     },
     "execution_count": 125,
     "metadata": {},
     "output_type": "execute_result"
    }
   ],
   "source": [
    "tup.index('b')"
   ]
  },
  {
   "cell_type": "code",
   "execution_count": 126,
   "id": "c38bf5ef-8d48-4d4c-acd5-fb6e3a167144",
   "metadata": {},
   "outputs": [
    {
     "ename": "NameError",
     "evalue": "name 'z' is not defined",
     "output_type": "error",
     "traceback": [
      "\u001b[1;31m---------------------------------------------------------------------------\u001b[0m",
      "\u001b[1;31mNameError\u001b[0m                                 Traceback (most recent call last)",
      "Cell \u001b[1;32mIn[126], line 1\u001b[0m\n\u001b[1;32m----> 1\u001b[0m tup\u001b[38;5;241m.\u001b[39mindex(\u001b[43mz\u001b[49m)\n",
      "\u001b[1;31mNameError\u001b[0m: name 'z' is not defined"
     ]
    }
   ],
   "source": [
    "tup.index(z) "
   ]
  },
  {
   "cell_type": "markdown",
   "id": "7b5661f9-c81b-422b-acc4-38895b15ab71",
   "metadata": {},
   "source": [
    "## Dictionary"
   ]
  },
  {
   "cell_type": "code",
   "execution_count": 128,
   "id": "9b2cf89b-6bf0-410d-862a-a61fd6be34ec",
   "metadata": {},
   "outputs": [
    {
     "data": {
      "text/plain": [
       "{'name': 'Jack', 'age': 23, 'location': 'Berlin'}"
      ]
     },
     "execution_count": 128,
     "metadata": {},
     "output_type": "execute_result"
    }
   ],
   "source": [
    "dic1 = {\"name\" : \"Jack\", \n",
    "        \"age\": 23, \n",
    "        \"location\": \"Berlin\"}\n",
    "dic1"
   ]
  },
  {
   "cell_type": "code",
   "execution_count": 129,
   "id": "28890d6c-0d62-44b1-a6d6-8fcb1680dcb7",
   "metadata": {},
   "outputs": [
    {
     "data": {
      "text/plain": [
       "{'name': 'Jack',\n",
       " 'age': 23,\n",
       " 'location': {'city of birth': 'Munich', 'city of residence': 'Berlin'}}"
      ]
     },
     "execution_count": 129,
     "metadata": {},
     "output_type": "execute_result"
    }
   ],
   "source": [
    "dic2 = {\"name\" : \"Jack\", \n",
    "        \"age\": 23, \n",
    "        \"location\": {\n",
    "            \"city of birth\" : \"Munich\",\n",
    "            \"city of residence\": \"Berlin\"}}\n",
    "dic2"
   ]
  },
  {
   "cell_type": "code",
   "execution_count": 130,
   "id": "7eb5f7ff-78b7-4afc-a157-19857c5c6a3a",
   "metadata": {},
   "outputs": [
    {
     "data": {
      "text/plain": [
       "23"
      ]
     },
     "execution_count": 130,
     "metadata": {},
     "output_type": "execute_result"
    }
   ],
   "source": [
    "dic2['age']"
   ]
  },
  {
   "cell_type": "code",
   "execution_count": 132,
   "id": "f15dc17a-155a-43ec-b8f7-c1c7dfb88851",
   "metadata": {},
   "outputs": [
    {
     "data": {
      "text/plain": [
       "{'city of birth': 'Munich', 'city of residence': 'Berlin'}"
      ]
     },
     "execution_count": 132,
     "metadata": {},
     "output_type": "execute_result"
    }
   ],
   "source": [
    "dic2['location']"
   ]
  },
  {
   "cell_type": "code",
   "execution_count": 133,
   "id": "edcef51a-aebd-4444-a010-811119264123",
   "metadata": {},
   "outputs": [
    {
     "data": {
      "text/plain": [
       "'Munich'"
      ]
     },
     "execution_count": 133,
     "metadata": {},
     "output_type": "execute_result"
    }
   ],
   "source": [
    "dic2['location']['city of birth']"
   ]
  },
  {
   "cell_type": "code",
   "execution_count": 134,
   "id": "7e01a3ca-9e5e-41d2-bd5f-e18af2fd2200",
   "metadata": {},
   "outputs": [
    {
     "data": {
      "text/plain": [
       "23"
      ]
     },
     "execution_count": 134,
     "metadata": {},
     "output_type": "execute_result"
    }
   ],
   "source": [
    "dic2.get('age')"
   ]
  },
  {
   "cell_type": "code",
   "execution_count": 136,
   "id": "8088dc5b-daaa-4dc8-b943-5ce63ac57416",
   "metadata": {},
   "outputs": [
    {
     "data": {
      "text/plain": [
       "'Munich'"
      ]
     },
     "execution_count": 136,
     "metadata": {},
     "output_type": "execute_result"
    }
   ],
   "source": [
    "dic2.get('location').get('city of birth')"
   ]
  },
  {
   "cell_type": "code",
   "execution_count": 137,
   "id": "8b6cabba-3870-4f18-b774-bd747ff29b75",
   "metadata": {},
   "outputs": [
    {
     "data": {
      "text/plain": [
       "dict_keys(['name', 'age', 'location'])"
      ]
     },
     "execution_count": 137,
     "metadata": {},
     "output_type": "execute_result"
    }
   ],
   "source": [
    "dic2.keys()"
   ]
  },
  {
   "cell_type": "code",
   "execution_count": 138,
   "id": "92e6df40-cb86-4d3a-b01a-8cc70af11ffa",
   "metadata": {},
   "outputs": [
    {
     "data": {
      "text/plain": [
       "dict_values(['Jack', 23, {'city of birth': 'Munich', 'city of residence': 'Berlin'}])"
      ]
     },
     "execution_count": 138,
     "metadata": {},
     "output_type": "execute_result"
    }
   ],
   "source": [
    "dic2.values()"
   ]
  },
  {
   "cell_type": "code",
   "execution_count": 140,
   "id": "4d91f0a8-f51a-4244-8b96-7ad01fbdef4f",
   "metadata": {},
   "outputs": [
    {
     "data": {
      "text/plain": [
       "dict_items([('name', 'Jack'), ('age', 23), ('location', {'city of birth': 'Munich', 'city of residence': 'Berlin'})])"
      ]
     },
     "execution_count": 140,
     "metadata": {},
     "output_type": "execute_result"
    }
   ],
   "source": [
    "dic2.items()"
   ]
  }
 ],
 "metadata": {
  "kernelspec": {
   "display_name": "Python 3 (ipykernel)",
   "language": "python",
   "name": "python3"
  },
  "language_info": {
   "codemirror_mode": {
    "name": "ipython",
    "version": 3
   },
   "file_extension": ".py",
   "mimetype": "text/x-python",
   "name": "python",
   "nbconvert_exporter": "python",
   "pygments_lexer": "ipython3",
   "version": "3.10.9"
  }
 },
 "nbformat": 4,
 "nbformat_minor": 5
}
