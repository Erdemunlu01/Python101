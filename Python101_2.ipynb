{
 "cells": [
  {
   "cell_type": "markdown",
   "id": "b5cc0d87-490c-49fa-b294-d70c1d514743",
   "metadata": {},
   "source": [
    "# PYTHON 101 PART 3"
   ]
  },
  {
   "cell_type": "markdown",
   "id": "494bf5de-967a-405a-a15d-e0176dfb5d9b",
   "metadata": {},
   "source": [
    "## Functions"
   ]
  },
  {
   "cell_type": "code",
   "execution_count": 1,
   "id": "d2fedcdc-8df7-492f-9aa2-da7a85df205d",
   "metadata": {},
   "outputs": [
    {
     "name": "stdout",
     "output_type": "stream",
     "text": [
      "5\n"
     ]
    }
   ],
   "source": [
    "def five_print():\n",
    "    print(5)\n",
    "five_print()"
   ]
  },
  {
   "cell_type": "code",
   "execution_count": 2,
   "id": "3a3f23eb-6e76-4b39-87f0-5ddefcde7ba7",
   "metadata": {},
   "outputs": [
    {
     "name": "stdout",
     "output_type": "stream",
     "text": [
      "5\n"
     ]
    }
   ],
   "source": [
    "def five_return():\n",
    "    return 5\n",
    "five_print()"
   ]
  },
  {
   "cell_type": "code",
   "execution_count": 3,
   "id": "145fecc0-13b7-4bc5-8838-38709911934f",
   "metadata": {},
   "outputs": [
    {
     "name": "stdout",
     "output_type": "stream",
     "text": [
      "5\n",
      "None\n"
     ]
    }
   ],
   "source": [
    "a = five_print()\n",
    "print(a)"
   ]
  },
  {
   "cell_type": "code",
   "execution_count": 4,
   "id": "329eca78-d978-4f90-9d6c-07b5b809046a",
   "metadata": {},
   "outputs": [
    {
     "name": "stdout",
     "output_type": "stream",
     "text": [
      "5\n"
     ]
    }
   ],
   "source": [
    "b = five_return()\n",
    "print(b)"
   ]
  },
  {
   "cell_type": "code",
   "execution_count": 5,
   "id": "71715b12-8753-4e7d-960d-5f56b945a081",
   "metadata": {},
   "outputs": [
    {
     "data": {
      "text/plain": [
       "6"
      ]
     },
     "execution_count": 5,
     "metadata": {},
     "output_type": "execute_result"
    }
   ],
   "source": [
    "def number_return(number):\n",
    "    return number\n",
    "number_return(6)"
   ]
  },
  {
   "cell_type": "code",
   "execution_count": 6,
   "id": "63349df4-fa39-4196-b100-a04bd0d84d90",
   "metadata": {},
   "outputs": [
    {
     "data": {
      "text/plain": [
       "'asf'"
      ]
     },
     "execution_count": 6,
     "metadata": {},
     "output_type": "execute_result"
    }
   ],
   "source": [
    "number_return('asf')"
   ]
  },
  {
   "cell_type": "code",
   "execution_count": 8,
   "id": "67c523d8-8256-4998-bb62-2be123ae5de2",
   "metadata": {},
   "outputs": [
    {
     "data": {
      "text/plain": [
       "10"
      ]
     },
     "execution_count": 8,
     "metadata": {},
     "output_type": "execute_result"
    }
   ],
   "source": [
    "def number_return1(number=10):\n",
    "    return number #default argument\n",
    "number_return1()"
   ]
  },
  {
   "cell_type": "code",
   "execution_count": 9,
   "id": "b2d55203-a03f-4158-80a1-aaa9da9075d0",
   "metadata": {},
   "outputs": [
    {
     "data": {
      "text/plain": [
       "213"
      ]
     },
     "execution_count": 9,
     "metadata": {},
     "output_type": "execute_result"
    }
   ],
   "source": [
    "number_return1(213)"
   ]
  },
  {
   "cell_type": "code",
   "execution_count": 11,
   "id": "fe32373f-4bfa-4210-ab25-d6500dae0917",
   "metadata": {},
   "outputs": [
    {
     "data": {
      "text/plain": [
       "4"
      ]
     },
     "execution_count": 11,
     "metadata": {},
     "output_type": "execute_result"
    }
   ],
   "source": [
    "def big_number_return(number1,number2):\n",
    "    if number1>number2:\n",
    "        return number1\n",
    "    else:\n",
    "        return number2\n",
    "     \n",
    "big_number_return(3,4)"
   ]
  },
  {
   "cell_type": "code",
   "execution_count": 12,
   "id": "ed757487-4476-448c-a06e-8f3b6facce7e",
   "metadata": {},
   "outputs": [
    {
     "data": {
      "text/plain": [
       "3"
      ]
     },
     "execution_count": 12,
     "metadata": {},
     "output_type": "execute_result"
    }
   ],
   "source": [
    "def re_number_return(number1,number2):\n",
    "    return number1\n",
    "    return number2\n",
    "\n",
    "re_number_return(3,7)\n",
    "#sees the first return"
   ]
  },
  {
   "cell_type": "code",
   "execution_count": 14,
   "id": "0ecc64bc-15e5-40cc-aac9-eca6734739ef",
   "metadata": {},
   "outputs": [
    {
     "data": {
      "text/plain": [
       "'9 is bigger'"
      ]
     },
     "execution_count": 14,
     "metadata": {},
     "output_type": "execute_result"
    }
   ],
   "source": [
    "def print_text(a,b):\n",
    "    big_number = big_number_return(a,b)\n",
    "    template_text = \"{} is bigger\".format(big_number)\n",
    "    return template_text\n",
    "\n",
    "print_text(4,9)"
   ]
  },
  {
   "cell_type": "code",
   "execution_count": 18,
   "id": "5711636c-da69-420c-b926-662f707df93a",
   "metadata": {},
   "outputs": [
    {
     "data": {
      "text/plain": [
       "('Erdem', 'Ünlü')"
      ]
     },
     "execution_count": 18,
     "metadata": {},
     "output_type": "execute_result"
    }
   ],
   "source": [
    "def name_surname_split(name_surname):\n",
    "    name = name_surname.split()[0]\n",
    "    surname = name_surname.split()[1]\n",
    "    return name, surname\n",
    "name_surname_split('Erdem Ünlü')"
   ]
  },
  {
   "cell_type": "code",
   "execution_count": 19,
   "id": "c63c559b-541b-4fde-a895-530e01188437",
   "metadata": {},
   "outputs": [
    {
     "name": "stdout",
     "output_type": "stream",
     "text": [
      "Erdem\n",
      "Ünlü\n"
     ]
    }
   ],
   "source": [
    "a,b = name_surname_split('Erdem Ünlü')\n",
    "print(a)\n",
    "print(b)"
   ]
  },
  {
   "cell_type": "code",
   "execution_count": 23,
   "id": "5ccced47-2781-41bc-8df9-26b9438c5fdf",
   "metadata": {},
   "outputs": [
    {
     "data": {
      "text/plain": [
       "'Erdem Ünlü'"
      ]
     },
     "execution_count": 23,
     "metadata": {},
     "output_type": "execute_result"
    }
   ],
   "source": [
    "def name_surname_join(name, surname):\n",
    "    a = \" \".join([name,surname])\n",
    "    return a\n",
    "name_surname_join(\"Erdem\",\"Ünlü\")"
   ]
  },
  {
   "cell_type": "code",
   "execution_count": 24,
   "id": "df57c99a-5af5-43be-8fc7-bf03cf1f5cf1",
   "metadata": {},
   "outputs": [
    {
     "ename": "TypeError",
     "evalue": "name_surname_join() takes 2 positional arguments but 3 were given",
     "output_type": "error",
     "traceback": [
      "\u001b[1;31m---------------------------------------------------------------------------\u001b[0m",
      "\u001b[1;31mTypeError\u001b[0m                                 Traceback (most recent call last)",
      "Cell \u001b[1;32mIn[24], line 1\u001b[0m\n\u001b[1;32m----> 1\u001b[0m \u001b[43mname_surname_join\u001b[49m\u001b[43m(\u001b[49m\u001b[38;5;124;43m\"\u001b[39;49m\u001b[38;5;124;43mErdem\u001b[39;49m\u001b[38;5;124;43m\"\u001b[39;49m\u001b[43m,\u001b[49m\u001b[38;5;124;43m\"\u001b[39;49m\u001b[38;5;124;43mVeli\u001b[39;49m\u001b[38;5;124;43m\"\u001b[39;49m\u001b[43m,\u001b[49m\u001b[38;5;124;43m\"\u001b[39;49m\u001b[38;5;124;43mÜnlü\u001b[39;49m\u001b[38;5;124;43m\"\u001b[39;49m\u001b[43m)\u001b[49m\n",
      "\u001b[1;31mTypeError\u001b[0m: name_surname_join() takes 2 positional arguments but 3 were given"
     ]
    }
   ],
   "source": [
    "name_surname_join(\"Erdem\",\"Veli\",\"Ünlü\")"
   ]
  },
  {
   "cell_type": "code",
   "execution_count": 27,
   "id": "bf317d39-e9e7-4a3e-a46b-c60a90eac439",
   "metadata": {},
   "outputs": [
    {
     "data": {
      "text/plain": [
       "'Erdem Veli Ünlü'"
      ]
     },
     "execution_count": 27,
     "metadata": {},
     "output_type": "execute_result"
    }
   ],
   "source": [
    "def name_surname_join1(*args): # args command is used to combine unlimited values as desired.\n",
    "    a = \" \".join(args)\n",
    "    return a\n",
    "name_surname_join1(\"Erdem\",\"Veli\",\"Ünlü\")"
   ]
  },
  {
   "cell_type": "code",
   "execution_count": 29,
   "id": "bb06eec9-57aa-41da-9b58-12c39956b6c9",
   "metadata": {},
   "outputs": [
    {
     "name": "stdout",
     "output_type": "stream",
     "text": [
      "Erdem\n",
      "Veli\n",
      "Ünlü\n"
     ]
    },
    {
     "data": {
      "text/plain": [
       "'Erdem Veli Ünlü'"
      ]
     },
     "execution_count": 29,
     "metadata": {},
     "output_type": "execute_result"
    }
   ],
   "source": [
    "def name_surname_join2(*args): # args command is used to combine unlimited values as desired.\n",
    "    for i in args:\n",
    "        print(i)\n",
    "    a = \" \".join(args)\n",
    "    return a\n",
    "name_surname_join2(\"Erdem\",\"Veli\",\"Ünlü\")"
   ]
  },
  {
   "cell_type": "code",
   "execution_count": 30,
   "id": "963621f4-a4ea-4301-aebc-c70c171dd2b7",
   "metadata": {},
   "outputs": [
    {
     "ename": "TypeError",
     "evalue": "print_middle_name() takes 0 positional arguments but 3 were given",
     "output_type": "error",
     "traceback": [
      "\u001b[1;31m---------------------------------------------------------------------------\u001b[0m",
      "\u001b[1;31mTypeError\u001b[0m                                 Traceback (most recent call last)",
      "Cell \u001b[1;32mIn[30], line 6\u001b[0m\n\u001b[0;32m      4\u001b[0m     \u001b[38;5;28;01melse\u001b[39;00m:\n\u001b[0;32m      5\u001b[0m         \u001b[38;5;28mprint\u001b[39m(\u001b[38;5;124m\"\u001b[39m\u001b[38;5;124mnot have middle name\u001b[39m\u001b[38;5;124m\"\u001b[39m)\n\u001b[1;32m----> 6\u001b[0m \u001b[43mprint_middle_name\u001b[49m\u001b[43m(\u001b[49m\u001b[38;5;241;43m1\u001b[39;49m\u001b[43m,\u001b[49m\u001b[38;5;241;43m2\u001b[39;49m\u001b[43m,\u001b[49m\u001b[38;5;241;43m3\u001b[39;49m\u001b[43m)\u001b[49m\n",
      "\u001b[1;31mTypeError\u001b[0m: print_middle_name() takes 0 positional arguments but 3 were given"
     ]
    }
   ],
   "source": [
    "def print_middle_name(**kwargs):\n",
    "    if \"middleName\" in kwargs:\n",
    "        print(kwargs[\"middleName\"])\n",
    "    else:\n",
    "        print(\"not have middle name\")\n",
    "print_middle_name(1,2,3)"
   ]
  },
  {
   "cell_type": "code",
   "execution_count": 31,
   "id": "5d480340-ab11-4c7d-ab86-5e11348bece8",
   "metadata": {},
   "outputs": [
    {
     "name": "stdout",
     "output_type": "stream",
     "text": [
      "Veli\n"
     ]
    }
   ],
   "source": [
    "print_middle_name(name= \"Erdem\", middleName = \"Veli\", surname=\"Ünlü\")"
   ]
  },
  {
   "cell_type": "code",
   "execution_count": 32,
   "id": "3663a160-59a4-4041-990f-167b6956a505",
   "metadata": {},
   "outputs": [
    {
     "name": "stdout",
     "output_type": "stream",
     "text": [
      "not have middle name\n"
     ]
    }
   ],
   "source": [
    "print_middle_name(name= \"Erdem\", surname=\"Ünlü\")"
   ]
  },
  {
   "cell_type": "markdown",
   "id": "56aa58ac-6ab3-452d-af25-c5241553c93c",
   "metadata": {},
   "source": [
    "## Map, Filter, lamda"
   ]
  },
  {
   "cell_type": "code",
   "execution_count": 33,
   "id": "08e1d70b-fa9c-43ea-a26d-b77b42485636",
   "metadata": {},
   "outputs": [
    {
     "data": {
      "text/plain": [
       "25"
      ]
     },
     "execution_count": 33,
     "metadata": {},
     "output_type": "execute_result"
    }
   ],
   "source": [
    "def take_square(x):\n",
    "    return x**2\n",
    "take_square(5)"
   ]
  },
  {
   "cell_type": "code",
   "execution_count": 34,
   "id": "d2f1e142-b561-4805-8847-68606c0aea26",
   "metadata": {},
   "outputs": [
    {
     "data": {
      "text/plain": [
       "[1, 2, 3, 4, 5]"
      ]
     },
     "execution_count": 34,
     "metadata": {},
     "output_type": "execute_result"
    }
   ],
   "source": [
    "numbers = [*range(1,6)]\n",
    "numbers"
   ]
  },
  {
   "cell_type": "code",
   "execution_count": 36,
   "id": "71ec418f-2e55-4755-bf9e-3149bc698250",
   "metadata": {},
   "outputs": [
    {
     "name": "stdout",
     "output_type": "stream",
     "text": [
      "[1, 4, 9, 16, 25]\n"
     ]
    }
   ],
   "source": [
    "for i in range(len(numbers)):\n",
    "    numbers[i] = take_square(numbers[i])\n",
    "print(numbers)"
   ]
  },
  {
   "cell_type": "code",
   "execution_count": 38,
   "id": "df7e45fd-9ae5-47c5-9756-e28d889ff3af",
   "metadata": {},
   "outputs": [
    {
     "data": {
      "text/plain": [
       "[1, 4, 9, 16, 25]"
      ]
     },
     "execution_count": 38,
     "metadata": {},
     "output_type": "execute_result"
    }
   ],
   "source": [
    "numbers = [*range(1,6)]\n",
    "[*map(take_square, numbers)]"
   ]
  },
  {
   "cell_type": "code",
   "execution_count": 39,
   "id": "eac15eb8-f9e1-4637-9863-ddc7275ea159",
   "metadata": {},
   "outputs": [
    {
     "data": {
      "text/plain": [
       "4"
      ]
     },
     "execution_count": 39,
     "metadata": {},
     "output_type": "execute_result"
    }
   ],
   "source": [
    "def even_numbers(x):\n",
    "    if x%2==0:\n",
    "        return x\n",
    "even_numbers(4) "
   ]
  },
  {
   "cell_type": "code",
   "execution_count": 40,
   "id": "75d8ff41-7381-457e-a3cf-d8860c79932f",
   "metadata": {},
   "outputs": [],
   "source": [
    "even_numbers(5) "
   ]
  },
  {
   "cell_type": "code",
   "execution_count": 46,
   "id": "c83f06f5-3564-42ac-aa92-caf3b02385d6",
   "metadata": {},
   "outputs": [
    {
     "data": {
      "text/plain": [
       "4"
      ]
     },
     "execution_count": 46,
     "metadata": {},
     "output_type": "execute_result"
    }
   ],
   "source": [
    "def even_numbers(x):\n",
    "    return x if x%2==0 else None\n",
    "even_numbers(4) "
   ]
  },
  {
   "cell_type": "code",
   "execution_count": 47,
   "id": "4f5fde9d-b06f-4b19-8af2-c97552422871",
   "metadata": {},
   "outputs": [
    {
     "data": {
      "text/plain": [
       "[2, 4]"
      ]
     },
     "execution_count": 47,
     "metadata": {},
     "output_type": "execute_result"
    }
   ],
   "source": [
    "numbers = [*range(1,6)]\n",
    "[*filter(even_numbers, numbers)]"
   ]
  },
  {
   "cell_type": "code",
   "execution_count": 50,
   "id": "83668d39-cc9d-448b-ac96-0f2fb098bcab",
   "metadata": {},
   "outputs": [
    {
     "data": {
      "text/plain": [
       "[1, 4, 9, 16, 25]"
      ]
     },
     "execution_count": 50,
     "metadata": {},
     "output_type": "execute_result"
    }
   ],
   "source": [
    "numbers = [*range(1,6)]\n",
    "[*map(lambda x: x**2, numbers)]"
   ]
  },
  {
   "cell_type": "code",
   "execution_count": 51,
   "id": "6788df14-6e8d-447c-9d36-cf4b7959912c",
   "metadata": {},
   "outputs": [
    {
     "data": {
      "text/plain": [
       "[2, 4]"
      ]
     },
     "execution_count": 51,
     "metadata": {},
     "output_type": "execute_result"
    }
   ],
   "source": [
    "numbers = [*range(1,6)]\n",
    "[*filter(lambda x: x if x%2==0 else None, numbers)]"
   ]
  },
  {
   "cell_type": "markdown",
   "id": "879f5b0d-5457-42ec-9c6e-0129d7490ba7",
   "metadata": {},
   "source": [
    "## input"
   ]
  },
  {
   "cell_type": "code",
   "execution_count": 53,
   "id": "2470a6db-a267-4860-8d28-77a8045c54b2",
   "metadata": {},
   "outputs": [
    {
     "name": "stdin",
     "output_type": "stream",
     "text": [
      "enter a number:  4\n"
     ]
    },
    {
     "data": {
      "text/plain": [
       "'4'"
      ]
     },
     "execution_count": 53,
     "metadata": {},
     "output_type": "execute_result"
    }
   ],
   "source": [
    "input(\"enter a number: \")"
   ]
  },
  {
   "cell_type": "code",
   "execution_count": 54,
   "id": "a0c742b1-a7de-4c90-96e8-8d409d4a97c7",
   "metadata": {},
   "outputs": [
    {
     "name": "stdin",
     "output_type": "stream",
     "text": [
      "enter a number:  34\n"
     ]
    },
    {
     "data": {
      "text/plain": [
       "'34'"
      ]
     },
     "execution_count": 54,
     "metadata": {},
     "output_type": "execute_result"
    }
   ],
   "source": [
    "a = input(\"enter a number: \")\n",
    "a"
   ]
  },
  {
   "cell_type": "code",
   "execution_count": 55,
   "id": "b990e5eb-7a5b-432d-bd09-02316164edfa",
   "metadata": {},
   "outputs": [
    {
     "name": "stdin",
     "output_type": "stream",
     "text": [
      "enter a number:  98\n"
     ]
    },
    {
     "data": {
      "text/plain": [
       "str"
      ]
     },
     "execution_count": 55,
     "metadata": {},
     "output_type": "execute_result"
    }
   ],
   "source": [
    "a = input(\"enter a number: \")\n",
    "type(a)"
   ]
  },
  {
   "cell_type": "code",
   "execution_count": 57,
   "id": "5fa9db86-459d-41c7-ab85-f33e7fabaf80",
   "metadata": {},
   "outputs": [
    {
     "name": "stdin",
     "output_type": "stream",
     "text": [
      "enter a number:  24\n"
     ]
    },
    {
     "data": {
      "text/plain": [
       "int"
      ]
     },
     "execution_count": 57,
     "metadata": {},
     "output_type": "execute_result"
    }
   ],
   "source": [
    "a = int(input(\"enter a number: \"))\n",
    "type(a)"
   ]
  },
  {
   "cell_type": "code",
   "execution_count": 63,
   "id": "5ac39ff1-e265-4996-9cd3-7867ca35bebc",
   "metadata": {},
   "outputs": [
    {
     "name": "stdin",
     "output_type": "stream",
     "text": [
      "enter a number:  3\n",
      "Is the data odd or even?:  odd\n"
     ]
    },
    {
     "data": {
      "text/plain": [
       "'true, it is odd'"
      ]
     },
     "execution_count": 63,
     "metadata": {},
     "output_type": "execute_result"
    }
   ],
   "source": [
    "def example1():\n",
    "    a = int(input(\"enter a number: \"))\n",
    "    process = input(\"Is the data odd or even?: \")\n",
    "    \n",
    "    if process == \"even\":\n",
    "        if a%2==0:\n",
    "            return 'true, it is even'\n",
    "        else:\n",
    "            return 'wrong, odd'\n",
    "    elif process == 'odd':\n",
    "        if a%2==1:\n",
    "            return 'true, it is odd'\n",
    "        else:\n",
    "            return 'wrong, even'\n",
    "\n",
    "example1()"
   ]
  },
  {
   "cell_type": "code",
   "execution_count": 64,
   "id": "0448f372-36c4-4314-85ff-7fe34a1c4c65",
   "metadata": {},
   "outputs": [
    {
     "name": "stdin",
     "output_type": "stream",
     "text": [
      "enter a number:  4\n",
      "Is the data odd or even?:  odd\n"
     ]
    },
    {
     "data": {
      "text/plain": [
       "'wrong, even'"
      ]
     },
     "execution_count": 64,
     "metadata": {},
     "output_type": "execute_result"
    }
   ],
   "source": [
    "example1()"
   ]
  },
  {
   "cell_type": "code",
   "execution_count": 71,
   "id": "c02f492f-8028-4a0e-bd62-74cce4be5f78",
   "metadata": {},
   "outputs": [],
   "source": [
    "def example2():\n",
    "    a = input(\"enter a number: \")\n",
    "    if a.isdigit():\n",
    "        print('it is a number')\n",
    "    else:\n",
    "        print('it is not a number')"
   ]
  },
  {
   "cell_type": "code",
   "execution_count": 74,
   "id": "a3f9e1b9-6669-4674-8c76-8d5a47c799b4",
   "metadata": {},
   "outputs": [
    {
     "name": "stdin",
     "output_type": "stream",
     "text": [
      "enter a number:  34\n"
     ]
    },
    {
     "name": "stdout",
     "output_type": "stream",
     "text": [
      "it is a number\n"
     ]
    }
   ],
   "source": [
    "example2()"
   ]
  },
  {
   "cell_type": "code",
   "execution_count": 77,
   "id": "9d56a730-e756-4134-9b92-5293033e1fc8",
   "metadata": {},
   "outputs": [
    {
     "name": "stdin",
     "output_type": "stream",
     "text": [
      "enter a number:  da\n"
     ]
    },
    {
     "name": "stdout",
     "output_type": "stream",
     "text": [
      "it is not a number\n"
     ]
    }
   ],
   "source": [
    "example2()"
   ]
  },
  {
   "cell_type": "code",
   "execution_count": 78,
   "id": "984ddc62-48bc-4d76-9697-6fd5a58d5879",
   "metadata": {},
   "outputs": [],
   "source": [
    "def example3():\n",
    "    a = input(\"enter a number: \")\n",
    "    while not a.isdigit():\n",
    "        print(\"pls, enter a number\")\n",
    "        a = input(\"enter a number: \")\n",
    "    else:\n",
    "        print('it is not a number')"
   ]
  },
  {
   "cell_type": "code",
   "execution_count": 79,
   "id": "2a6cad58-1302-4c11-b520-61e55f90886a",
   "metadata": {},
   "outputs": [
    {
     "name": "stdin",
     "output_type": "stream",
     "text": [
      "enter a number:  asd\n"
     ]
    },
    {
     "name": "stdout",
     "output_type": "stream",
     "text": [
      "pls, enter a number\n"
     ]
    },
    {
     "name": "stdin",
     "output_type": "stream",
     "text": [
      "enter a number:  24\n"
     ]
    },
    {
     "name": "stdout",
     "output_type": "stream",
     "text": [
      "it is not a number\n"
     ]
    }
   ],
   "source": [
    "example3()"
   ]
  },
  {
   "cell_type": "code",
   "execution_count": 91,
   "id": "d4df8f5a-0bb1-4f96-ae38-8d31f4396038",
   "metadata": {},
   "outputs": [],
   "source": [
    "def email_cont():\n",
    "    a = input('enter valid email: ')\n",
    "    while not (('@' in a) and ('.' in a)):\n",
    "        print('pls,enter valid email')\n",
    "        a = input('enter valid email: ')\n",
    "    else:\n",
    "        print('Confirm your email: {}'.format(a))"
   ]
  },
  {
   "cell_type": "code",
   "execution_count": 92,
   "id": "c62bc93b-ac47-4be8-a4e5-6a45c36aa32f",
   "metadata": {},
   "outputs": [
    {
     "name": "stdin",
     "output_type": "stream",
     "text": [
      "enter valid email:  fe\n"
     ]
    },
    {
     "name": "stdout",
     "output_type": "stream",
     "text": [
      "pls,enter valid email\n"
     ]
    },
    {
     "name": "stdin",
     "output_type": "stream",
     "text": [
      "enter valid email:  erdem@gmail.com\n"
     ]
    },
    {
     "name": "stdout",
     "output_type": "stream",
     "text": [
      "Confirm your email: erdem@gmail.com\n"
     ]
    }
   ],
   "source": [
    "email_cont()"
   ]
  },
  {
   "cell_type": "markdown",
   "id": "3cd848e5-2557-4717-802b-d8e7f6439d7b",
   "metadata": {},
   "source": [
    "## Try, Except, Finally"
   ]
  },
  {
   "cell_type": "code",
   "execution_count": 94,
   "id": "7a604d9e-357c-4ef7-b9b7-7b3170517bf6",
   "metadata": {},
   "outputs": [
    {
     "name": "stdout",
     "output_type": "stream",
     "text": [
      "1\n",
      "2\n"
     ]
    }
   ],
   "source": [
    "print(round(1.3))\n",
    "print(round(1.7))"
   ]
  },
  {
   "cell_type": "code",
   "execution_count": 99,
   "id": "e7c8790d-f15f-49be-8901-34670b773130",
   "metadata": {},
   "outputs": [],
   "source": [
    "def convert_integer():\n",
    "    a = input('enter decimal number: ')\n",
    "    \n",
    "    print('Your integer is: {}'.format(round(float(a))))"
   ]
  },
  {
   "cell_type": "code",
   "execution_count": 100,
   "id": "0d5348c1-ec9e-4d38-9755-e7612a7173fd",
   "metadata": {},
   "outputs": [
    {
     "name": "stdin",
     "output_type": "stream",
     "text": [
      "enter decimal number:  636.5646\n"
     ]
    },
    {
     "name": "stdout",
     "output_type": "stream",
     "text": [
      "Your integer is: 637\n"
     ]
    }
   ],
   "source": [
    "convert_integer()"
   ]
  },
  {
   "cell_type": "code",
   "execution_count": 101,
   "id": "57f74b44-f793-409f-a8d7-15b4098e51c3",
   "metadata": {},
   "outputs": [
    {
     "name": "stdin",
     "output_type": "stream",
     "text": [
      "enter decimal number:  afs\n"
     ]
    },
    {
     "ename": "ValueError",
     "evalue": "could not convert string to float: 'afs'",
     "output_type": "error",
     "traceback": [
      "\u001b[1;31m---------------------------------------------------------------------------\u001b[0m",
      "\u001b[1;31mValueError\u001b[0m                                Traceback (most recent call last)",
      "Cell \u001b[1;32mIn[101], line 1\u001b[0m\n\u001b[1;32m----> 1\u001b[0m \u001b[43mconvert_integer\u001b[49m\u001b[43m(\u001b[49m\u001b[43m)\u001b[49m\n",
      "Cell \u001b[1;32mIn[99], line 4\u001b[0m, in \u001b[0;36mconvert_integer\u001b[1;34m()\u001b[0m\n\u001b[0;32m      1\u001b[0m \u001b[38;5;28;01mdef\u001b[39;00m \u001b[38;5;21mconvert_integer\u001b[39m():\n\u001b[0;32m      2\u001b[0m     a \u001b[38;5;241m=\u001b[39m \u001b[38;5;28minput\u001b[39m(\u001b[38;5;124m'\u001b[39m\u001b[38;5;124menter decimal number: \u001b[39m\u001b[38;5;124m'\u001b[39m)\n\u001b[1;32m----> 4\u001b[0m     \u001b[38;5;28mprint\u001b[39m(\u001b[38;5;124m'\u001b[39m\u001b[38;5;124mYour integer is: \u001b[39m\u001b[38;5;132;01m{}\u001b[39;00m\u001b[38;5;124m'\u001b[39m\u001b[38;5;241m.\u001b[39mformat(\u001b[38;5;28mround\u001b[39m(\u001b[38;5;28;43mfloat\u001b[39;49m\u001b[43m(\u001b[49m\u001b[43ma\u001b[49m\u001b[43m)\u001b[49m)))\n",
      "\u001b[1;31mValueError\u001b[0m: could not convert string to float: 'afs'"
     ]
    }
   ],
   "source": [
    "convert_integer()"
   ]
  },
  {
   "cell_type": "code",
   "execution_count": 103,
   "id": "da03199c-cd67-4786-9672-231237d930be",
   "metadata": {},
   "outputs": [],
   "source": [
    "def convert_integer1():\n",
    "    a = input('enter decimal number: ')\n",
    "    \n",
    "    try:\n",
    "        a = float(a)\n",
    "        print('Your integer is: {}'.format(round(float(a))))\n",
    "    except:\n",
    "        print('{} do not convert to integer'.format(a))\n",
    "    "
   ]
  },
  {
   "cell_type": "code",
   "execution_count": 105,
   "id": "5f58c844-d234-4b98-b8ae-2cf8a5e268cd",
   "metadata": {},
   "outputs": [
    {
     "name": "stdin",
     "output_type": "stream",
     "text": [
      "enter decimal number:  23.6444\n"
     ]
    },
    {
     "name": "stdout",
     "output_type": "stream",
     "text": [
      "Your integer is: 24\n"
     ]
    }
   ],
   "source": [
    "convert_integer1()"
   ]
  },
  {
   "cell_type": "code",
   "execution_count": 106,
   "id": "1b9ff99d-8fc2-4db1-a819-2817d757c40c",
   "metadata": {},
   "outputs": [
    {
     "name": "stdin",
     "output_type": "stream",
     "text": [
      "enter decimal number:  asf\n"
     ]
    },
    {
     "name": "stdout",
     "output_type": "stream",
     "text": [
      "asf do not convert to integer\n"
     ]
    }
   ],
   "source": [
    "convert_integer1()"
   ]
  },
  {
   "cell_type": "code",
   "execution_count": 107,
   "id": "99d31dd2-ad45-445b-ada3-87926554b34c",
   "metadata": {},
   "outputs": [],
   "source": [
    "def convert_integer2():\n",
    "    a = input('enter decimal number: ')\n",
    "    \n",
    "    try:\n",
    "        a = float(a)\n",
    "    except:\n",
    "        print('{} do not convert to integer'.format(a))\n",
    "    else:\n",
    "        print('Your integer is: {}'.format(round(float(a))))"
   ]
  },
  {
   "cell_type": "code",
   "execution_count": 108,
   "id": "5f2b4864-609a-4a44-ba3f-9fa760b9cdbd",
   "metadata": {},
   "outputs": [
    {
     "name": "stdin",
     "output_type": "stream",
     "text": [
      "enter decimal number:  ewt\n"
     ]
    },
    {
     "name": "stdout",
     "output_type": "stream",
     "text": [
      "ewt do not convert to integer\n"
     ]
    }
   ],
   "source": [
    "convert_integer2()"
   ]
  },
  {
   "cell_type": "code",
   "execution_count": 109,
   "id": "0f80b694-a6dc-4cab-9c78-4427c4f3c48c",
   "metadata": {},
   "outputs": [],
   "source": [
    "def convert_integer3():\n",
    "    a = input('enter decimal number: ')\n",
    "    status = ''\n",
    "    try:\n",
    "        a = float(a)\n",
    "        print('Your integer is: {}'.format(round(float(a))))\n",
    "        status = 'successful'\n",
    "    except:\n",
    "        print('{} do not convert to integer'.format(a))\n",
    "        status = 'unsuccessful'\n",
    "    finally:\n",
    "        print('it is {}'.format(status))"
   ]
  },
  {
   "cell_type": "code",
   "execution_count": 110,
   "id": "17c3258a-3b53-41c7-80a8-a325d67dff79",
   "metadata": {},
   "outputs": [
    {
     "name": "stdin",
     "output_type": "stream",
     "text": [
      "enter decimal number:  45.56\n"
     ]
    },
    {
     "name": "stdout",
     "output_type": "stream",
     "text": [
      "Your integer is: 46\n",
      "it is successful\n"
     ]
    }
   ],
   "source": [
    "convert_integer3()"
   ]
  },
  {
   "cell_type": "code",
   "execution_count": 111,
   "id": "b6f4e2f6-3667-4d14-a325-cc6c4dff2e63",
   "metadata": {},
   "outputs": [
    {
     "name": "stdin",
     "output_type": "stream",
     "text": [
      "enter decimal number:  af\n"
     ]
    },
    {
     "name": "stdout",
     "output_type": "stream",
     "text": [
      "af do not convert to integer\n",
      "it is unsuccessful\n"
     ]
    }
   ],
   "source": [
    "convert_integer3()"
   ]
  },
  {
   "cell_type": "code",
   "execution_count": 113,
   "id": "3d8e4b5f-553f-48a6-8ed1-e83887839bdc",
   "metadata": {},
   "outputs": [],
   "source": [
    "def convert_integer4():\n",
    "    while True:\n",
    "        a = input('enter decimal number: ')\n",
    "        \n",
    "        try:\n",
    "            a = float(a)\n",
    "            print('Your integer is: {}'.format(round(float(a))))\n",
    "            \n",
    "            break\n",
    "        except:\n",
    "            print('{} do not convert to integer'.format(a))\n",
    "            pass\n",
    "    "
   ]
  },
  {
   "cell_type": "code",
   "execution_count": 114,
   "id": "09cf7fa9-d0d6-4ac5-b002-700797ecf956",
   "metadata": {},
   "outputs": [
    {
     "name": "stdin",
     "output_type": "stream",
     "text": [
      "enter decimal number:  afs\n"
     ]
    },
    {
     "name": "stdout",
     "output_type": "stream",
     "text": [
      "afs do not convert to integer\n"
     ]
    },
    {
     "name": "stdin",
     "output_type": "stream",
     "text": [
      "enter decimal number:  asf\n"
     ]
    },
    {
     "name": "stdout",
     "output_type": "stream",
     "text": [
      "asf do not convert to integer\n"
     ]
    },
    {
     "name": "stdin",
     "output_type": "stream",
     "text": [
      "enter decimal number:  46465.1686413\n"
     ]
    },
    {
     "name": "stdout",
     "output_type": "stream",
     "text": [
      "Your integer is: 46465\n"
     ]
    }
   ],
   "source": [
    "convert_integer4()"
   ]
  },
  {
   "cell_type": "markdown",
   "id": "f2ed32c3-e145-4d5b-83fe-885b135a07c8",
   "metadata": {},
   "source": [
    "## error types"
   ]
  },
  {
   "cell_type": "code",
   "execution_count": 115,
   "id": "12dd4238-3014-4c83-aba2-c4bedbec3230",
   "metadata": {},
   "outputs": [
    {
     "ename": "TypeError",
     "evalue": "unsupported operand type(s) for +: 'int' and 'str'",
     "output_type": "error",
     "traceback": [
      "\u001b[1;31m---------------------------------------------------------------------------\u001b[0m",
      "\u001b[1;31mTypeError\u001b[0m                                 Traceback (most recent call last)",
      "Cell \u001b[1;32mIn[115], line 1\u001b[0m\n\u001b[1;32m----> 1\u001b[0m \u001b[38;5;241;43m5\u001b[39;49m\u001b[43m \u001b[49m\u001b[38;5;241;43m+\u001b[39;49m\u001b[43m \u001b[49m\u001b[38;5;124;43m'\u001b[39;49m\u001b[38;5;124;43md\u001b[39;49m\u001b[38;5;124;43m'\u001b[39;49m\n",
      "\u001b[1;31mTypeError\u001b[0m: unsupported operand type(s) for +: 'int' and 'str'"
     ]
    }
   ],
   "source": [
    "5 + 'd'"
   ]
  },
  {
   "cell_type": "code",
   "execution_count": 118,
   "id": "c527a2a1-a2a1-45b6-b9df-4aceefd995b0",
   "metadata": {},
   "outputs": [
    {
     "ename": "IndexError",
     "evalue": "list index out of range",
     "output_type": "error",
     "traceback": [
      "\u001b[1;31m---------------------------------------------------------------------------\u001b[0m",
      "\u001b[1;31mIndexError\u001b[0m                                Traceback (most recent call last)",
      "Cell \u001b[1;32mIn[118], line 2\u001b[0m\n\u001b[0;32m      1\u001b[0m \u001b[38;5;28mlist\u001b[39m \u001b[38;5;241m=\u001b[39m []\n\u001b[1;32m----> 2\u001b[0m \u001b[38;5;28;43mlist\u001b[39;49m\u001b[43m[\u001b[49m\u001b[38;5;241;43m4\u001b[39;49m\u001b[43m]\u001b[49m\n",
      "\u001b[1;31mIndexError\u001b[0m: list index out of range"
     ]
    }
   ],
   "source": [
    "list = []\n",
    "list[4]"
   ]
  },
  {
   "cell_type": "code",
   "execution_count": 120,
   "id": "c9a579b5-7e18-4da0-9026-18b11faa7581",
   "metadata": {},
   "outputs": [
    {
     "ename": "KeyError",
     "evalue": "'surname'",
     "output_type": "error",
     "traceback": [
      "\u001b[1;31m---------------------------------------------------------------------------\u001b[0m",
      "\u001b[1;31mKeyError\u001b[0m                                  Traceback (most recent call last)",
      "Cell \u001b[1;32mIn[120], line 4\u001b[0m\n\u001b[0;32m      1\u001b[0m dic \u001b[38;5;241m=\u001b[39m {\n\u001b[0;32m      2\u001b[0m       \u001b[38;5;124m'\u001b[39m\u001b[38;5;124mname\u001b[39m\u001b[38;5;124m'\u001b[39m : \u001b[38;5;124m'\u001b[39m\u001b[38;5;124merdem\u001b[39m\u001b[38;5;124m'\u001b[39m,\n\u001b[0;32m      3\u001b[0m       \u001b[38;5;124m'\u001b[39m\u001b[38;5;124mID\u001b[39m\u001b[38;5;124m'\u001b[39m : \u001b[38;5;241m123123\u001b[39m}\n\u001b[1;32m----> 4\u001b[0m \u001b[43mdic\u001b[49m\u001b[43m[\u001b[49m\u001b[38;5;124;43m'\u001b[39;49m\u001b[38;5;124;43msurname\u001b[39;49m\u001b[38;5;124;43m'\u001b[39;49m\u001b[43m]\u001b[49m\n",
      "\u001b[1;31mKeyError\u001b[0m: 'surname'"
     ]
    }
   ],
   "source": [
    "dic = {\n",
    "      'name' : 'erdem',\n",
    "      'ID' : 123123}\n",
    "dic['surname']"
   ]
  },
  {
   "cell_type": "code",
   "execution_count": 121,
   "id": "cfc87f72-b73c-468d-b5c2-487e4cbfa1ad",
   "metadata": {},
   "outputs": [
    {
     "name": "stdout",
     "output_type": "stream",
     "text": [
      "ERROR!!\n"
     ]
    }
   ],
   "source": [
    "try:\n",
    "    5 + 'd'\n",
    "except TypeError:\n",
    "    print('ERROR!!')"
   ]
  },
  {
   "cell_type": "code",
   "execution_count": 122,
   "id": "1ab3e900-7cd3-4796-bc91-0a5358a600fd",
   "metadata": {},
   "outputs": [
    {
     "name": "stdout",
     "output_type": "stream",
     "text": [
      "ERROR!!\n"
     ]
    }
   ],
   "source": [
    "try:\n",
    "    list = []\n",
    "    list[4]\n",
    "except IndexError:\n",
    "    print('ERROR!!')"
   ]
  },
  {
   "cell_type": "code",
   "execution_count": 123,
   "id": "e9437bfb-1e1b-4779-a5f9-060a6812c817",
   "metadata": {},
   "outputs": [
    {
     "name": "stdout",
     "output_type": "stream",
     "text": [
      "it is not IndexError\n"
     ]
    }
   ],
   "source": [
    "try:\n",
    "    5 + 'd'\n",
    "except IndexError:\n",
    "    print('ERROR!!')\n",
    "except:\n",
    "    print('it is not IndexError')"
   ]
  },
  {
   "cell_type": "code",
   "execution_count": 124,
   "id": "9a2d99fa-2f2b-4fb0-8a29-9c9460da8ca7",
   "metadata": {},
   "outputs": [
    {
     "name": "stdout",
     "output_type": "stream",
     "text": [
      "TypeERROR!!\n"
     ]
    }
   ],
   "source": [
    "try:\n",
    "    5 + 'd'\n",
    "except IndexError:\n",
    "    print('IndexERROR!!')\n",
    "except TypeError:\n",
    "    print('TypeERROR!!')\n",
    "except:\n",
    "    print('it is not IndexError')"
   ]
  }
 ],
 "metadata": {
  "kernelspec": {
   "display_name": "Python 3 (ipykernel)",
   "language": "python",
   "name": "python3"
  },
  "language_info": {
   "codemirror_mode": {
    "name": "ipython",
    "version": 3
   },
   "file_extension": ".py",
   "mimetype": "text/x-python",
   "name": "python",
   "nbconvert_exporter": "python",
   "pygments_lexer": "ipython3",
   "version": "3.10.9"
  }
 },
 "nbformat": 4,
 "nbformat_minor": 5
}
