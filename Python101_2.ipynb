{
 "cells": [
  {
   "cell_type": "markdown",
   "id": "b5cc0d87-490c-49fa-b294-d70c1d514743",
   "metadata": {},
   "source": [
    "# PYTHON 101 PART 3"
   ]
  },
  {
   "cell_type": "markdown",
   "id": "494bf5de-967a-405a-a15d-e0176dfb5d9b",
   "metadata": {},
   "source": [
    "## Functions"
   ]
  },
  {
   "cell_type": "code",
   "execution_count": 1,
   "id": "d2fedcdc-8df7-492f-9aa2-da7a85df205d",
   "metadata": {},
   "outputs": [
    {
     "name": "stdout",
     "output_type": "stream",
     "text": [
      "5\n"
     ]
    }
   ],
   "source": [
    "def five_print():\n",
    "    print(5)\n",
    "five_print()"
   ]
  },
  {
   "cell_type": "code",
   "execution_count": 2,
   "id": "3a3f23eb-6e76-4b39-87f0-5ddefcde7ba7",
   "metadata": {},
   "outputs": [
    {
     "name": "stdout",
     "output_type": "stream",
     "text": [
      "5\n"
     ]
    }
   ],
   "source": [
    "def five_return():\n",
    "    return 5\n",
    "five_print()"
   ]
  },
  {
   "cell_type": "code",
   "execution_count": 3,
   "id": "145fecc0-13b7-4bc5-8838-38709911934f",
   "metadata": {},
   "outputs": [
    {
     "name": "stdout",
     "output_type": "stream",
     "text": [
      "5\n",
      "None\n"
     ]
    }
   ],
   "source": [
    "a = five_print()\n",
    "print(a)"
   ]
  },
  {
   "cell_type": "code",
   "execution_count": 4,
   "id": "329eca78-d978-4f90-9d6c-07b5b809046a",
   "metadata": {},
   "outputs": [
    {
     "name": "stdout",
     "output_type": "stream",
     "text": [
      "5\n"
     ]
    }
   ],
   "source": [
    "b = five_return()\n",
    "print(b)"
   ]
  },
  {
   "cell_type": "code",
   "execution_count": 5,
   "id": "71715b12-8753-4e7d-960d-5f56b945a081",
   "metadata": {},
   "outputs": [
    {
     "data": {
      "text/plain": [
       "6"
      ]
     },
     "execution_count": 5,
     "metadata": {},
     "output_type": "execute_result"
    }
   ],
   "source": [
    "def number_return(number):\n",
    "    return number\n",
    "number_return(6)"
   ]
  },
  {
   "cell_type": "code",
   "execution_count": 6,
   "id": "63349df4-fa39-4196-b100-a04bd0d84d90",
   "metadata": {},
   "outputs": [
    {
     "data": {
      "text/plain": [
       "'asf'"
      ]
     },
     "execution_count": 6,
     "metadata": {},
     "output_type": "execute_result"
    }
   ],
   "source": [
    "number_return('asf')"
   ]
  },
  {
   "cell_type": "code",
   "execution_count": 8,
   "id": "67c523d8-8256-4998-bb62-2be123ae5de2",
   "metadata": {},
   "outputs": [
    {
     "data": {
      "text/plain": [
       "10"
      ]
     },
     "execution_count": 8,
     "metadata": {},
     "output_type": "execute_result"
    }
   ],
   "source": [
    "def number_return1(number=10):\n",
    "    return number #default argument\n",
    "number_return1()"
   ]
  },
  {
   "cell_type": "code",
   "execution_count": 9,
   "id": "b2d55203-a03f-4158-80a1-aaa9da9075d0",
   "metadata": {},
   "outputs": [
    {
     "data": {
      "text/plain": [
       "213"
      ]
     },
     "execution_count": 9,
     "metadata": {},
     "output_type": "execute_result"
    }
   ],
   "source": [
    "number_return1(213)"
   ]
  },
  {
   "cell_type": "code",
   "execution_count": 11,
   "id": "fe32373f-4bfa-4210-ab25-d6500dae0917",
   "metadata": {},
   "outputs": [
    {
     "data": {
      "text/plain": [
       "4"
      ]
     },
     "execution_count": 11,
     "metadata": {},
     "output_type": "execute_result"
    }
   ],
   "source": [
    "def big_number_return(number1,number2):\n",
    "    if number1>number2:\n",
    "        return number1\n",
    "    else:\n",
    "        return number2\n",
    "     \n",
    "big_number_return(3,4)"
   ]
  },
  {
   "cell_type": "code",
   "execution_count": 12,
   "id": "ed757487-4476-448c-a06e-8f3b6facce7e",
   "metadata": {},
   "outputs": [
    {
     "data": {
      "text/plain": [
       "3"
      ]
     },
     "execution_count": 12,
     "metadata": {},
     "output_type": "execute_result"
    }
   ],
   "source": [
    "def re_number_return(number1,number2):\n",
    "    return number1\n",
    "    return number2\n",
    "\n",
    "re_number_return(3,7)\n",
    "#sees the first return"
   ]
  },
  {
   "cell_type": "code",
   "execution_count": 14,
   "id": "0ecc64bc-15e5-40cc-aac9-eca6734739ef",
   "metadata": {},
   "outputs": [
    {
     "data": {
      "text/plain": [
       "'9 is bigger'"
      ]
     },
     "execution_count": 14,
     "metadata": {},
     "output_type": "execute_result"
    }
   ],
   "source": [
    "def print_text(a,b):\n",
    "    big_number = big_number_return(a,b)\n",
    "    template_text = \"{} is bigger\".format(big_number)\n",
    "    return template_text\n",
    "\n",
    "print_text(4,9)"
   ]
  },
  {
   "cell_type": "code",
   "execution_count": 18,
   "id": "5711636c-da69-420c-b926-662f707df93a",
   "metadata": {},
   "outputs": [
    {
     "data": {
      "text/plain": [
       "('Erdem', 'Ünlü')"
      ]
     },
     "execution_count": 18,
     "metadata": {},
     "output_type": "execute_result"
    }
   ],
   "source": [
    "def name_surname_split(name_surname):\n",
    "    name = name_surname.split()[0]\n",
    "    surname = name_surname.split()[1]\n",
    "    return name, surname\n",
    "name_surname_split('Erdem Ünlü')"
   ]
  },
  {
   "cell_type": "code",
   "execution_count": 19,
   "id": "c63c559b-541b-4fde-a895-530e01188437",
   "metadata": {},
   "outputs": [
    {
     "name": "stdout",
     "output_type": "stream",
     "text": [
      "Erdem\n",
      "Ünlü\n"
     ]
    }
   ],
   "source": [
    "a,b = name_surname_split('Erdem Ünlü')\n",
    "print(a)\n",
    "print(b)"
   ]
  },
  {
   "cell_type": "code",
   "execution_count": 23,
   "id": "5ccced47-2781-41bc-8df9-26b9438c5fdf",
   "metadata": {},
   "outputs": [
    {
     "data": {
      "text/plain": [
       "'Erdem Ünlü'"
      ]
     },
     "execution_count": 23,
     "metadata": {},
     "output_type": "execute_result"
    }
   ],
   "source": [
    "def name_surname_join(name, surname):\n",
    "    a = \" \".join([name,surname])\n",
    "    return a\n",
    "name_surname_join(\"Erdem\",\"Ünlü\")"
   ]
  },
  {
   "cell_type": "code",
   "execution_count": 24,
   "id": "df57c99a-5af5-43be-8fc7-bf03cf1f5cf1",
   "metadata": {},
   "outputs": [
    {
     "ename": "TypeError",
     "evalue": "name_surname_join() takes 2 positional arguments but 3 were given",
     "output_type": "error",
     "traceback": [
      "\u001b[1;31m---------------------------------------------------------------------------\u001b[0m",
      "\u001b[1;31mTypeError\u001b[0m                                 Traceback (most recent call last)",
      "Cell \u001b[1;32mIn[24], line 1\u001b[0m\n\u001b[1;32m----> 1\u001b[0m \u001b[43mname_surname_join\u001b[49m\u001b[43m(\u001b[49m\u001b[38;5;124;43m\"\u001b[39;49m\u001b[38;5;124;43mErdem\u001b[39;49m\u001b[38;5;124;43m\"\u001b[39;49m\u001b[43m,\u001b[49m\u001b[38;5;124;43m\"\u001b[39;49m\u001b[38;5;124;43mVeli\u001b[39;49m\u001b[38;5;124;43m\"\u001b[39;49m\u001b[43m,\u001b[49m\u001b[38;5;124;43m\"\u001b[39;49m\u001b[38;5;124;43mÜnlü\u001b[39;49m\u001b[38;5;124;43m\"\u001b[39;49m\u001b[43m)\u001b[49m\n",
      "\u001b[1;31mTypeError\u001b[0m: name_surname_join() takes 2 positional arguments but 3 were given"
     ]
    }
   ],
   "source": [
    "name_surname_join(\"Erdem\",\"Veli\",\"Ünlü\")"
   ]
  },
  {
   "cell_type": "code",
   "execution_count": 27,
   "id": "bf317d39-e9e7-4a3e-a46b-c60a90eac439",
   "metadata": {},
   "outputs": [
    {
     "data": {
      "text/plain": [
       "'Erdem Veli Ünlü'"
      ]
     },
     "execution_count": 27,
     "metadata": {},
     "output_type": "execute_result"
    }
   ],
   "source": [
    "def name_surname_join1(*args): # args command is used to combine unlimited values as desired.\n",
    "    a = \" \".join(args)\n",
    "    return a\n",
    "name_surname_join1(\"Erdem\",\"Veli\",\"Ünlü\")"
   ]
  },
  {
   "cell_type": "code",
   "execution_count": 29,
   "id": "bb06eec9-57aa-41da-9b58-12c39956b6c9",
   "metadata": {},
   "outputs": [
    {
     "name": "stdout",
     "output_type": "stream",
     "text": [
      "Erdem\n",
      "Veli\n",
      "Ünlü\n"
     ]
    },
    {
     "data": {
      "text/plain": [
       "'Erdem Veli Ünlü'"
      ]
     },
     "execution_count": 29,
     "metadata": {},
     "output_type": "execute_result"
    }
   ],
   "source": [
    "def name_surname_join2(*args): # args command is used to combine unlimited values as desired.\n",
    "    for i in args:\n",
    "        print(i)\n",
    "    a = \" \".join(args)\n",
    "    return a\n",
    "name_surname_join2(\"Erdem\",\"Veli\",\"Ünlü\")"
   ]
  },
  {
   "cell_type": "code",
   "execution_count": 30,
   "id": "963621f4-a4ea-4301-aebc-c70c171dd2b7",
   "metadata": {},
   "outputs": [
    {
     "ename": "TypeError",
     "evalue": "print_middle_name() takes 0 positional arguments but 3 were given",
     "output_type": "error",
     "traceback": [
      "\u001b[1;31m---------------------------------------------------------------------------\u001b[0m",
      "\u001b[1;31mTypeError\u001b[0m                                 Traceback (most recent call last)",
      "Cell \u001b[1;32mIn[30], line 6\u001b[0m\n\u001b[0;32m      4\u001b[0m     \u001b[38;5;28;01melse\u001b[39;00m:\n\u001b[0;32m      5\u001b[0m         \u001b[38;5;28mprint\u001b[39m(\u001b[38;5;124m\"\u001b[39m\u001b[38;5;124mnot have middle name\u001b[39m\u001b[38;5;124m\"\u001b[39m)\n\u001b[1;32m----> 6\u001b[0m \u001b[43mprint_middle_name\u001b[49m\u001b[43m(\u001b[49m\u001b[38;5;241;43m1\u001b[39;49m\u001b[43m,\u001b[49m\u001b[38;5;241;43m2\u001b[39;49m\u001b[43m,\u001b[49m\u001b[38;5;241;43m3\u001b[39;49m\u001b[43m)\u001b[49m\n",
      "\u001b[1;31mTypeError\u001b[0m: print_middle_name() takes 0 positional arguments but 3 were given"
     ]
    }
   ],
   "source": [
    "def print_middle_name(**kwargs):\n",
    "    if \"middleName\" in kwargs:\n",
    "        print(kwargs[\"middleName\"])\n",
    "    else:\n",
    "        print(\"not have middle name\")\n",
    "print_middle_name(1,2,3)"
   ]
  },
  {
   "cell_type": "code",
   "execution_count": 31,
   "id": "5d480340-ab11-4c7d-ab86-5e11348bece8",
   "metadata": {},
   "outputs": [
    {
     "name": "stdout",
     "output_type": "stream",
     "text": [
      "Veli\n"
     ]
    }
   ],
   "source": [
    "print_middle_name(name= \"Erdem\", middleName = \"Veli\", surname=\"Ünlü\")"
   ]
  },
  {
   "cell_type": "code",
   "execution_count": 32,
   "id": "3663a160-59a4-4041-990f-167b6956a505",
   "metadata": {},
   "outputs": [
    {
     "name": "stdout",
     "output_type": "stream",
     "text": [
      "not have middle name\n"
     ]
    }
   ],
   "source": [
    "print_middle_name(name= \"Erdem\", surname=\"Ünlü\")"
   ]
  },
  {
   "cell_type": "markdown",
   "id": "56aa58ac-6ab3-452d-af25-c5241553c93c",
   "metadata": {},
   "source": [
    "## Map, Filter, lamda"
   ]
  },
  {
   "cell_type": "code",
   "execution_count": 33,
   "id": "08e1d70b-fa9c-43ea-a26d-b77b42485636",
   "metadata": {},
   "outputs": [
    {
     "data": {
      "text/plain": [
       "25"
      ]
     },
     "execution_count": 33,
     "metadata": {},
     "output_type": "execute_result"
    }
   ],
   "source": [
    "def take_square(x):\n",
    "    return x**2\n",
    "take_square(5)"
   ]
  },
  {
   "cell_type": "code",
   "execution_count": 34,
   "id": "d2f1e142-b561-4805-8847-68606c0aea26",
   "metadata": {},
   "outputs": [
    {
     "data": {
      "text/plain": [
       "[1, 2, 3, 4, 5]"
      ]
     },
     "execution_count": 34,
     "metadata": {},
     "output_type": "execute_result"
    }
   ],
   "source": [
    "numbers = [*range(1,6)]\n",
    "numbers"
   ]
  },
  {
   "cell_type": "code",
   "execution_count": 36,
   "id": "71ec418f-2e55-4755-bf9e-3149bc698250",
   "metadata": {},
   "outputs": [
    {
     "name": "stdout",
     "output_type": "stream",
     "text": [
      "[1, 4, 9, 16, 25]\n"
     ]
    }
   ],
   "source": [
    "for i in range(len(numbers)):\n",
    "    numbers[i] = take_square(numbers[i])\n",
    "print(numbers)"
   ]
  },
  {
   "cell_type": "code",
   "execution_count": 38,
   "id": "df7e45fd-9ae5-47c5-9756-e28d889ff3af",
   "metadata": {},
   "outputs": [
    {
     "data": {
      "text/plain": [
       "[1, 4, 9, 16, 25]"
      ]
     },
     "execution_count": 38,
     "metadata": {},
     "output_type": "execute_result"
    }
   ],
   "source": [
    "numbers = [*range(1,6)]\n",
    "[*map(take_square, numbers)]"
   ]
  },
  {
   "cell_type": "code",
   "execution_count": 39,
   "id": "eac15eb8-f9e1-4637-9863-ddc7275ea159",
   "metadata": {},
   "outputs": [
    {
     "data": {
      "text/plain": [
       "4"
      ]
     },
     "execution_count": 39,
     "metadata": {},
     "output_type": "execute_result"
    }
   ],
   "source": [
    "def even_numbers(x):\n",
    "    if x%2==0:\n",
    "        return x\n",
    "even_numbers(4) "
   ]
  },
  {
   "cell_type": "code",
   "execution_count": 40,
   "id": "75d8ff41-7381-457e-a3cf-d8860c79932f",
   "metadata": {},
   "outputs": [],
   "source": [
    "even_numbers(5) "
   ]
  },
  {
   "cell_type": "code",
   "execution_count": 46,
   "id": "c83f06f5-3564-42ac-aa92-caf3b02385d6",
   "metadata": {},
   "outputs": [
    {
     "data": {
      "text/plain": [
       "4"
      ]
     },
     "execution_count": 46,
     "metadata": {},
     "output_type": "execute_result"
    }
   ],
   "source": [
    "def even_numbers(x):\n",
    "    return x if x%2==0 else None\n",
    "even_numbers(4) "
   ]
  },
  {
   "cell_type": "code",
   "execution_count": 47,
   "id": "4f5fde9d-b06f-4b19-8af2-c97552422871",
   "metadata": {},
   "outputs": [
    {
     "data": {
      "text/plain": [
       "[2, 4]"
      ]
     },
     "execution_count": 47,
     "metadata": {},
     "output_type": "execute_result"
    }
   ],
   "source": [
    "numbers = [*range(1,6)]\n",
    "[*filter(even_numbers, numbers)]"
   ]
  },
  {
   "cell_type": "code",
   "execution_count": 50,
   "id": "83668d39-cc9d-448b-ac96-0f2fb098bcab",
   "metadata": {},
   "outputs": [
    {
     "data": {
      "text/plain": [
       "[1, 4, 9, 16, 25]"
      ]
     },
     "execution_count": 50,
     "metadata": {},
     "output_type": "execute_result"
    }
   ],
   "source": [
    "numbers = [*range(1,6)]\n",
    "[*map(lambda x: x**2, numbers)]"
   ]
  },
  {
   "cell_type": "code",
   "execution_count": 51,
   "id": "6788df14-6e8d-447c-9d36-cf4b7959912c",
   "metadata": {},
   "outputs": [
    {
     "data": {
      "text/plain": [
       "[2, 4]"
      ]
     },
     "execution_count": 51,
     "metadata": {},
     "output_type": "execute_result"
    }
   ],
   "source": [
    "numbers = [*range(1,6)]\n",
    "[*filter(lambda x: x if x%2==0 else None, numbers)]"
   ]
  },
  {
   "cell_type": "markdown",
   "id": "879f5b0d-5457-42ec-9c6e-0129d7490ba7",
   "metadata": {},
   "source": [
    "## input"
   ]
  },
  {
   "cell_type": "code",
   "execution_count": 53,
   "id": "2470a6db-a267-4860-8d28-77a8045c54b2",
   "metadata": {},
   "outputs": [
    {
     "name": "stdin",
     "output_type": "stream",
     "text": [
      "enter a number:  4\n"
     ]
    },
    {
     "data": {
      "text/plain": [
       "'4'"
      ]
     },
     "execution_count": 53,
     "metadata": {},
     "output_type": "execute_result"
    }
   ],
   "source": [
    "input(\"enter a number: \")"
   ]
  },
  {
   "cell_type": "code",
   "execution_count": 54,
   "id": "a0c742b1-a7de-4c90-96e8-8d409d4a97c7",
   "metadata": {},
   "outputs": [
    {
     "name": "stdin",
     "output_type": "stream",
     "text": [
      "enter a number:  34\n"
     ]
    },
    {
     "data": {
      "text/plain": [
       "'34'"
      ]
     },
     "execution_count": 54,
     "metadata": {},
     "output_type": "execute_result"
    }
   ],
   "source": [
    "a = input(\"enter a number: \")\n",
    "a"
   ]
  },
  {
   "cell_type": "code",
   "execution_count": 55,
   "id": "b990e5eb-7a5b-432d-bd09-02316164edfa",
   "metadata": {},
   "outputs": [
    {
     "name": "stdin",
     "output_type": "stream",
     "text": [
      "enter a number:  98\n"
     ]
    },
    {
     "data": {
      "text/plain": [
       "str"
      ]
     },
     "execution_count": 55,
     "metadata": {},
     "output_type": "execute_result"
    }
   ],
   "source": [
    "a = input(\"enter a number: \")\n",
    "type(a)"
   ]
  },
  {
   "cell_type": "code",
   "execution_count": 57,
   "id": "5fa9db86-459d-41c7-ab85-f33e7fabaf80",
   "metadata": {},
   "outputs": [
    {
     "name": "stdin",
     "output_type": "stream",
     "text": [
      "enter a number:  24\n"
     ]
    },
    {
     "data": {
      "text/plain": [
       "int"
      ]
     },
     "execution_count": 57,
     "metadata": {},
     "output_type": "execute_result"
    }
   ],
   "source": [
    "a = int(input(\"enter a number: \"))\n",
    "type(a)"
   ]
  },
  {
   "cell_type": "code",
   "execution_count": 63,
   "id": "5ac39ff1-e265-4996-9cd3-7867ca35bebc",
   "metadata": {},
   "outputs": [
    {
     "name": "stdin",
     "output_type": "stream",
     "text": [
      "enter a number:  3\n",
      "Is the data odd or even?:  odd\n"
     ]
    },
    {
     "data": {
      "text/plain": [
       "'true, it is odd'"
      ]
     },
     "execution_count": 63,
     "metadata": {},
     "output_type": "execute_result"
    }
   ],
   "source": [
    "def example1():\n",
    "    a = int(input(\"enter a number: \"))\n",
    "    process = input(\"Is the data odd or even?: \")\n",
    "    \n",
    "    if process == \"even\":\n",
    "        if a%2==0:\n",
    "            return 'true, it is even'\n",
    "        else:\n",
    "            return 'wrong, odd'\n",
    "    elif process == 'odd':\n",
    "        if a%2==1:\n",
    "            return 'true, it is odd'\n",
    "        else:\n",
    "            return 'wrong, even'\n",
    "\n",
    "example1()"
   ]
  },
  {
   "cell_type": "code",
   "execution_count": 64,
   "id": "0448f372-36c4-4314-85ff-7fe34a1c4c65",
   "metadata": {},
   "outputs": [
    {
     "name": "stdin",
     "output_type": "stream",
     "text": [
      "enter a number:  4\n",
      "Is the data odd or even?:  odd\n"
     ]
    },
    {
     "data": {
      "text/plain": [
       "'wrong, even'"
      ]
     },
     "execution_count": 64,
     "metadata": {},
     "output_type": "execute_result"
    }
   ],
   "source": [
    "example1()"
   ]
  },
  {
   "cell_type": "code",
   "execution_count": 71,
   "id": "c02f492f-8028-4a0e-bd62-74cce4be5f78",
   "metadata": {},
   "outputs": [],
   "source": [
    "def example2():\n",
    "    a = input(\"enter a number: \")\n",
    "    if a.isdigit():\n",
    "        print('it is a number')\n",
    "    else:\n",
    "        print('it is not a number')"
   ]
  },
  {
   "cell_type": "code",
   "execution_count": 74,
   "id": "a3f9e1b9-6669-4674-8c76-8d5a47c799b4",
   "metadata": {},
   "outputs": [
    {
     "name": "stdin",
     "output_type": "stream",
     "text": [
      "enter a number:  34\n"
     ]
    },
    {
     "name": "stdout",
     "output_type": "stream",
     "text": [
      "it is a number\n"
     ]
    }
   ],
   "source": [
    "example2()"
   ]
  },
  {
   "cell_type": "code",
   "execution_count": 75,
   "id": "9d56a730-e756-4134-9b92-5293033e1fc8",
   "metadata": {},
   "outputs": [
    {
     "name": "stdin",
     "output_type": "stream",
     "text": [
      "enter a number:  qwe\n"
     ]
    },
    {
     "name": "stdout",
     "output_type": "stream",
     "text": [
      "it is not a number\n"
     ]
    }
   ],
   "source": [
    "example2()"
   ]
  },
  {
   "cell_type": "code",
   "execution_count": null,
   "id": "984ddc62-48bc-4d76-9697-6fd5a58d5879",
   "metadata": {},
   "outputs": [],
   "source": []
  }
 ],
 "metadata": {
  "kernelspec": {
   "display_name": "Python 3 (ipykernel)",
   "language": "python",
   "name": "python3"
  },
  "language_info": {
   "codemirror_mode": {
    "name": "ipython",
    "version": 3
   },
   "file_extension": ".py",
   "mimetype": "text/x-python",
   "name": "python",
   "nbconvert_exporter": "python",
   "pygments_lexer": "ipython3",
   "version": "3.10.9"
  }
 },
 "nbformat": 4,
 "nbformat_minor": 5
}
