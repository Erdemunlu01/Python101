{
 "cells": [
  {
   "cell_type": "markdown",
   "id": "fa2325fb-e7cb-41a5-8229-61a15fb62820",
   "metadata": {},
   "source": [
    "# PYTHON 101 PART 2"
   ]
  },
  {
   "cell_type": "markdown",
   "id": "e251c54e-d07a-41cb-928c-c5f56fdf9356",
   "metadata": {},
   "source": [
    "## If comand"
   ]
  },
  {
   "cell_type": "code",
   "execution_count": 2,
   "id": "d50dbab3-bb50-4f9c-bdc7-636e98c89a44",
   "metadata": {},
   "outputs": [
    {
     "name": "stdout",
     "output_type": "stream",
     "text": [
      "take the umbrealla\n"
     ]
    }
   ],
   "source": [
    "weather = 'rain'\n",
    "if weather == 'rain':\n",
    "    print('take the umbrealla')"
   ]
  },
  {
   "cell_type": "code",
   "execution_count": 3,
   "id": "0aed69e0-f887-458a-bda6-69a9a57b97ac",
   "metadata": {},
   "outputs": [],
   "source": [
    "weather1 = 'sunny'\n",
    "if weather1 == 'rain':\n",
    "    print('take the umbrealla')"
   ]
  },
  {
   "cell_type": "code",
   "execution_count": 4,
   "id": "172d9635-910f-4b01-8427-d62be02d4a34",
   "metadata": {},
   "outputs": [
    {
     "name": "stdout",
     "output_type": "stream",
     "text": [
      "take the umbrealla\n"
     ]
    }
   ],
   "source": [
    "if weather == 'rain':\n",
    "    print('take the umbrealla')\n",
    "else:\n",
    "    print('no problem')"
   ]
  },
  {
   "cell_type": "code",
   "execution_count": 5,
   "id": "8dd81806-d088-44d7-8001-f1042f4c2bc1",
   "metadata": {},
   "outputs": [
    {
     "name": "stdout",
     "output_type": "stream",
     "text": [
      "no problem\n"
     ]
    }
   ],
   "source": [
    "if weather1 == 'rain':\n",
    "    print('take the umbrealla')\n",
    "else:\n",
    "    print('no problem')"
   ]
  },
  {
   "cell_type": "code",
   "execution_count": 6,
   "id": "48648719-1f43-4277-ad35-de5ec0002278",
   "metadata": {},
   "outputs": [
    {
     "name": "stdout",
     "output_type": "stream",
     "text": [
      "take the scarf\n"
     ]
    }
   ],
   "source": [
    "weather2 = 'snowy'\n",
    "if weather2 == 'rain':\n",
    "    print('take the umbrealla')\n",
    "elif weather2 == 'snowy':\n",
    "    print('take the scarf')\n",
    "else:\n",
    "    print('no problem')"
   ]
  },
  {
   "cell_type": "code",
   "execution_count": 7,
   "id": "6fa6249b-dddc-4bc1-876b-7d6ecd3b5e3c",
   "metadata": {},
   "outputs": [
    {
     "name": "stdout",
     "output_type": "stream",
     "text": [
      "you cannot enter\n"
     ]
    }
   ],
   "source": [
    "age = 18\n",
    "if age > 18:\n",
    "    print('you can enter')\n",
    "else:\n",
    "    print('you cannot enter')"
   ]
  },
  {
   "cell_type": "code",
   "execution_count": 59,
   "id": "54e0525c-bd10-4f54-bdfc-0872f9e439ed",
   "metadata": {},
   "outputs": [
    {
     "name": "stdout",
     "output_type": "stream",
     "text": [
      "it is exist\n"
     ]
    }
   ],
   "source": [
    "list0 = ['a','b','c','d']\n",
    "\n",
    "letter = 'b'\n",
    "if letter in list0:\n",
    "    print('it is exist')"
   ]
  },
  {
   "cell_type": "code",
   "execution_count": 60,
   "id": "af47aff6-bf17-40f4-a9a4-473236022b56",
   "metadata": {},
   "outputs": [
    {
     "name": "stdout",
     "output_type": "stream",
     "text": [
      "I added\n",
      "current list0 : ['a', 'b', 'c', 'd', 'e']\n"
     ]
    }
   ],
   "source": [
    "list0 = ['a','b','c','d']\n",
    "\n",
    "letter = 'e'\n",
    "if letter in list0:\n",
    "    print('it is exist')\n",
    "else:\n",
    "    list0.append(letter)\n",
    "    print('I added')\n",
    "    print('current list0 : {}'.format(list0))"
   ]
  },
  {
   "cell_type": "code",
   "execution_count": 63,
   "id": "7690e93b-e2cf-4149-8e7a-44932e2e98f1",
   "metadata": {},
   "outputs": [
    {
     "name": "stdout",
     "output_type": "stream",
     "text": [
      "it is just exist, not first letter\n"
     ]
    }
   ],
   "source": [
    "if (letter in list0) and (letter == list0[0]):\n",
    "    print('it is exist and first letter')\n",
    "elif letter in list0:\n",
    "    print('it is just exist, not first letter')\n",
    "else:\n",
    "    list0.append(letter)\n",
    "    print('I added')\n",
    "    print('current list0 : {}'.format(list0))"
   ]
  },
  {
   "cell_type": "markdown",
   "id": "c634dd99-291b-454b-84bd-7b487c528d85",
   "metadata": {},
   "source": [
    "## for comand"
   ]
  },
  {
   "cell_type": "code",
   "execution_count": 14,
   "id": "70800715-6bd5-4bdb-8103-24bed5ac6205",
   "metadata": {},
   "outputs": [
    {
     "data": {
      "text/plain": [
       "['Jack Sparraow', 'Tom Cruise', 'Lebron James', 'Micheal Jordan']"
      ]
     },
     "execution_count": 14,
     "metadata": {},
     "output_type": "execute_result"
    }
   ],
   "source": [
    "commentators = ['Jack Sparraow', 'Tom Cruise', 'Lebron James', 'Micheal Jordan']\n",
    "commentators"
   ]
  },
  {
   "cell_type": "code",
   "execution_count": 15,
   "id": "2b260f18-dc31-4b0b-a512-a83acbd705be",
   "metadata": {},
   "outputs": [
    {
     "name": "stdout",
     "output_type": "stream",
     "text": [
      "Jack Sparraow\n",
      "Tom Cruise\n",
      "Lebron James\n",
      "Micheal Jordan\n"
     ]
    }
   ],
   "source": [
    "for users in commentators:\n",
    "    print(users)"
   ]
  },
  {
   "cell_type": "code",
   "execution_count": 16,
   "id": "eb8917c1-743f-4226-ad79-b1c69f23044e",
   "metadata": {},
   "outputs": [
    {
     "name": "stdout",
     "output_type": "stream",
     "text": [
      "1 Jack Sparraow\n",
      "2 Tom Cruise\n",
      "3 Lebron James\n",
      "4 Micheal Jordan\n"
     ]
    }
   ],
   "source": [
    "user_number = 0\n",
    "for users in commentators:\n",
    "    user_number = user_number + 1\n",
    "    print(user_number,users)"
   ]
  },
  {
   "cell_type": "code",
   "execution_count": 17,
   "id": "c0bfe08a-354c-4678-b72d-9d939077bd4a",
   "metadata": {},
   "outputs": [
    {
     "name": "stdout",
     "output_type": "stream",
     "text": [
      "0 Jack Sparraow\n",
      "1 Tom Cruise\n",
      "2 Lebron James\n",
      "3 Micheal Jordan\n"
     ]
    }
   ],
   "source": [
    "user_number = 0\n",
    "for users in commentators:\n",
    "    print(user_number,users)\n",
    "    user_number = user_number + 1"
   ]
  },
  {
   "cell_type": "code",
   "execution_count": 18,
   "id": "d7a58e6c-757e-4cea-bb0f-b1f6ec4275ca",
   "metadata": {},
   "outputs": [
    {
     "data": {
      "text/plain": [
       "['Jack', 'Sparraow']"
      ]
     },
     "execution_count": 18,
     "metadata": {},
     "output_type": "execute_result"
    }
   ],
   "source": [
    "commentators[0].split()"
   ]
  },
  {
   "cell_type": "code",
   "execution_count": 19,
   "id": "136932a4-8b87-436d-a25f-f077c2e22743",
   "metadata": {},
   "outputs": [
    {
     "name": "stdout",
     "output_type": "stream",
     "text": [
      "Jack Sparraow\n"
     ]
    }
   ],
   "source": [
    "name, surname = commentators[0].split()[0], commentators[0].split()[1]\n",
    "print(name,surname)"
   ]
  },
  {
   "cell_type": "code",
   "execution_count": 26,
   "id": "d46bf10f-2529-4bfa-906b-fb5a7c41f625",
   "metadata": {},
   "outputs": [
    {
     "name": "stdout",
     "output_type": "stream",
     "text": [
      "1. Name: Jack \n",
      "Surname: Sparraow\n",
      "2. Name: Tom \n",
      "Surname: Cruise\n",
      "3. Name: Lebron \n",
      "Surname: James\n",
      "4. Name: Micheal \n",
      "Surname: Jordan\n"
     ]
    }
   ],
   "source": [
    "commentators = ['Jack Sparraow', 'Tom Cruise', 'Lebron James', 'Micheal Jordan']\n",
    "user_number = 0\n",
    "for users in commentators:\n",
    "    user_number = user_number + 1\n",
    "    name, surname = users.split()[0], users.split()[1]\n",
    "    print(\"{0}. Name: {1} \\nSurname: {2}\".format(user_number, name,surname))"
   ]
  },
  {
   "cell_type": "code",
   "execution_count": 30,
   "id": "f5407f12-7738-48e6-b7db-9489d0251ffa",
   "metadata": {},
   "outputs": [
    {
     "name": "stdout",
     "output_type": "stream",
     "text": [
      "1. Name: Jack \n",
      "Surname: Sparraow\n",
      "2. Name: Tom \n",
      "Surname: Cruise\n",
      "3. Name: Lebron \n",
      "Surname: James\n",
      "4. Name: Micheal \n",
      "Surname: Jordan\n",
      "1. Moderator Name: Erdem \n",
      "Moderator Surname: Ünlü\n"
     ]
    }
   ],
   "source": [
    "commentators = ['Jack Sparraow', 'Tom Cruise', 'Lebron James', 'Micheal Jordan','Erdem Ünlü']\n",
    "moderator = 'Erdem Ünlü'\n",
    "\n",
    "user_number = 0\n",
    "moderator_number = 0\n",
    "\n",
    "for users in commentators:\n",
    "    name, surname = users.split()[0], users.split()[1]\n",
    "    if users == moderator:\n",
    "        moderator_number += 1\n",
    "        print(\"{0}. Moderator Name: {1} \\nModerator Surname: {2}\".format(moderator_number, name,surname))\n",
    "    else:\n",
    "        user_number += 1\n",
    "        print(\"{0}. Name: {1} \\nSurname: {2}\".format(user_number, name,surname))"
   ]
  },
  {
   "cell_type": "markdown",
   "id": "77b092e6-7912-4aa1-a177-82c9a812fa32",
   "metadata": {},
   "source": [
    "## for loops in other iterable objects"
   ]
  },
  {
   "cell_type": "code",
   "execution_count": 31,
   "id": "9f2a5257-b2c0-4651-ba39-5431ae2f2e0b",
   "metadata": {},
   "outputs": [
    {
     "name": "stdout",
     "output_type": "stream",
     "text": [
      "1\n",
      "2\n",
      "3\n",
      "4\n",
      "5\n"
     ]
    }
   ],
   "source": [
    "tup = (1,2,3,4,5)\n",
    "\n",
    "for i in tup:\n",
    "    print(i)"
   ]
  },
  {
   "cell_type": "code",
   "execution_count": 35,
   "id": "63b6ddf5-afd2-4ea1-9180-58ab25024bd7",
   "metadata": {},
   "outputs": [
    {
     "name": "stdout",
     "output_type": "stream",
     "text": [
      "1\n",
      "3\n"
     ]
    }
   ],
   "source": [
    "list1 = [[1,2],[3,4]]\n",
    "\n",
    "for x,y in list1:\n",
    "    print(x)"
   ]
  },
  {
   "cell_type": "code",
   "execution_count": 36,
   "id": "95f4860c-03a5-4568-9e97-977fd5cd6cc3",
   "metadata": {},
   "outputs": [
    {
     "ename": "ValueError",
     "evalue": "too many values to unpack (expected 2)",
     "output_type": "error",
     "traceback": [
      "\u001b[1;31m---------------------------------------------------------------------------\u001b[0m",
      "\u001b[1;31mValueError\u001b[0m                                Traceback (most recent call last)",
      "Cell \u001b[1;32mIn[36], line 3\u001b[0m\n\u001b[0;32m      1\u001b[0m list2 \u001b[38;5;241m=\u001b[39m [[\u001b[38;5;241m1\u001b[39m,\u001b[38;5;241m2\u001b[39m,\u001b[38;5;241m5\u001b[39m],[\u001b[38;5;241m3\u001b[39m,\u001b[38;5;241m4\u001b[39m,\u001b[38;5;241m6\u001b[39m]]\n\u001b[1;32m----> 3\u001b[0m \u001b[38;5;28;01mfor\u001b[39;00m x,y \u001b[38;5;129;01min\u001b[39;00m list2:\n\u001b[0;32m      4\u001b[0m     \u001b[38;5;28mprint\u001b[39m(x)\n",
      "\u001b[1;31mValueError\u001b[0m: too many values to unpack (expected 2)"
     ]
    }
   ],
   "source": [
    "list2 = [[1,2,5],[3,4,6]]\n",
    "\n",
    "for x,y in list2:\n",
    "    print(x)"
   ]
  },
  {
   "cell_type": "code",
   "execution_count": 37,
   "id": "23dca08d-899f-48b3-8a39-644a712d0766",
   "metadata": {},
   "outputs": [
    {
     "name": "stdout",
     "output_type": "stream",
     "text": [
      "1\n",
      "3\n"
     ]
    }
   ],
   "source": [
    "list2 = [[1,2,5],[3,4,6]]\n",
    "\n",
    "for x,y,z in list2:\n",
    "    print(x)"
   ]
  },
  {
   "cell_type": "code",
   "execution_count": 38,
   "id": "940767d0-361c-4afe-8a69-cdb5d325d2b3",
   "metadata": {},
   "outputs": [
    {
     "name": "stdout",
     "output_type": "stream",
     "text": [
      "1\n",
      "2\n",
      "5\n",
      "3\n",
      "4\n",
      "6\n"
     ]
    }
   ],
   "source": [
    "list2 = [[1,2,5],[3,4,6]]\n",
    "\n",
    "for x,y,z in list2:\n",
    "    print(x)\n",
    "    print(y)\n",
    "    print(z)"
   ]
  },
  {
   "cell_type": "code",
   "execution_count": 39,
   "id": "1a358d24-fc51-49cb-afab-4118684fe7b8",
   "metadata": {},
   "outputs": [
    {
     "name": "stdout",
     "output_type": "stream",
     "text": [
      "0.4\n",
      "2.0\n"
     ]
    }
   ],
   "source": [
    "list2 = [[1,2,5],[3,4,6]]\n",
    "\n",
    "for x,y,z in list2:\n",
    "    print(x*y/z)"
   ]
  },
  {
   "cell_type": "code",
   "execution_count": 44,
   "id": "a592b0f1-816a-4bd4-8bdb-9847b8cc071a",
   "metadata": {},
   "outputs": [
    {
     "name": "stdout",
     "output_type": "stream",
     "text": [
      "key : name \tValue : Jack\n",
      "key : surname \tValue : Sparraow\n"
     ]
    }
   ],
   "source": [
    "commentators1 = {'name':'Jack',\n",
    "                 'surname':'Sparraow'}\n",
    "\n",
    "for k, v in commentators1.items():\n",
    "    print(\"key : {0} \\tValue : {1}\".format(k,v))"
   ]
  },
  {
   "cell_type": "code",
   "execution_count": 46,
   "id": "f96d7a1e-489c-419b-ab2e-640a337dc97a",
   "metadata": {},
   "outputs": [
    {
     "name": "stdout",
     "output_type": "stream",
     "text": [
      "key : name\n",
      "key : surname\n"
     ]
    }
   ],
   "source": [
    "for k in commentators1.keys():\n",
    "    print(\"key : {0}\".format(k))"
   ]
  },
  {
   "cell_type": "markdown",
   "id": "9929431a-20a7-4fa6-b4eb-5187085e55b5",
   "metadata": {},
   "source": [
    "## while loop"
   ]
  },
  {
   "cell_type": "code",
   "execution_count": 47,
   "id": "e27ff953-c470-48e2-8a95-16fa79c86f0d",
   "metadata": {},
   "outputs": [
    {
     "name": "stdout",
     "output_type": "stream",
     "text": [
      "0 < 10\n",
      "1 < 10\n",
      "2 < 10\n",
      "3 < 10\n",
      "4 < 10\n",
      "5 < 10\n",
      "6 < 10\n",
      "7 < 10\n",
      "8 < 10\n",
      "9 < 10\n"
     ]
    }
   ],
   "source": [
    "x = 0\n",
    "while x < 10:\n",
    "    print('{} < 10'.format(x))\n",
    "    x += 1"
   ]
  },
  {
   "cell_type": "code",
   "execution_count": 48,
   "id": "abc08430-5d55-44ac-83cb-e57dcb2c8384",
   "metadata": {},
   "outputs": [
    {
     "name": "stdout",
     "output_type": "stream",
     "text": [
      "0 < 10\n",
      "1 < 10\n",
      "2 < 10\n",
      "3 < 10\n",
      "4 < 10\n",
      "5 < 10\n",
      "6 < 10\n",
      "7 < 10\n",
      "8 < 10\n",
      "9 < 10\n",
      "10 = 10\n"
     ]
    }
   ],
   "source": [
    "x = 0\n",
    "while x < 10:\n",
    "    print('{} < 10'.format(x))\n",
    "    x += 1\n",
    "else:\n",
    "    print('{} = 10'.format(x))"
   ]
  },
  {
   "cell_type": "code",
   "execution_count": 53,
   "id": "47bbe936-1393-4c28-b7f0-53c8285d2799",
   "metadata": {},
   "outputs": [
    {
     "name": "stdout",
     "output_type": "stream",
     "text": [
      "120\n"
     ]
    }
   ],
   "source": [
    "# factorial\n",
    "\n",
    "number = 5\n",
    "conclusion = 1\n",
    "\n",
    "while number > 0:\n",
    "    conclusion = conclusion * number\n",
    "    number -= 1\n",
    "   \n",
    "print(conclusion)"
   ]
  },
  {
   "cell_type": "markdown",
   "id": "892e8bcb-8ad0-41a5-a7ec-5e215bdd2bcd",
   "metadata": {},
   "source": [
    "### enumerate"
   ]
  },
  {
   "cell_type": "code",
   "execution_count": 74,
   "id": "3deb7a63-34ce-4c42-89ea-31b7452a411f",
   "metadata": {},
   "outputs": [
    {
     "name": "stdout",
     "output_type": "stream",
     "text": [
      "(0, 'a')\n",
      "(1, 'b')\n",
      "(2, 'c')\n",
      "(3, 'd')\n",
      "(4, 'e')\n",
      "(5, 'f')\n"
     ]
    }
   ],
   "source": [
    "letter1 = ['a','b','c','d','e','f']\n",
    "\n",
    "for i in enumerate(letter1):\n",
    "    print(i)\n",
    "    "
   ]
  },
  {
   "cell_type": "code",
   "execution_count": 76,
   "id": "3c73c51e-298a-4b86-8e48-c8755677b434",
   "metadata": {},
   "outputs": [
    {
     "name": "stdout",
     "output_type": "stream",
     "text": [
      "0. letter a\n",
      "1. letter b\n",
      "2. letter c\n",
      "3. letter d\n",
      "4. letter e\n",
      "5. letter f\n"
     ]
    }
   ],
   "source": [
    "for index,j in enumerate(letter1):\n",
    "    print(\"{}. letter {}\".format(index,j))"
   ]
  },
  {
   "cell_type": "markdown",
   "id": "438da292-97f9-4fec-9942-0ca9a88e6f76",
   "metadata": {},
   "source": [
    "### zip"
   ]
  },
  {
   "cell_type": "code",
   "execution_count": 78,
   "id": "a38d8ac3-43cc-4200-b80f-a0f5feaa2e1c",
   "metadata": {},
   "outputs": [
    {
     "name": "stdout",
     "output_type": "stream",
     "text": [
      "('TR', 1)\n",
      "('USA', 2)\n",
      "('NE', 3)\n"
     ]
    }
   ],
   "source": [
    "country = ['TR','USA','NE']\n",
    "number11 = range(1,4)\n",
    "## equal in length\n",
    "\n",
    "for i in zip(country,number11):\n",
    "    print(i)"
   ]
  },
  {
   "cell_type": "code",
   "execution_count": 79,
   "id": "1dc90525-450a-4738-857e-8ba01b7f1209",
   "metadata": {},
   "outputs": [
    {
     "name": "stdout",
     "output_type": "stream",
     "text": [
      "TR 1\n",
      "USA 2\n",
      "NE 3\n"
     ]
    }
   ],
   "source": [
    "for i,j in zip(country,number11):\n",
    "    print(i,j)"
   ]
  },
  {
   "cell_type": "markdown",
   "id": "6ce084cf-a453-4051-8ad4-3ea78582f4b7",
   "metadata": {},
   "source": [
    "### range"
   ]
  },
  {
   "cell_type": "code",
   "execution_count": 55,
   "id": "eb8c3ad4-6ff7-47bf-b078-ec2a518bf753",
   "metadata": {},
   "outputs": [
    {
     "data": {
      "text/plain": [
       "range(0, 10)"
      ]
     },
     "execution_count": 55,
     "metadata": {},
     "output_type": "execute_result"
    }
   ],
   "source": [
    "range(10) # 0,1...,9 not 10"
   ]
  },
  {
   "cell_type": "code",
   "execution_count": 56,
   "id": "8fbb1a60-834d-4139-b61a-781e0556bc82",
   "metadata": {},
   "outputs": [
    {
     "data": {
      "text/plain": [
       "range"
      ]
     },
     "execution_count": 56,
     "metadata": {},
     "output_type": "execute_result"
    }
   ],
   "source": [
    "type(range(10))"
   ]
  },
  {
   "cell_type": "code",
   "execution_count": 66,
   "id": "c24e6986-7792-4593-8916-f7516410020c",
   "metadata": {},
   "outputs": [
    {
     "data": {
      "text/plain": [
       "[0, 1, 2, 3, 4, 5, 6, 7, 8, 9]"
      ]
     },
     "execution_count": 66,
     "metadata": {},
     "output_type": "execute_result"
    }
   ],
   "source": [
    "[*range(10)]"
   ]
  },
  {
   "cell_type": "code",
   "execution_count": 67,
   "id": "6cfef5b2-c094-4eed-ad5c-cd1aba1ecffe",
   "metadata": {},
   "outputs": [
    {
     "data": {
      "text/plain": [
       "[10, 11, 12, 13, 14, 15, 16, 17, 18, 19, 20, 21]"
      ]
     },
     "execution_count": 67,
     "metadata": {},
     "output_type": "execute_result"
    }
   ],
   "source": [
    "[*range(10,22)]"
   ]
  },
  {
   "cell_type": "code",
   "execution_count": 68,
   "id": "cf6c17ea-3ef8-40ea-beb3-f4d8bc2bd266",
   "metadata": {},
   "outputs": [
    {
     "name": "stdout",
     "output_type": "stream",
     "text": [
      "0\n",
      "1\n",
      "2\n",
      "3\n",
      "4\n"
     ]
    }
   ],
   "source": [
    "for i in range(5):\n",
    "    print(i)"
   ]
  },
  {
   "cell_type": "code",
   "execution_count": 70,
   "id": "2eaaf216-83fd-4811-b560-d9c6df7636ab",
   "metadata": {},
   "outputs": [
    {
     "name": "stdout",
     "output_type": "stream",
     "text": [
      "6\n",
      "7\n",
      "8\n",
      "9\n"
     ]
    }
   ],
   "source": [
    "for i in range(10):\n",
    "    if i > 5:\n",
    "        print(i)"
   ]
  },
  {
   "cell_type": "markdown",
   "id": "a23f2342-7b5b-44c5-b513-afaa5f0ebcbe",
   "metadata": {},
   "source": [
    "### break"
   ]
  },
  {
   "cell_type": "code",
   "execution_count": 84,
   "id": "e1a0c9a7-c13b-4e20-8f49-7167168d3d68",
   "metadata": {},
   "outputs": [
    {
     "name": "stdout",
     "output_type": "stream",
     "text": [
      "c letter \n",
      "2. index\n"
     ]
    }
   ],
   "source": [
    "letter1 = ['a','b','c','d','e','f'] * 100\n",
    "\n",
    "for index, letter in enumerate(letter1):\n",
    "    if letter == \"c\":\n",
    "        print(\"{} letter \\n{}. index\".format(letter,index))\n",
    "        break\n",
    "    \n"
   ]
  },
  {
   "cell_type": "markdown",
   "id": "f08c33cf-9777-44c8-9233-bb59d1996d15",
   "metadata": {},
   "source": [
    "### continue"
   ]
  },
  {
   "cell_type": "code",
   "execution_count": 86,
   "id": "3369c37f-a80d-4ab6-a577-610567e1f0d2",
   "metadata": {},
   "outputs": [
    {
     "name": "stdout",
     "output_type": "stream",
     "text": [
      "1\n",
      "3\n",
      "5\n",
      "7\n",
      "9\n"
     ]
    }
   ],
   "source": [
    "for i in range(1,10):  ##double number query\n",
    "    if i%2 == 0:\n",
    "        continue\n",
    "    print(i)"
   ]
  },
  {
   "cell_type": "code",
   "execution_count": 89,
   "id": "756da2fc-93d8-4142-84c0-d309762327a1",
   "metadata": {},
   "outputs": [
    {
     "name": "stdout",
     "output_type": "stream",
     "text": [
      "1\n",
      "3\n",
      "5\n",
      "7\n",
      "9\n"
     ]
    }
   ],
   "source": [
    "for i in range(1,10):  ##double number query\n",
    "    if i%2 != 0:\n",
    "        print(i)"
   ]
  },
  {
   "cell_type": "markdown",
   "id": "eea4ad0b-c6bc-4c44-9047-43ae7df56dc4",
   "metadata": {},
   "source": [
    "### pass"
   ]
  },
  {
   "cell_type": "code",
   "execution_count": 88,
   "id": "e1281f6d-f36c-47fc-93f2-9b41fab14a03",
   "metadata": {},
   "outputs": [
    {
     "name": "stdout",
     "output_type": "stream",
     "text": [
      "2\n",
      "4\n",
      "6\n",
      "8\n"
     ]
    }
   ],
   "source": [
    "for i in range(1,10):\n",
    "    if i%2 == 0:\n",
    "        pass\n",
    "    else:\n",
    "        print(i)"
   ]
  },
  {
   "cell_type": "code",
   "execution_count": 91,
   "id": "1117ca4f-ed6e-4ac0-a91e-5eabb9346ae2",
   "metadata": {},
   "outputs": [
    {
     "name": "stdout",
     "output_type": "stream",
     "text": [
      "2\n",
      "4\n",
      "6\n",
      "8\n"
     ]
    }
   ],
   "source": [
    "for i in range(1,10):\n",
    "    if i%2 != 0:\n",
    "        pass\n",
    "    else:\n",
    "        print(i)"
   ]
  },
  {
   "cell_type": "code",
   "execution_count": 93,
   "id": "c2d16b77-c2fb-4d7c-a6c1-ef8dd902ccff",
   "metadata": {},
   "outputs": [
    {
     "name": "stdout",
     "output_type": "stream",
     "text": [
      "hi\n"
     ]
    }
   ],
   "source": [
    "if i < 0:\n",
    "    pass\n",
    "else:\n",
    "    print('hi')"
   ]
  }
 ],
 "metadata": {
  "kernelspec": {
   "display_name": "Python 3 (ipykernel)",
   "language": "python",
   "name": "python3"
  },
  "language_info": {
   "codemirror_mode": {
    "name": "ipython",
    "version": 3
   },
   "file_extension": ".py",
   "mimetype": "text/x-python",
   "name": "python",
   "nbconvert_exporter": "python",
   "pygments_lexer": "ipython3",
   "version": "3.10.9"
  }
 },
 "nbformat": 4,
 "nbformat_minor": 5
}
