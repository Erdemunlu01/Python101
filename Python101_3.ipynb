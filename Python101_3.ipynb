{
 "cells": [
  {
   "cell_type": "markdown",
   "id": "51f978ef-a0d7-4538-bc13-fc1c8ad00cff",
   "metadata": {},
   "source": [
    "# PYTHON 101 PART 4"
   ]
  },
  {
   "cell_type": "markdown",
   "id": "717e2621-138b-4ae0-a0bd-6543fe95cc73",
   "metadata": {},
   "source": [
    "## CLASS, OOP"
   ]
  },
  {
   "cell_type": "code",
   "execution_count": 11,
   "id": "0eda5bff-7f22-4790-b301-acb20bf59877",
   "metadata": {},
   "outputs": [],
   "source": [
    "class Fly():\n",
    "    airline = 'THY'"
   ]
  },
  {
   "cell_type": "code",
   "execution_count": 12,
   "id": "9e42d5c7-2d1b-4002-9af6-dd7b7e117bc0",
   "metadata": {},
   "outputs": [],
   "source": [
    "fly1 = Fly()"
   ]
  },
  {
   "cell_type": "code",
   "execution_count": 13,
   "id": "76c8be29-726f-4a0b-82e6-fa652556261e",
   "metadata": {},
   "outputs": [
    {
     "data": {
      "text/plain": [
       "'THY'"
      ]
     },
     "execution_count": 13,
     "metadata": {},
     "output_type": "execute_result"
    }
   ],
   "source": [
    "fly1.airline"
   ]
  },
  {
   "cell_type": "code",
   "execution_count": 14,
   "id": "d96469a5-8f73-4c3c-902e-0307fcea2dbe",
   "metadata": {},
   "outputs": [],
   "source": [
    "class Fly1():\n",
    "    airline = 'THY'\n",
    "    def __init__(self, code, departure, arrival, duration, capacity, passangers):\n",
    "        self.code = code\n",
    "        self.departure = departure\n",
    "        self.arrival = arrival\n",
    "        self.duration = duration\n",
    "        self.capacity = capacity\n",
    "        self.passangers = passangers"
   ]
  },
  {
   "cell_type": "code",
   "execution_count": 15,
   "id": "23d7c480-0e06-47af-8016-50a047f5334b",
   "metadata": {},
   "outputs": [
    {
     "ename": "TypeError",
     "evalue": "Fly1.__init__() missing 6 required positional arguments: 'code', 'departure', 'arrival', 'duration', 'capacity', and 'passangers'",
     "output_type": "error",
     "traceback": [
      "\u001b[1;31m---------------------------------------------------------------------------\u001b[0m",
      "\u001b[1;31mTypeError\u001b[0m                                 Traceback (most recent call last)",
      "Cell \u001b[1;32mIn[15], line 1\u001b[0m\n\u001b[1;32m----> 1\u001b[0m fly2 \u001b[38;5;241m=\u001b[39m \u001b[43mFly1\u001b[49m\u001b[43m(\u001b[49m\u001b[43m)\u001b[49m\n",
      "\u001b[1;31mTypeError\u001b[0m: Fly1.__init__() missing 6 required positional arguments: 'code', 'departure', 'arrival', 'duration', 'capacity', and 'passangers'"
     ]
    }
   ],
   "source": [
    "fly2 = Fly1()"
   ]
  },
  {
   "cell_type": "code",
   "execution_count": 22,
   "id": "f07e745d-d0aa-4435-ab3d-82b0893160d7",
   "metadata": {},
   "outputs": [],
   "source": [
    "fly3 = Fly1('TK123','IST','NY',520,120,84)"
   ]
  },
  {
   "cell_type": "code",
   "execution_count": 23,
   "id": "56eee013-08ef-42b9-a54d-74b042323ea8",
   "metadata": {},
   "outputs": [
    {
     "data": {
      "text/plain": [
       "'TK123'"
      ]
     },
     "execution_count": 23,
     "metadata": {},
     "output_type": "execute_result"
    }
   ],
   "source": [
    "fly3.code"
   ]
  },
  {
   "cell_type": "code",
   "execution_count": 24,
   "id": "68e80df8-2963-4a9c-ad09-f4eb88a44241",
   "metadata": {},
   "outputs": [
    {
     "data": {
      "text/plain": [
       "84"
      ]
     },
     "execution_count": 24,
     "metadata": {},
     "output_type": "execute_result"
    }
   ],
   "source": [
    "fly3.passangers"
   ]
  },
  {
   "cell_type": "code",
   "execution_count": 25,
   "id": "fc20a394-cdb4-4ac3-931f-28c5aaa14c57",
   "metadata": {},
   "outputs": [],
   "source": [
    "fly4 = Fly1('TK201','LN','CL',248,120,13)"
   ]
  },
  {
   "cell_type": "code",
   "execution_count": 26,
   "id": "79f35d9c-b9ca-4572-98bf-49733bf9325f",
   "metadata": {},
   "outputs": [
    {
     "data": {
      "text/plain": [
       "248"
      ]
     },
     "execution_count": 26,
     "metadata": {},
     "output_type": "execute_result"
    }
   ],
   "source": [
    "fly4.duration"
   ]
  },
  {
   "cell_type": "code",
   "execution_count": 30,
   "id": "eb889e40-4cce-4cf3-91c5-27ec4140f455",
   "metadata": {},
   "outputs": [],
   "source": [
    "class Fly2():\n",
    "    airline = 'THY'  #class attribute\n",
    "    def __init__(self, code, departure, arrival, duration, capacity, passangers): #instance attribute\n",
    "        self.code = code\n",
    "        self.departure = departure\n",
    "        self.arrival = arrival\n",
    "        self.duration = duration\n",
    "        self.capacity = capacity\n",
    "        self.passangers = passangers\n",
    "    def announcement(self):  #method\n",
    "        return \"Our {}-{} flight number {} will last {} minutes.\".format(\n",
    "            self.departure,\n",
    "            self.arrival,\n",
    "            self.code,\n",
    "            self.duration)"
   ]
  },
  {
   "cell_type": "code",
   "execution_count": 31,
   "id": "4ae9fc41-2141-4ee9-ba23-8a056b44ecd0",
   "metadata": {},
   "outputs": [
    {
     "data": {
      "text/plain": [
       "'Our LN-CL flight number TK201 will last 248 minutes.'"
      ]
     },
     "execution_count": 31,
     "metadata": {},
     "output_type": "execute_result"
    }
   ],
   "source": [
    "fly4 = Fly2('TK201','LN','CL',248,120,13)\n",
    "fly4.announcement()"
   ]
  },
  {
   "cell_type": "markdown",
   "id": "ca3cdb76-b8a5-42d2-977e-3fe8f84ddcdd",
   "metadata": {},
   "source": [
    "## Methods"
   ]
  },
  {
   "cell_type": "code",
   "execution_count": 32,
   "id": "7214c4c3-25ee-48bf-83de-6131b52a063a",
   "metadata": {},
   "outputs": [],
   "source": [
    "class Fly3():\n",
    "    airline = 'THY'  #class attribute\n",
    "    def __init__(self, code, departure, arrival, duration, capacity, passangers): #instance attribute\n",
    "        self.code = code\n",
    "        self.departure = departure\n",
    "        self.arrival = arrival\n",
    "        self.duration = duration\n",
    "        self.capacity = capacity\n",
    "        self.passangers = passangers\n",
    "    def announcement(self):  #method\n",
    "        return \"Our {}-{} flight number {} will last {} minutes.\".format(\n",
    "            self.departure,\n",
    "            self.arrival,\n",
    "            self.code,\n",
    "            self.duration)\n",
    "    def occup_upd(self):\n",
    "        return self.capacity - self.passangers"
   ]
  },
  {
   "cell_type": "code",
   "execution_count": 34,
   "id": "829263e2-c825-48d5-9a69-663f8e910cfc",
   "metadata": {},
   "outputs": [
    {
     "data": {
      "text/plain": [
       "107"
      ]
     },
     "execution_count": 34,
     "metadata": {},
     "output_type": "execute_result"
    }
   ],
   "source": [
    "fly4 = Fly3('TK201','LN','CL',248,120,13)\n",
    "fly4.occup_upd()"
   ]
  },
  {
   "cell_type": "code",
   "execution_count": 92,
   "id": "65200644-d0bf-4753-9849-94465b16dccc",
   "metadata": {},
   "outputs": [],
   "source": [
    "class Fly3():\n",
    "    airline = 'THY'  #class attribute\n",
    "    def __init__(self, code, departure, arrival, duration, capacity, passangers): #instance attribute\n",
    "        self.code = code\n",
    "        self.departure = departure\n",
    "        self.arrival = arrival\n",
    "        self.duration = duration\n",
    "        self.capacity = capacity\n",
    "        self.passangers = passangers\n",
    "    def announcement(self):  #method\n",
    "        return \"Our {}-{} flight number {} will last {} minutes.\".format(\n",
    "            self.departure,\n",
    "            self.arrival,\n",
    "            self.code,\n",
    "            self.duration)\n",
    "    def occup_upd(self):\n",
    "        return self.capacity - self.passangers\n",
    "    def ticket_sell(self, tck= 1):\n",
    "        if self.passangers + tck <= self.capacity:\n",
    "            self.passangers += tck\n",
    "            #self.occup_upd()\n",
    "            print('number of tickets purchased: {} \\nremaining number of tickets: {}'.format(\n",
    "                  tck,\n",
    "                  self.occup_upd()))\n",
    "        else:\n",
    "            print(\"insufficient number of seats. \\nnumber of seats: {}\".format(\n",
    "                  self.occup_upd()))\n",
    "    def canc_tck(self, tck=1):\n",
    "        if self.passangers >= tck:\n",
    "            self.passangers -= tck\n",
    "            print('number of canceled tickets: {} \\nremaining number of tickets: {}'.format(\n",
    "                  tck,\n",
    "                  self.occup_upd()))\n",
    "        else:\n",
    "            print(\"could not be canceled. \\nnumber of passangers: {}\".format(\n",
    "                  self.passangers))"
   ]
  },
  {
   "cell_type": "code",
   "execution_count": 93,
   "id": "02a704a9-66ff-41c2-bce2-e1ea11174b73",
   "metadata": {},
   "outputs": [
    {
     "data": {
      "text/plain": [
       "120"
      ]
     },
     "execution_count": 93,
     "metadata": {},
     "output_type": "execute_result"
    }
   ],
   "source": [
    "fly4 = Fly3('TK201','LN','CL',248,120,0)\n",
    "fly4.occup_upd()"
   ]
  },
  {
   "cell_type": "code",
   "execution_count": 94,
   "id": "4781c87d-6eca-4f98-b662-562d1576683b",
   "metadata": {},
   "outputs": [
    {
     "name": "stdout",
     "output_type": "stream",
     "text": [
      "number of tickets purchased: 5 \n",
      "remaining number of tickets: 115\n"
     ]
    }
   ],
   "source": [
    "fly4.ticket_sell(5)"
   ]
  },
  {
   "cell_type": "code",
   "execution_count": 95,
   "id": "b06a8910-e4de-47c9-ba93-00942a936696",
   "metadata": {},
   "outputs": [
    {
     "name": "stdout",
     "output_type": "stream",
     "text": [
      "number of tickets purchased: 5 \n",
      "remaining number of tickets: 110\n"
     ]
    }
   ],
   "source": [
    "fly4.ticket_sell(5)"
   ]
  },
  {
   "cell_type": "code",
   "execution_count": 96,
   "id": "490725f6-0a58-49c0-a69e-9bc4b4d87f2e",
   "metadata": {},
   "outputs": [
    {
     "data": {
      "text/plain": [
       "10"
      ]
     },
     "execution_count": 96,
     "metadata": {},
     "output_type": "execute_result"
    }
   ],
   "source": [
    "fly4.passangers"
   ]
  },
  {
   "cell_type": "code",
   "execution_count": 97,
   "id": "f4add4c5-6b95-4c98-845c-d8b194155912",
   "metadata": {},
   "outputs": [
    {
     "name": "stdout",
     "output_type": "stream",
     "text": [
      "number of tickets purchased: 50 \n",
      "remaining number of tickets: 60\n"
     ]
    }
   ],
   "source": [
    "fly4.ticket_sell(50)"
   ]
  },
  {
   "cell_type": "code",
   "execution_count": 98,
   "id": "73d96682-c5ac-40db-9734-0ae5cb2122db",
   "metadata": {},
   "outputs": [
    {
     "name": "stdout",
     "output_type": "stream",
     "text": [
      "number of tickets purchased: 50 \n",
      "remaining number of tickets: 10\n"
     ]
    }
   ],
   "source": [
    "fly4.ticket_sell(50)"
   ]
  },
  {
   "cell_type": "code",
   "execution_count": 99,
   "id": "475aee6c-4798-406d-ab9d-b171e0d3cdb1",
   "metadata": {},
   "outputs": [
    {
     "name": "stdout",
     "output_type": "stream",
     "text": [
      "insufficient number of seats. \n",
      "number of seats: 10\n"
     ]
    }
   ],
   "source": [
    "fly4.ticket_sell(50)"
   ]
  },
  {
   "cell_type": "code",
   "execution_count": 100,
   "id": "381f336e-6fb3-4d31-858b-2e26d9379a27",
   "metadata": {},
   "outputs": [
    {
     "name": "stdout",
     "output_type": "stream",
     "text": [
      "number of canceled tickets: 4 \n",
      "remaining number of tickets: 14\n"
     ]
    }
   ],
   "source": [
    "fly4.canc_tck(4)"
   ]
  },
  {
   "cell_type": "code",
   "execution_count": 101,
   "id": "19e28df7-23df-4857-ac7e-9e24757efbcd",
   "metadata": {},
   "outputs": [
    {
     "name": "stdout",
     "output_type": "stream",
     "text": [
      "number of canceled tickets: 40 \n",
      "remaining number of tickets: 54\n"
     ]
    }
   ],
   "source": [
    "fly4.canc_tck(40)"
   ]
  },
  {
   "cell_type": "code",
   "execution_count": 102,
   "id": "cbadecd4-f3f2-44a7-bbe6-150e3359664b",
   "metadata": {},
   "outputs": [
    {
     "name": "stdout",
     "output_type": "stream",
     "text": [
      "could not be canceled. \n",
      "number of passangers: 66\n"
     ]
    }
   ],
   "source": [
    "fly4.canc_tck(400)"
   ]
  },
  {
   "cell_type": "markdown",
   "id": "721cf65b-a9ab-48f9-9fd3-1bf2093f25dc",
   "metadata": {},
   "source": [
    "## Dunder Method"
   ]
  },
  {
   "cell_type": "code",
   "execution_count": 104,
   "id": "846e718b-f1a7-4a34-868c-1edf0ec49301",
   "metadata": {},
   "outputs": [
    {
     "data": {
      "text/plain": [
       "['code',\n",
       " 'departure',\n",
       " 'arrival',\n",
       " 'duration',\n",
       " 'capacity',\n",
       " 'passangers',\n",
       " '__module__',\n",
       " 'airline',\n",
       " '__init__',\n",
       " 'announcement',\n",
       " 'occup_upd',\n",
       " 'ticket_sell',\n",
       " 'canc_tck',\n",
       " '__dict__',\n",
       " '__weakref__',\n",
       " '__doc__',\n",
       " '__new__',\n",
       " '__repr__',\n",
       " '__hash__',\n",
       " '__str__',\n",
       " '__getattribute__',\n",
       " '__setattr__',\n",
       " '__delattr__',\n",
       " '__lt__',\n",
       " '__le__',\n",
       " '__eq__',\n",
       " '__ne__',\n",
       " '__gt__',\n",
       " '__ge__',\n",
       " '__reduce_ex__',\n",
       " '__reduce__',\n",
       " '__subclasshook__',\n",
       " '__init_subclass__',\n",
       " '__format__',\n",
       " '__sizeof__',\n",
       " '__dir__',\n",
       " '__class__']"
      ]
     },
     "execution_count": 104,
     "metadata": {},
     "output_type": "execute_result"
    }
   ],
   "source": [
    "fly4.__dir__()"
   ]
  },
  {
   "cell_type": "code",
   "execution_count": 106,
   "id": "08b216b4-def7-4912-b44b-bd8119a1f010",
   "metadata": {},
   "outputs": [],
   "source": [
    "class Fly3():\n",
    "    airline = 'THY'  #class attribute\n",
    "    def __init__(self, code, departure, arrival, duration, capacity, passangers): #instance attribute\n",
    "        self.code = code\n",
    "        self.departure = departure\n",
    "        self.arrival = arrival\n",
    "        self.duration = duration\n",
    "        self.capacity = capacity\n",
    "        self.passangers = passangers\n",
    "        \n",
    "    def __repr__(self):\n",
    "        return \"A record with flight code {} was created\".format(self.code)\n",
    "    \n",
    "    \n",
    "    def announcement(self):  #method\n",
    "        return \"Our {}-{} flight number {} will last {} minutes.\".format(\n",
    "            self.departure,\n",
    "            self.arrival,\n",
    "            self.code,\n",
    "            self.duration)\n",
    "    def occup_upd(self):\n",
    "        return self.capacity - self.passangers\n",
    "    def ticket_sell(self, tck= 1):\n",
    "        if self.passangers + tck <= self.capacity:\n",
    "            self.passangers += tck\n",
    "            #self.occup_upd()\n",
    "            print('number of tickets purchased: {} \\nremaining number of tickets: {}'.format(\n",
    "                  tck,\n",
    "                  self.occup_upd()))\n",
    "        else:\n",
    "            print(\"insufficient number of seats. \\nnumber of seats: {}\".format(\n",
    "                  self.occup_upd()))\n",
    "    def canc_tck(self, tck=1):\n",
    "        if self.passangers >= tck:\n",
    "            self.passangers -= tck\n",
    "            print('number of canceled tickets: {} \\nremaining number of tickets: {}'.format(\n",
    "                  tck,\n",
    "                  self.occup_upd()))\n",
    "        else:\n",
    "            print(\"could not be canceled. \\nnumber of passangers: {}\".format(\n",
    "                  self.passangers))"
   ]
  },
  {
   "cell_type": "code",
   "execution_count": 107,
   "id": "874bf2e0-56fb-4fb6-b97b-8939e3bc1850",
   "metadata": {},
   "outputs": [
    {
     "data": {
      "text/plain": [
       "'A record with flight code TK201 was created'"
      ]
     },
     "execution_count": 107,
     "metadata": {},
     "output_type": "execute_result"
    }
   ],
   "source": [
    "fly4 = Fly3('TK201','LN','CL',248,120,0)\n",
    "fly4.__repr__()"
   ]
  },
  {
   "cell_type": "code",
   "execution_count": 108,
   "id": "6be8a080-de5c-417f-a210-0e2bf660af84",
   "metadata": {},
   "outputs": [
    {
     "data": {
      "text/plain": [
       "A record with flight code TK201 was created"
      ]
     },
     "execution_count": 108,
     "metadata": {},
     "output_type": "execute_result"
    }
   ],
   "source": [
    "fly4"
   ]
  },
  {
   "cell_type": "code",
   "execution_count": 109,
   "id": "ef1ef520-7181-4aa4-90a5-d573be6f5c8e",
   "metadata": {},
   "outputs": [
    {
     "data": {
      "text/plain": [
       "['code',\n",
       " 'departure',\n",
       " 'arrival',\n",
       " 'duration',\n",
       " 'capacity',\n",
       " 'passangers',\n",
       " '__module__',\n",
       " 'airline',\n",
       " '__init__',\n",
       " '__repr__',\n",
       " 'announcement',\n",
       " 'occup_upd',\n",
       " 'ticket_sell',\n",
       " 'canc_tck',\n",
       " '__dict__',\n",
       " '__weakref__',\n",
       " '__doc__',\n",
       " '__new__',\n",
       " '__hash__',\n",
       " '__str__',\n",
       " '__getattribute__',\n",
       " '__setattr__',\n",
       " '__delattr__',\n",
       " '__lt__',\n",
       " '__le__',\n",
       " '__eq__',\n",
       " '__ne__',\n",
       " '__gt__',\n",
       " '__ge__',\n",
       " '__reduce_ex__',\n",
       " '__reduce__',\n",
       " '__subclasshook__',\n",
       " '__init_subclass__',\n",
       " '__format__',\n",
       " '__sizeof__',\n",
       " '__dir__',\n",
       " '__class__']"
      ]
     },
     "execution_count": 109,
     "metadata": {},
     "output_type": "execute_result"
    }
   ],
   "source": [
    "fly4.__dir__()"
   ]
  },
  {
   "cell_type": "markdown",
   "id": "876224a2-d7a1-4151-9129-4ddd13752953",
   "metadata": {},
   "source": [
    "# Inheritance"
   ]
  },
  {
   "cell_type": "code",
   "execution_count": 131,
   "id": "a3c1395f-9d96-4d5a-a734-119fc4f28da7",
   "metadata": {},
   "outputs": [],
   "source": [
    "class Trip():\n",
    "    def __init__(self, departure, arrival):\n",
    "        self.departure = departure\n",
    "        self.arrival = arrival\n",
    "    def announcement(self):  #method\n",
    "        return \"Welcome to {} - {} trip\".format(\n",
    "            self.departure,\n",
    "            self.arrival)\n",
    "    \n",
    "class Busses(Trip):\n",
    "    def __init__(self, reststop, departure, arrival):\n",
    "        Trip.__init__(self, departure, arrival)\n",
    "        self.reststop = reststop"
   ]
  },
  {
   "cell_type": "code",
   "execution_count": 132,
   "id": "67c4fd85-4ab4-49b8-87c2-1ec1ec2a2322",
   "metadata": {},
   "outputs": [
    {
     "data": {
      "text/plain": [
       "'Welcome to ANT - BOD trip'"
      ]
     },
     "execution_count": 132,
     "metadata": {},
     "output_type": "execute_result"
    }
   ],
   "source": [
    "trip1 = Trip('ANT','BOD')\n",
    "trip1.announcement()"
   ]
  },
  {
   "cell_type": "code",
   "execution_count": 133,
   "id": "77b0ee51-a5bb-4f21-868a-5a3d3babde0f",
   "metadata": {},
   "outputs": [
    {
     "data": {
      "text/plain": [
       "['FET', 'ALN']"
      ]
     },
     "execution_count": 133,
     "metadata": {},
     "output_type": "execute_result"
    }
   ],
   "source": [
    "bus1 = Busses(['FET','ALN'],'ANT','BOD')\n",
    "bus1.reststop"
   ]
  },
  {
   "cell_type": "code",
   "execution_count": 134,
   "id": "317334ca-ea97-4a82-a5cb-d8d55473b081",
   "metadata": {},
   "outputs": [
    {
     "data": {
      "text/plain": [
       "'Welcome to ANT - BOD trip'"
      ]
     },
     "execution_count": 134,
     "metadata": {},
     "output_type": "execute_result"
    }
   ],
   "source": [
    "bus1.announcement()"
   ]
  },
  {
   "cell_type": "markdown",
   "id": "d25e7a36-439f-40af-aa05-01aabb2a81c4",
   "metadata": {},
   "source": [
    "## Moduls"
   ]
  },
  {
   "cell_type": "code",
   "execution_count": 139,
   "id": "7a52fcf5-5841-43c4-b46b-4f33c7ae875c",
   "metadata": {},
   "outputs": [
    {
     "data": {
      "text/plain": [
       "'C:\\\\Users\\\\erdem\\\\Desktop\\\\Python101'"
      ]
     },
     "execution_count": 139,
     "metadata": {},
     "output_type": "execute_result"
    }
   ],
   "source": [
    "%pwd"
   ]
  },
  {
   "cell_type": "code",
   "execution_count": 141,
   "id": "6d5cc900-3f6d-4d1d-8cc6-e8a2576d20df",
   "metadata": {},
   "outputs": [
    {
     "name": "stdout",
     "output_type": "stream",
     "text": [
      " Volume in drive C is Windows\n",
      " Volume Serial Number is CED3-FFD4\n",
      "\n",
      " Directory of C:\\Users\\erdem\\Desktop\\Python101\n",
      "\n",
      "31.12.2024  23:15    <DIR>          .\n",
      "30.12.2024  20:12    <DIR>          ..\n",
      "31.12.2024  21:30    <DIR>          .ipynb_checkpoints\n",
      "31.12.2024  20:45            33.580 Python101_0.ipynb\n",
      "30.12.2024  18:11            23.144 Python101_1.ipynb\n",
      "31.12.2024  21:23            35.943 Python101_2.ipynb\n",
      "31.12.2024  23:15            22.758 Python101_3.ipynb\n",
      "               4 File(s)        115.425 bytes\n",
      "               3 Dir(s)  62.846.062.592 bytes free\n"
     ]
    }
   ],
   "source": [
    "%ls"
   ]
  },
  {
   "cell_type": "markdown",
   "id": "7a1fd066-7fec-4c80-877e-ccdaee34374f",
   "metadata": {},
   "source": [
    "### OS"
   ]
  },
  {
   "cell_type": "code",
   "execution_count": 142,
   "id": "3c14f0f9-daaf-4bde-a122-61fede6c677d",
   "metadata": {},
   "outputs": [],
   "source": [
    "import os"
   ]
  },
  {
   "cell_type": "code",
   "execution_count": 144,
   "id": "4a2f1c09-23ec-4036-872c-22f0d2928e20",
   "metadata": {},
   "outputs": [
    {
     "data": {
      "text/plain": [
       "'C:\\\\Users\\\\erdem\\\\Desktop\\\\Python101'"
      ]
     },
     "execution_count": 144,
     "metadata": {},
     "output_type": "execute_result"
    }
   ],
   "source": [
    "os.getcwd()"
   ]
  },
  {
   "cell_type": "code",
   "execution_count": 145,
   "id": "3f585234-cdfd-4d18-9ea4-c82395dacad4",
   "metadata": {},
   "outputs": [
    {
     "data": {
      "text/plain": [
       "['.ipynb_checkpoints',\n",
       " 'Python101_0.ipynb',\n",
       " 'Python101_1.ipynb',\n",
       " 'Python101_2.ipynb',\n",
       " 'Python101_3.ipynb']"
      ]
     },
     "execution_count": 145,
     "metadata": {},
     "output_type": "execute_result"
    }
   ],
   "source": [
    "os.listdir()"
   ]
  },
  {
   "cell_type": "code",
   "execution_count": 147,
   "id": "181e9413-7f70-42a2-a247-6b90ad2368e7",
   "metadata": {},
   "outputs": [
    {
     "data": {
      "text/plain": [
       "['All Users',\n",
       " 'AppData',\n",
       " 'Default',\n",
       " 'Default User',\n",
       " 'desktop.ini',\n",
       " 'erdem',\n",
       " 'Public']"
      ]
     },
     "execution_count": 147,
     "metadata": {},
     "output_type": "execute_result"
    }
   ],
   "source": [
    "os.listdir('C:\\\\Users')"
   ]
  },
  {
   "cell_type": "code",
   "execution_count": 148,
   "id": "1663bdc3-dadf-4bfa-8679-42acbb54f5a4",
   "metadata": {},
   "outputs": [],
   "source": [
    "os.chdir('C:\\\\Users')"
   ]
  },
  {
   "cell_type": "code",
   "execution_count": 149,
   "id": "ee1d85a9-c8a7-4d1a-9328-b17298c328d1",
   "metadata": {},
   "outputs": [
    {
     "data": {
      "text/plain": [
       "['All Users',\n",
       " 'AppData',\n",
       " 'Default',\n",
       " 'Default User',\n",
       " 'desktop.ini',\n",
       " 'erdem',\n",
       " 'Public']"
      ]
     },
     "execution_count": 149,
     "metadata": {},
     "output_type": "execute_result"
    }
   ],
   "source": [
    "os.listdir()"
   ]
  },
  {
   "cell_type": "code",
   "execution_count": 150,
   "id": "0a9b55b9-068d-429c-a504-528788021bfe",
   "metadata": {},
   "outputs": [],
   "source": [
    "os.chdir('C:\\\\Users\\\\erdem\\\\Desktop\\\\Python101')"
   ]
  },
  {
   "cell_type": "code",
   "execution_count": 151,
   "id": "db50b1ba-6816-466c-8fa6-5dbbe99b372a",
   "metadata": {},
   "outputs": [
    {
     "data": {
      "text/plain": [
       "['.ipynb_checkpoints',\n",
       " 'Python101_0.ipynb',\n",
       " 'Python101_1.ipynb',\n",
       " 'Python101_2.ipynb',\n",
       " 'Python101_3.ipynb']"
      ]
     },
     "execution_count": 151,
     "metadata": {},
     "output_type": "execute_result"
    }
   ],
   "source": [
    "os.listdir()"
   ]
  },
  {
   "cell_type": "code",
   "execution_count": 152,
   "id": "6919c388-b713-4da4-b933-b04533bbcaae",
   "metadata": {},
   "outputs": [
    {
     "name": "stdout",
     "output_type": "stream",
     "text": [
      ".ipynb_checkpoints\n",
      "Python101_0.ipynb\n",
      "Python101_1.ipynb\n",
      "Python101_2.ipynb\n",
      "Python101_3.ipynb\n"
     ]
    }
   ],
   "source": [
    "list = os.listdir()\n",
    "for i in list:\n",
    "    print(i)"
   ]
  },
  {
   "cell_type": "code",
   "execution_count": 159,
   "id": "78dc6f62-6777-40f2-ab7e-0d694099e8c0",
   "metadata": {},
   "outputs": [],
   "source": [
    "os.mkdir('C:\\\\Users\\\\erdem\\\\Desktop\\\\Python101\\\\moduls')"
   ]
  },
  {
   "cell_type": "code",
   "execution_count": 160,
   "id": "9f6373f3-79ac-4a86-9b7c-716a670a729b",
   "metadata": {},
   "outputs": [
    {
     "data": {
      "text/plain": [
       "['.ipynb_checkpoints',\n",
       " 'moduls',\n",
       " 'Python101_0.ipynb',\n",
       " 'Python101_1.ipynb',\n",
       " 'Python101_2.ipynb',\n",
       " 'Python101_3.ipynb']"
      ]
     },
     "execution_count": 160,
     "metadata": {},
     "output_type": "execute_result"
    }
   ],
   "source": [
    "os.listdir()"
   ]
  },
  {
   "cell_type": "code",
   "execution_count": 161,
   "id": "46516548-455f-417c-b67f-309707a5cece",
   "metadata": {},
   "outputs": [],
   "source": [
    "os.rmdir('C:\\\\Users\\\\erdem\\\\Desktop\\\\Python101\\\\moduls') # If there is a file in the folder, it gets an error."
   ]
  },
  {
   "cell_type": "code",
   "execution_count": 162,
   "id": "ab33e4a7-204b-4667-8cc8-37baf8b78b14",
   "metadata": {},
   "outputs": [
    {
     "data": {
      "text/plain": [
       "['.ipynb_checkpoints',\n",
       " 'Python101_0.ipynb',\n",
       " 'Python101_1.ipynb',\n",
       " 'Python101_2.ipynb',\n",
       " 'Python101_3.ipynb']"
      ]
     },
     "execution_count": 162,
     "metadata": {},
     "output_type": "execute_result"
    }
   ],
   "source": [
    "os.listdir()"
   ]
  },
  {
   "cell_type": "code",
   "execution_count": 179,
   "id": "00d47719-bea4-445e-9106-5ca1b62b7213",
   "metadata": {},
   "outputs": [],
   "source": [
    "#O_RDONLY readonly\n",
    "#O_WRONLY writeonly\n",
    "#O_RDWR read and write\n",
    "#O_CREAT\n",
    "\n",
    "new_folder = os.open('new_folder.txt', os.O_RDWR|os.O_CREAT)\n",
    "os.write(new_folder, \"Hello World\".encode()) #encode() Sets the data type to byte 8-bit vb.\n",
    "os.close(new_folder)\n"
   ]
  },
  {
   "cell_type": "code",
   "execution_count": 180,
   "id": "55f795ca-48d7-46fd-a2c9-36cfe3e1e9de",
   "metadata": {},
   "outputs": [
    {
     "data": {
      "text/plain": [
       "['.ipynb_checkpoints',\n",
       " 'dir_new',\n",
       " 'new_folder.txt',\n",
       " 'Python101_0.ipynb',\n",
       " 'Python101_1.ipynb',\n",
       " 'Python101_2.ipynb',\n",
       " 'Python101_3.ipynb']"
      ]
     },
     "execution_count": 180,
     "metadata": {},
     "output_type": "execute_result"
    }
   ],
   "source": [
    "os.listdir()"
   ]
  },
  {
   "cell_type": "code",
   "execution_count": 181,
   "id": "b17a881e-2a82-46f5-ac74-ea63551e0793",
   "metadata": {},
   "outputs": [
    {
     "name": "stdout",
     "output_type": "stream",
     "text": [
      "b'Hello'\n"
     ]
    }
   ],
   "source": [
    "new_folder = os.open('new_folder.txt', os.O_RDONLY)\n",
    "contents = os.read(new_folder, 5)\n",
    "print(contents)\n",
    "os.close(new_folder)"
   ]
  },
  {
   "cell_type": "code",
   "execution_count": 182,
   "id": "181ed1ec-fec9-4b96-9ddb-fd1a1f6ff612",
   "metadata": {},
   "outputs": [
    {
     "name": "stdout",
     "output_type": "stream",
     "text": [
      "os.stat_result(st_mode=33206, st_ino=9288674232204774, st_dev=3470000084, st_nlink=1, st_uid=0, st_gid=0, st_size=11, st_atime=1735677592, st_mtime=1735677586, st_ctime=1735676911)\n"
     ]
    }
   ],
   "source": [
    "new_folder = os.open('new_folder.txt', os.O_RDONLY)\n",
    "stats = os.stat(new_folder)\n",
    "print(stats) #st_size -> number of characters\n",
    "os.close(new_folder)"
   ]
  },
  {
   "cell_type": "code",
   "execution_count": 183,
   "id": "c90cedd5-f556-4e1f-a94c-770c82917a79",
   "metadata": {},
   "outputs": [
    {
     "name": "stdout",
     "output_type": "stream",
     "text": [
      "b'Hello World'\n"
     ]
    }
   ],
   "source": [
    "new_folder = os.open('new_folder.txt', os.O_RDONLY)\n",
    "lent = os.stat(new_folder).st_size\n",
    "contents = os.read(new_folder, lent)\n",
    "print(contents)\n",
    "os.close(new_folder)"
   ]
  },
  {
   "cell_type": "code",
   "execution_count": 184,
   "id": "cdeb3b5b-984e-4e56-8d66-cd8c417da6a9",
   "metadata": {},
   "outputs": [
    {
     "name": "stdout",
     "output_type": "stream",
     "text": [
      "Hello World\n"
     ]
    }
   ],
   "source": [
    "new_folder = os.open('new_folder.txt', os.O_RDONLY)\n",
    "lent = os.stat(new_folder).st_size\n",
    "contents = os.read(new_folder, lent)\n",
    "print(contents.decode())\n",
    "os.close(new_folder)"
   ]
  },
  {
   "cell_type": "code",
   "execution_count": 185,
   "id": "4be1e3a7-8d9a-4cbc-9d5d-e9ffb3f04a03",
   "metadata": {},
   "outputs": [
    {
     "ename": "PermissionError",
     "evalue": "[WinError 32] Dosya başka bir işlem tarafından kullanıldığından bu işlem dosyaya erişemiyor: 'new_folder.txt'",
     "output_type": "error",
     "traceback": [
      "\u001b[1;31m---------------------------------------------------------------------------\u001b[0m",
      "\u001b[1;31mPermissionError\u001b[0m                           Traceback (most recent call last)",
      "Cell \u001b[1;32mIn[185], line 1\u001b[0m\n\u001b[1;32m----> 1\u001b[0m \u001b[43mos\u001b[49m\u001b[38;5;241;43m.\u001b[39;49m\u001b[43munlink\u001b[49m\u001b[43m(\u001b[49m\u001b[38;5;124;43m'\u001b[39;49m\u001b[38;5;124;43mnew_folder.txt\u001b[39;49m\u001b[38;5;124;43m'\u001b[39;49m\u001b[43m)\u001b[49m\n",
      "\u001b[1;31mPermissionError\u001b[0m: [WinError 32] Dosya başka bir işlem tarafından kullanıldığından bu işlem dosyaya erişemiyor: 'new_folder.txt'"
     ]
    }
   ],
   "source": [
    "os.unlink('new_folder.txt')"
   ]
  },
  {
   "cell_type": "code",
   "execution_count": 175,
   "id": "5d8dc6df-036f-4531-ab69-64f5ee2661c7",
   "metadata": {},
   "outputs": [],
   "source": [
    "os.mkdir('new_dir')"
   ]
  },
  {
   "cell_type": "code",
   "execution_count": 176,
   "id": "718b1853-eeb4-49ec-8523-1a0831d06a13",
   "metadata": {},
   "outputs": [
    {
     "data": {
      "text/plain": [
       "['.ipynb_checkpoints',\n",
       " 'new_dir',\n",
       " 'new_folder.txt',\n",
       " 'Python101_0.ipynb',\n",
       " 'Python101_1.ipynb',\n",
       " 'Python101_2.ipynb',\n",
       " 'Python101_3.ipynb']"
      ]
     },
     "execution_count": 176,
     "metadata": {},
     "output_type": "execute_result"
    }
   ],
   "source": [
    "os.listdir()"
   ]
  },
  {
   "cell_type": "code",
   "execution_count": 177,
   "id": "b4fd373d-e61e-4f8e-bc37-6f99718a9057",
   "metadata": {},
   "outputs": [],
   "source": [
    "os.rename('new_dir','dir_new')"
   ]
  },
  {
   "cell_type": "code",
   "execution_count": 178,
   "id": "51b2996c-2b49-42b8-870a-2b335d28cc13",
   "metadata": {},
   "outputs": [
    {
     "data": {
      "text/plain": [
       "['.ipynb_checkpoints',\n",
       " 'dir_new',\n",
       " 'new_folder.txt',\n",
       " 'Python101_0.ipynb',\n",
       " 'Python101_1.ipynb',\n",
       " 'Python101_2.ipynb',\n",
       " 'Python101_3.ipynb']"
      ]
     },
     "execution_count": 178,
     "metadata": {},
     "output_type": "execute_result"
    }
   ],
   "source": [
    "os.listdir()"
   ]
  },
  {
   "cell_type": "code",
   "execution_count": 187,
   "id": "8b7f7dc5-1ec0-4009-9174-fb878c83897a",
   "metadata": {},
   "outputs": [],
   "source": [
    "os.rmdir('C:\\\\Users\\\\erdem\\\\Desktop\\\\Python101\\\\dir_new')"
   ]
  },
  {
   "cell_type": "code",
   "execution_count": 188,
   "id": "3f9ac686-aac6-419b-b641-d4b202894dc1",
   "metadata": {},
   "outputs": [
    {
     "data": {
      "text/plain": [
       "['.ipynb_checkpoints',\n",
       " 'new_folder.txt',\n",
       " 'Python101_0.ipynb',\n",
       " 'Python101_1.ipynb',\n",
       " 'Python101_2.ipynb',\n",
       " 'Python101_3.ipynb']"
      ]
     },
     "execution_count": 188,
     "metadata": {},
     "output_type": "execute_result"
    }
   ],
   "source": [
    "os.listdir()"
   ]
  },
  {
   "cell_type": "markdown",
   "id": "edfb4f0f-1c4e-4d93-9fa7-b0f04b08d11d",
   "metadata": {},
   "source": [
    "## REgular Expression REGEX"
   ]
  },
  {
   "cell_type": "code",
   "execution_count": 1,
   "id": "b9712001-e410-45a1-b4dd-674d930cde7d",
   "metadata": {},
   "outputs": [],
   "source": [
    "import re"
   ]
  },
  {
   "cell_type": "code",
   "execution_count": 2,
   "id": "b1b2dc18-7a39-45d2-8df8-37d50bb53e3f",
   "metadata": {},
   "outputs": [
    {
     "data": {
      "text/plain": [
       "<re.Match object; span=(27, 31), match='Turk'>"
      ]
     },
     "execution_count": 2,
     "metadata": {},
     "output_type": "execute_result"
    }
   ],
   "source": [
    "sentence = 'Mustafa Kemal Atatürk is a Turkish soldier, statesman and founder of the Republic of Turkey.'\n",
    "\n",
    "patern = 'Turk'\n",
    "\n",
    "re.search(patern, sentence)"
   ]
  },
  {
   "cell_type": "code",
   "execution_count": 3,
   "id": "57f53876-f9cf-40a9-8622-74456d07957c",
   "metadata": {},
   "outputs": [
    {
     "data": {
      "text/plain": [
       "(27, 31)"
      ]
     },
     "execution_count": 3,
     "metadata": {},
     "output_type": "execute_result"
    }
   ],
   "source": [
    "situation = re.search(patern, sentence)\n",
    "situation.span()"
   ]
  },
  {
   "cell_type": "code",
   "execution_count": 4,
   "id": "66cdbb99-e51c-41c8-bcfa-7ba9bb1179e2",
   "metadata": {},
   "outputs": [
    {
     "data": {
      "text/plain": [
       "['__class__',\n",
       " '__class_getitem__',\n",
       " '__copy__',\n",
       " '__deepcopy__',\n",
       " '__delattr__',\n",
       " '__dir__',\n",
       " '__doc__',\n",
       " '__eq__',\n",
       " '__format__',\n",
       " '__ge__',\n",
       " '__getattribute__',\n",
       " '__getitem__',\n",
       " '__gt__',\n",
       " '__hash__',\n",
       " '__init__',\n",
       " '__init_subclass__',\n",
       " '__le__',\n",
       " '__lt__',\n",
       " '__module__',\n",
       " '__ne__',\n",
       " '__new__',\n",
       " '__reduce__',\n",
       " '__reduce_ex__',\n",
       " '__repr__',\n",
       " '__setattr__',\n",
       " '__sizeof__',\n",
       " '__str__',\n",
       " '__subclasshook__',\n",
       " 'end',\n",
       " 'endpos',\n",
       " 'expand',\n",
       " 'group',\n",
       " 'groupdict',\n",
       " 'groups',\n",
       " 'lastgroup',\n",
       " 'lastindex',\n",
       " 'pos',\n",
       " 're',\n",
       " 'regs',\n",
       " 'span',\n",
       " 'start',\n",
       " 'string']"
      ]
     },
     "execution_count": 4,
     "metadata": {},
     "output_type": "execute_result"
    }
   ],
   "source": [
    "dir(situation)"
   ]
  },
  {
   "cell_type": "code",
   "execution_count": 5,
   "id": "7ebc4801-e28f-49de-9817-d43c72c7a779",
   "metadata": {},
   "outputs": [
    {
     "data": {
      "text/plain": [
       "27"
      ]
     },
     "execution_count": 5,
     "metadata": {},
     "output_type": "execute_result"
    }
   ],
   "source": [
    "situation.start()"
   ]
  },
  {
   "cell_type": "code",
   "execution_count": 6,
   "id": "00750bea-6a0d-468d-8586-b219a0632071",
   "metadata": {},
   "outputs": [
    {
     "data": {
      "text/plain": [
       "31"
      ]
     },
     "execution_count": 6,
     "metadata": {},
     "output_type": "execute_result"
    }
   ],
   "source": [
    "situation.end()"
   ]
  },
  {
   "cell_type": "code",
   "execution_count": 7,
   "id": "f80b6a01-32e9-4fda-b4a0-905843ae8dec",
   "metadata": {},
   "outputs": [
    {
     "data": {
      "text/plain": [
       "'Turk'"
      ]
     },
     "execution_count": 7,
     "metadata": {},
     "output_type": "execute_result"
    }
   ],
   "source": [
    "situation.group()"
   ]
  },
  {
   "cell_type": "code",
   "execution_count": 8,
   "id": "e93bfe68-80e0-40a9-8a8a-ee7ceac2011c",
   "metadata": {},
   "outputs": [
    {
     "name": "stdout",
     "output_type": "stream",
     "text": [
      "Turk\n",
      "Turk\n"
     ]
    }
   ],
   "source": [
    "for i in re.findall(patern,sentence):\n",
    "    print(i)"
   ]
  },
  {
   "cell_type": "code",
   "execution_count": 10,
   "id": "9e77a59c-9f12-462d-9fdf-aa0684320e0d",
   "metadata": {},
   "outputs": [
    {
     "name": "stdout",
     "output_type": "stream",
     "text": [
      "(27, 31) Turk\n",
      "(85, 89) Turk\n"
     ]
    }
   ],
   "source": [
    "for i in re.finditer(patern,sentence):\n",
    "    print(i.span(),i.group())"
   ]
  },
  {
   "cell_type": "code",
   "execution_count": 22,
   "id": "4d4c44a5-a4c9-4305-a708-f71fb8ad87f5",
   "metadata": {},
   "outputs": [],
   "source": [
    "#\\d finds digits\n",
    "#\\w character\n",
    "#\\s space\n",
    "#\\D except digits\n",
    "#\\W except character\n",
    "#\\S except space"
   ]
  },
  {
   "cell_type": "code",
   "execution_count": 19,
   "id": "97c2ece8-f512-4210-9c78-4790481f98f1",
   "metadata": {},
   "outputs": [
    {
     "data": {
      "text/plain": [
       "<re.Match object; span=(0, 6), match='base42'>"
      ]
     },
     "execution_count": 19,
     "metadata": {},
     "output_type": "execute_result"
    }
   ],
   "source": [
    "exmp = \"base42\"\n",
    "patern1 = \"base\\d\\d\" #\\d finds digits\n",
    "re.search(patern1, exmp)"
   ]
  },
  {
   "cell_type": "code",
   "execution_count": 20,
   "id": "a080f2af-9014-4335-97d8-0ba1fa7b195f",
   "metadata": {},
   "outputs": [],
   "source": [
    "exmp = \"base42\"\n",
    "patern1 = \"My favorite youtube channel is base\\d\\d.\"\n",
    "re.search(patern1, exmp)"
   ]
  },
  {
   "cell_type": "code",
   "execution_count": 21,
   "id": "134a9be3-cc4a-4230-9ee0-ff1077c7bf11",
   "metadata": {},
   "outputs": [
    {
     "data": {
      "text/plain": [
       "<re.Match object; span=(31, 37), match='base42'>"
      ]
     },
     "execution_count": 21,
     "metadata": {},
     "output_type": "execute_result"
    }
   ],
   "source": [
    "exmp = \"My favorite youtube channel is base42.\"\n",
    "patern1 = r\"base\\d\\d\" #When using regex, they recommend putting the letter r at the beginning of the pattern.\n",
    "re.search(patern1, exmp)"
   ]
  },
  {
   "cell_type": "code",
   "execution_count": 23,
   "id": "9a81dc52-0ccc-4af0-8a1f-e24ecf439699",
   "metadata": {},
   "outputs": [
    {
     "data": {
      "text/plain": [
       "<re.Match object; span=(26, 38), match='0542-1234567'>"
      ]
     },
     "execution_count": 23,
     "metadata": {},
     "output_type": "execute_result"
    }
   ],
   "source": [
    "sentence1 = 'Hello, my phone number is 0542-1234567'\n",
    "patern2 = r'\\d\\d\\d\\d-\\d\\d\\d\\d\\d\\d\\d'\n",
    "re.search(patern2, sentence1)"
   ]
  },
  {
   "cell_type": "code",
   "execution_count": 24,
   "id": "68442b28-9b54-4f6a-a353-93a596da6b7f",
   "metadata": {},
   "outputs": [],
   "source": [
    "#{5} number \\d{5}\n",
    "#{4,5} or \\d{4,5}\n",
    "#{5,} least \\d{5,}\n",
    "#* 0 or more \\w*\n",
    "#+ 1 or more \\w+\n",
    "#? 1 or never hello?"
   ]
  },
  {
   "cell_type": "code",
   "execution_count": 26,
   "id": "1c0da9d7-273a-4736-b725-5618a119770d",
   "metadata": {},
   "outputs": [
    {
     "data": {
      "text/plain": [
       "<re.Match object; span=(26, 38), match='0542-1234567'>"
      ]
     },
     "execution_count": 26,
     "metadata": {},
     "output_type": "execute_result"
    }
   ],
   "source": [
    "sentence1 = 'Hello, my phone number is 0542-1234567'\n",
    "patern2 = r'\\d{3,4}-\\d{7}'\n",
    "re.search(patern2, sentence1)"
   ]
  },
  {
   "cell_type": "code",
   "execution_count": 27,
   "id": "620fbc18-7f34-4982-b2a7-b1508bd77f76",
   "metadata": {},
   "outputs": [
    {
     "name": "stdout",
     "output_type": "stream",
     "text": [
      " favorite (2, 11)\n",
      " youtube (11, 19)\n",
      " channel (19, 27)\n",
      " base42 (30, 37)\n"
     ]
    }
   ],
   "source": [
    "exmp1 = \"My favorite youtube channel is base42.\"\n",
    "patern3 = r\"\\s\\w{5,}\"\n",
    "\n",
    "for i in re.finditer(patern3, exmp1):\n",
    "    print(i.group(),i.span())"
   ]
  },
  {
   "cell_type": "code",
   "execution_count": 28,
   "id": "350e5bbd-61b4-4f87-888c-f3c9fd4470c2",
   "metadata": {},
   "outputs": [
    {
     "name": "stdout",
     "output_type": "stream",
     "text": [
      " (0, 0)\n",
      " (1, 1)\n",
      " (2, 2)\n",
      " (3, 3)\n",
      " (4, 4)\n",
      " (5, 5)\n",
      " (6, 6)\n",
      " (7, 7)\n",
      " (8, 8)\n",
      " (9, 9)\n",
      " (10, 10)\n",
      " (11, 11)\n",
      " (12, 12)\n",
      " (13, 13)\n",
      " (14, 14)\n",
      " (15, 15)\n",
      " (16, 16)\n",
      " (17, 17)\n",
      " (18, 18)\n",
      " (19, 19)\n",
      " (20, 20)\n",
      " (21, 21)\n",
      " (22, 22)\n",
      " (23, 23)\n",
      " (24, 24)\n",
      " (25, 25)\n",
      " (26, 26)\n",
      " (27, 27)\n",
      " (28, 28)\n",
      " (29, 29)\n",
      " (30, 30)\n",
      " (31, 31)\n",
      " (32, 32)\n",
      " (33, 33)\n",
      " (34, 34)\n",
      "4 (35, 36)\n",
      "2 (36, 37)\n",
      " (37, 37)\n",
      " (38, 38)\n"
     ]
    }
   ],
   "source": [
    "exmp1 = \"My favorite youtube channel is base42.\"\n",
    "patern4 = r\"\\d?\"\n",
    "\n",
    "for i in re.finditer(patern4, exmp1):\n",
    "    print(i.group(),i.span())"
   ]
  },
  {
   "cell_type": "code",
   "execution_count": 29,
   "id": "111a006a-2284-49c7-83c2-255321243f1a",
   "metadata": {},
   "outputs": [
    {
     "name": "stdout",
     "output_type": "stream",
     "text": [
      "42 (35, 37)\n"
     ]
    }
   ],
   "source": [
    "exmp1 = \"My favorite youtube channel is base42.\"\n",
    "patern5 = r\"\\d+\"\n",
    "\n",
    "for i in re.finditer(patern5, exmp1):\n",
    "    print(i.group(),i.span())"
   ]
  },
  {
   "cell_type": "code",
   "execution_count": 30,
   "id": "1630ae54-9696-4a7c-a92a-0e70487c8185",
   "metadata": {},
   "outputs": [
    {
     "name": "stdout",
     "output_type": "stream",
     "text": [
      "base42 (31, 37)\n"
     ]
    }
   ],
   "source": [
    "exmp1 = \"My favorite youtube channel is base42.\"\n",
    "patern6 = r\"\\w*\\d+\"\n",
    "\n",
    "for i in re.finditer(patern6, exmp1):\n",
    "    print(i.group(),i.span())"
   ]
  },
  {
   "cell_type": "code",
   "execution_count": 31,
   "id": "88b10829-a7b7-48b7-99a8-fe6076bf81a0",
   "metadata": {},
   "outputs": [
    {
     "name": "stdout",
     "output_type": "stream",
     "text": [
      "42 (31, 33)\n"
     ]
    }
   ],
   "source": [
    "exmp1 = \"My favorite youtube channel is 42base.\"\n",
    "patern6 = r\"\\w*\\d+\"\n",
    "\n",
    "for i in re.finditer(patern6, exmp1):\n",
    "    print(i.group(),i.span())"
   ]
  },
  {
   "cell_type": "code",
   "execution_count": 34,
   "id": "f4997601-bd18-41b0-8fe0-66eb594ddfb8",
   "metadata": {},
   "outputs": [
    {
     "name": "stdout",
     "output_type": "stream",
     "text": [
      "42base (31, 37)\n"
     ]
    }
   ],
   "source": [
    "exmp1 = \"My favorite youtube channel is 42base.\"\n",
    "patern7 = r\"\\d+\\w*\"\n",
    "\n",
    "for i in re.finditer(patern7, exmp1):\n",
    "    print(i.group(),i.span())"
   ]
  },
  {
   "cell_type": "code",
   "execution_count": 47,
   "id": "03bbae7b-2ed8-41a9-a27e-053c240fb52f",
   "metadata": {},
   "outputs": [
    {
     "name": "stdout",
     "output_type": "stream",
     "text": [
      "542\n"
     ]
    },
    {
     "data": {
      "text/plain": [
       "'Vodafone'"
      ]
     },
     "execution_count": 47,
     "metadata": {},
     "output_type": "execute_result"
    }
   ],
   "source": [
    "##gsm operators\n",
    "\n",
    "#54.. Vodafone\n",
    "#501,505,506 Avea\n",
    "#53.. Turkcell\n",
    "\n",
    "def find_gsm_operators(tel_no):\n",
    "    patern1 = r\"(\\d{3})-(\\d{7})\"\n",
    "    match = re.search(patern1, tel_no)\n",
    "    \n",
    "    if match:\n",
    "        gsm_code = match.groups()[0]\n",
    "        print(gsm_code)\n",
    "        if gsm_code.startswith(\"54\"):\n",
    "            return \"Vodafone\"\n",
    "        elif gsm_code.startswith(\"501\") or gsm_code.startswith(\"505\") or gsm_code.startswith(\"506\"):\n",
    "            return \"Avea\"\n",
    "        elif gsm_code.startswith(\"53\"):\n",
    "            return \"Turkcell\"\n",
    "        else:\n",
    "            return \"network not found\"\n",
    "    else:\n",
    "        return \"no match\"\n",
    "\n",
    "tel_no = \"0542-1234567\"\n",
    "find_gsm_operators(tel_no)"
   ]
  },
  {
   "cell_type": "code",
   "execution_count": 48,
   "id": "902f236b-6fa7-4080-a44a-7a7b11ef881f",
   "metadata": {},
   "outputs": [
    {
     "data": {
      "text/plain": [
       "'no match'"
      ]
     },
     "execution_count": 48,
     "metadata": {},
     "output_type": "execute_result"
    }
   ],
   "source": [
    "tel_no = \"daw-1234567\"\n",
    "find_gsm_operators(tel_no)"
   ]
  },
  {
   "cell_type": "code",
   "execution_count": 49,
   "id": "8588f7be-f445-49c5-8e4f-d846be5b08a4",
   "metadata": {},
   "outputs": [
    {
     "name": "stdout",
     "output_type": "stream",
     "text": [
      "552\n"
     ]
    },
    {
     "data": {
      "text/plain": [
       "'network not found'"
      ]
     },
     "execution_count": 49,
     "metadata": {},
     "output_type": "execute_result"
    }
   ],
   "source": [
    "tel_no = \"0552-1234567\"\n",
    "find_gsm_operators(tel_no)"
   ]
  },
  {
   "cell_type": "code",
   "execution_count": 50,
   "id": "94a68c24-de26-4e04-87e4-34b45c40267d",
   "metadata": {},
   "outputs": [
    {
     "name": "stdout",
     "output_type": "stream",
     "text": [
      "501\n"
     ]
    },
    {
     "data": {
      "text/plain": [
       "'Avea'"
      ]
     },
     "execution_count": 50,
     "metadata": {},
     "output_type": "execute_result"
    }
   ],
   "source": [
    "tel_no = \"501-1234567\"\n",
    "find_gsm_operators(tel_no)"
   ]
  },
  {
   "cell_type": "code",
   "execution_count": 51,
   "id": "6c6c1b83-fb81-4608-bb66-661349897857",
   "metadata": {},
   "outputs": [
    {
     "name": "stdout",
     "output_type": "stream",
     "text": [
      "501\n"
     ]
    },
    {
     "data": {
      "text/plain": [
       "'Avea'"
      ]
     },
     "execution_count": 51,
     "metadata": {},
     "output_type": "execute_result"
    }
   ],
   "source": [
    "tel_no = \"0501-1234567\"\n",
    "find_gsm_operators(tel_no)"
   ]
  },
  {
   "cell_type": "code",
   "execution_count": 52,
   "id": "86419f2e-2431-4392-bd35-6e4a544b3fea",
   "metadata": {},
   "outputs": [],
   "source": [
    "#| or hello|hi\n",
    "#^ startwith ^\\d\n",
    "#$ finish \\d$\n",
    "#. any .*\n",
    "#\\ esc \\(\\w{3}\\)"
   ]
  },
  {
   "cell_type": "code",
   "execution_count": 70,
   "id": "913028fc-f7a1-4dd0-8f52-86bf7f16bde9",
   "metadata": {},
   "outputs": [],
   "source": [
    "\n",
    "def find_message_feeling(message):\n",
    "    feelings = []\n",
    "    \n",
    "    positive_patern = r\"(hello|hi|friend|brother|:\\)+)\"\n",
    "    negative_patern = r\"(stupid|fool|disgusting)\"\n",
    "    exciting_patern = r\"(!|[!|?]{2,}$)\"\n",
    "    relax_patern = r\"^[of course+|HayHay]\"\n",
    "    sure_patern = r\"[D|d]efinitely|[O|o]f course\"\n",
    "    indecisive_patern = r\"[M|m]aybe|[I|i] think\"\n",
    "    \n",
    "    \n",
    "    if re.search(positive_patern,message):\n",
    "        feelings.append(\"Positive\")\n",
    "    if re.search(negative_patern,message):\n",
    "        feelings.append(\"negative\")\n",
    "    if re.search(exciting_patern,message):\n",
    "        feelings.append(\"exciting\")\n",
    "    if re.search(relax_patern,message):\n",
    "        feelings.append(\"relax\")\n",
    "    if re.search(sure_patern,message):\n",
    "        feelings.append(\"sure\")\n",
    "    if re.search(indecisive_patern,message):\n",
    "        feelings.append(\"indecisive\")\n",
    "    \n",
    "    return feelings\n",
    "\n",
    "    \n"
   ]
  },
  {
   "cell_type": "code",
   "execution_count": 71,
   "id": "9e8e0190-7bef-40d2-8ace-26ea2fa46623",
   "metadata": {},
   "outputs": [
    {
     "data": {
      "text/plain": [
       "['Positive']"
      ]
     },
     "execution_count": 71,
     "metadata": {},
     "output_type": "execute_result"
    }
   ],
   "source": [
    "sentence1 = \"hello ? :)\"\n",
    "find_message_feeling(sentence1)\n"
   ]
  },
  {
   "cell_type": "code",
   "execution_count": 73,
   "id": "ea9acbb0-3e56-4762-9506-4b38374ee1b0",
   "metadata": {},
   "outputs": [
    {
     "name": "stdout",
     "output_type": "stream",
     "text": [
      "hello ? :) \t ['Positive']\n",
      "of course welcomeee \t ['relax', 'sure']\n",
      "dont look like stupid! \t ['negative', 'exciting']\n",
      "maybe closer than tomorrow \t ['indecisive']\n",
      "Definitely we will meet one day \t ['sure']\n"
     ]
    }
   ],
   "source": [
    "sentence1 = \"hello ? :)\"\n",
    "sentence2 = \"of course welcomeee\"\n",
    "sentence3 = \"dont look like stupid!\"\n",
    "sentence4 = \"maybe closer than tomorrow\"\n",
    "sentence5 = \"Definitely we will meet one day\"\n",
    "\n",
    "sentencess = [sentence1,sentence2,sentence3,sentence4,sentence5]\n",
    "for i in sentencess:\n",
    "    print(i,'\\t', find_message_feeling(i))"
   ]
  },
  {
   "cell_type": "markdown",
   "id": "7e01f1a1-1773-4aeb-a38f-3ca40b216eb9",
   "metadata": {},
   "source": [
    "## Random Module"
   ]
  },
  {
   "cell_type": "code",
   "execution_count": 76,
   "id": "92e7097f-a8d4-484e-afb1-fdd0d3937d8f",
   "metadata": {},
   "outputs": [],
   "source": [
    "import random"
   ]
  },
  {
   "cell_type": "code",
   "execution_count": 77,
   "id": "3d098cb7-78dd-48d7-9b14-9ced3435ea7b",
   "metadata": {},
   "outputs": [
    {
     "data": {
      "text/plain": [
       "['__name__',\n",
       " '__doc__',\n",
       " '__package__',\n",
       " '__loader__',\n",
       " '__spec__',\n",
       " '__file__',\n",
       " '__cached__',\n",
       " '__builtins__',\n",
       " '_warn',\n",
       " '_log',\n",
       " '_exp',\n",
       " '_pi',\n",
       " '_e',\n",
       " '_ceil',\n",
       " '_sqrt',\n",
       " '_acos',\n",
       " '_cos',\n",
       " '_sin',\n",
       " 'TWOPI',\n",
       " '_floor',\n",
       " '_isfinite',\n",
       " '_urandom',\n",
       " '_Set',\n",
       " '_Sequence',\n",
       " '_index',\n",
       " '_accumulate',\n",
       " '_repeat',\n",
       " '_bisect',\n",
       " '_os',\n",
       " '_random',\n",
       " '_sha512',\n",
       " '__all__',\n",
       " 'NV_MAGICCONST',\n",
       " 'LOG4',\n",
       " 'SG_MAGICCONST',\n",
       " 'BPF',\n",
       " 'RECIP_BPF',\n",
       " '_ONE',\n",
       " 'Random',\n",
       " 'SystemRandom',\n",
       " '_inst',\n",
       " 'seed',\n",
       " 'random',\n",
       " 'uniform',\n",
       " 'triangular',\n",
       " 'randint',\n",
       " 'choice',\n",
       " 'randrange',\n",
       " 'sample',\n",
       " 'shuffle',\n",
       " 'choices',\n",
       " 'normalvariate',\n",
       " 'lognormvariate',\n",
       " 'expovariate',\n",
       " 'vonmisesvariate',\n",
       " 'gammavariate',\n",
       " 'gauss',\n",
       " 'betavariate',\n",
       " 'paretovariate',\n",
       " 'weibullvariate',\n",
       " 'getstate',\n",
       " 'setstate',\n",
       " 'getrandbits',\n",
       " 'randbytes',\n",
       " '_test_generator',\n",
       " '_test']"
      ]
     },
     "execution_count": 77,
     "metadata": {},
     "output_type": "execute_result"
    }
   ],
   "source": [
    "random.__dir__()"
   ]
  },
  {
   "cell_type": "code",
   "execution_count": 78,
   "id": "e335bab7-1fd5-4243-ad76-dfb807bc9281",
   "metadata": {},
   "outputs": [
    {
     "name": "stdout",
     "output_type": "stream",
     "text": [
      "Help on module random:\n",
      "\n",
      "NAME\n",
      "    random - Random variable generators.\n",
      "\n",
      "MODULE REFERENCE\n",
      "    https://docs.python.org/3.10/library/random.html\n",
      "    \n",
      "    The following documentation is automatically generated from the Python\n",
      "    source files.  It may be incomplete, incorrect or include features that\n",
      "    are considered implementation detail and may vary between Python\n",
      "    implementations.  When in doubt, consult the module reference at the\n",
      "    location listed above.\n",
      "\n",
      "DESCRIPTION\n",
      "        bytes\n",
      "        -----\n",
      "               uniform bytes (values between 0 and 255)\n",
      "    \n",
      "        integers\n",
      "        --------\n",
      "               uniform within range\n",
      "    \n",
      "        sequences\n",
      "        ---------\n",
      "               pick random element\n",
      "               pick random sample\n",
      "               pick weighted random sample\n",
      "               generate random permutation\n",
      "    \n",
      "        distributions on the real line:\n",
      "        ------------------------------\n",
      "               uniform\n",
      "               triangular\n",
      "               normal (Gaussian)\n",
      "               lognormal\n",
      "               negative exponential\n",
      "               gamma\n",
      "               beta\n",
      "               pareto\n",
      "               Weibull\n",
      "    \n",
      "        distributions on the circle (angles 0 to 2pi)\n",
      "        ---------------------------------------------\n",
      "               circular uniform\n",
      "               von Mises\n",
      "    \n",
      "    General notes on the underlying Mersenne Twister core generator:\n",
      "    \n",
      "    * The period is 2**19937-1.\n",
      "    * It is one of the most extensively tested generators in existence.\n",
      "    * The random() method is implemented in C, executes in a single Python step,\n",
      "      and is, therefore, threadsafe.\n",
      "\n",
      "CLASSES\n",
      "    _random.Random(builtins.object)\n",
      "        Random\n",
      "            SystemRandom\n",
      "    \n",
      "    class Random(_random.Random)\n",
      "     |  Random(x=None)\n",
      "     |  \n",
      "     |  Random number generator base class used by bound module functions.\n",
      "     |  \n",
      "     |  Used to instantiate instances of Random to get generators that don't\n",
      "     |  share state.\n",
      "     |  \n",
      "     |  Class Random can also be subclassed if you want to use a different basic\n",
      "     |  generator of your own devising: in that case, override the following\n",
      "     |  methods:  random(), seed(), getstate(), and setstate().\n",
      "     |  Optionally, implement a getrandbits() method so that randrange()\n",
      "     |  can cover arbitrarily large ranges.\n",
      "     |  \n",
      "     |  Method resolution order:\n",
      "     |      Random\n",
      "     |      _random.Random\n",
      "     |      builtins.object\n",
      "     |  \n",
      "     |  Methods defined here:\n",
      "     |  \n",
      "     |  __getstate__(self)\n",
      "     |      # Issue 17489: Since __reduce__ was defined to fix #759889 this is no\n",
      "     |      # longer called; we leave it here because it has been here since random was\n",
      "     |      # rewritten back in 2001 and why risk breaking something.\n",
      "     |  \n",
      "     |  __init__(self, x=None)\n",
      "     |      Initialize an instance.\n",
      "     |      \n",
      "     |      Optional argument x controls seeding, as for Random.seed().\n",
      "     |  \n",
      "     |  __reduce__(self)\n",
      "     |      Helper for pickle.\n",
      "     |  \n",
      "     |  __setstate__(self, state)\n",
      "     |  \n",
      "     |  betavariate(self, alpha, beta)\n",
      "     |      Beta distribution.\n",
      "     |      \n",
      "     |      Conditions on the parameters are alpha > 0 and beta > 0.\n",
      "     |      Returned values range between 0 and 1.\n",
      "     |  \n",
      "     |  choice(self, seq)\n",
      "     |      Choose a random element from a non-empty sequence.\n",
      "     |  \n",
      "     |  choices(self, population, weights=None, *, cum_weights=None, k=1)\n",
      "     |      Return a k sized list of population elements chosen with replacement.\n",
      "     |      \n",
      "     |      If the relative weights or cumulative weights are not specified,\n",
      "     |      the selections are made with equal probability.\n",
      "     |  \n",
      "     |  expovariate(self, lambd)\n",
      "     |      Exponential distribution.\n",
      "     |      \n",
      "     |      lambd is 1.0 divided by the desired mean.  It should be\n",
      "     |      nonzero.  (The parameter would be called \"lambda\", but that is\n",
      "     |      a reserved word in Python.)  Returned values range from 0 to\n",
      "     |      positive infinity if lambd is positive, and from negative\n",
      "     |      infinity to 0 if lambd is negative.\n",
      "     |  \n",
      "     |  gammavariate(self, alpha, beta)\n",
      "     |      Gamma distribution.  Not the gamma function!\n",
      "     |      \n",
      "     |      Conditions on the parameters are alpha > 0 and beta > 0.\n",
      "     |      \n",
      "     |      The probability distribution function is:\n",
      "     |      \n",
      "     |                  x ** (alpha - 1) * math.exp(-x / beta)\n",
      "     |        pdf(x) =  --------------------------------------\n",
      "     |                    math.gamma(alpha) * beta ** alpha\n",
      "     |  \n",
      "     |  gauss(self, mu, sigma)\n",
      "     |      Gaussian distribution.\n",
      "     |      \n",
      "     |      mu is the mean, and sigma is the standard deviation.  This is\n",
      "     |      slightly faster than the normalvariate() function.\n",
      "     |      \n",
      "     |      Not thread-safe without a lock around calls.\n",
      "     |  \n",
      "     |  getstate(self)\n",
      "     |      Return internal state; can be passed to setstate() later.\n",
      "     |  \n",
      "     |  lognormvariate(self, mu, sigma)\n",
      "     |      Log normal distribution.\n",
      "     |      \n",
      "     |      If you take the natural logarithm of this distribution, you'll get a\n",
      "     |      normal distribution with mean mu and standard deviation sigma.\n",
      "     |      mu can have any value, and sigma must be greater than zero.\n",
      "     |  \n",
      "     |  normalvariate(self, mu, sigma)\n",
      "     |      Normal distribution.\n",
      "     |      \n",
      "     |      mu is the mean, and sigma is the standard deviation.\n",
      "     |  \n",
      "     |  paretovariate(self, alpha)\n",
      "     |      Pareto distribution.  alpha is the shape parameter.\n",
      "     |  \n",
      "     |  randbytes(self, n)\n",
      "     |      Generate n random bytes.\n",
      "     |  \n",
      "     |  randint(self, a, b)\n",
      "     |      Return random integer in range [a, b], including both end points.\n",
      "     |  \n",
      "     |  randrange(self, start, stop=None, step=1)\n",
      "     |      Choose a random item from range(start, stop[, step]).\n",
      "     |      \n",
      "     |      This fixes the problem with randint() which includes the\n",
      "     |      endpoint; in Python this is usually not what you want.\n",
      "     |  \n",
      "     |  sample(self, population, k, *, counts=None)\n",
      "     |      Chooses k unique random elements from a population sequence or set.\n",
      "     |      \n",
      "     |      Returns a new list containing elements from the population while\n",
      "     |      leaving the original population unchanged.  The resulting list is\n",
      "     |      in selection order so that all sub-slices will also be valid random\n",
      "     |      samples.  This allows raffle winners (the sample) to be partitioned\n",
      "     |      into grand prize and second place winners (the subslices).\n",
      "     |      \n",
      "     |      Members of the population need not be hashable or unique.  If the\n",
      "     |      population contains repeats, then each occurrence is a possible\n",
      "     |      selection in the sample.\n",
      "     |      \n",
      "     |      Repeated elements can be specified one at a time or with the optional\n",
      "     |      counts parameter.  For example:\n",
      "     |      \n",
      "     |          sample(['red', 'blue'], counts=[4, 2], k=5)\n",
      "     |      \n",
      "     |      is equivalent to:\n",
      "     |      \n",
      "     |          sample(['red', 'red', 'red', 'red', 'blue', 'blue'], k=5)\n",
      "     |      \n",
      "     |      To choose a sample from a range of integers, use range() for the\n",
      "     |      population argument.  This is especially fast and space efficient\n",
      "     |      for sampling from a large population:\n",
      "     |      \n",
      "     |          sample(range(10000000), 60)\n",
      "     |  \n",
      "     |  seed(self, a=None, version=2)\n",
      "     |      Initialize internal state from a seed.\n",
      "     |      \n",
      "     |      The only supported seed types are None, int, float,\n",
      "     |      str, bytes, and bytearray.\n",
      "     |      \n",
      "     |      None or no argument seeds from current time or from an operating\n",
      "     |      system specific randomness source if available.\n",
      "     |      \n",
      "     |      If *a* is an int, all bits are used.\n",
      "     |      \n",
      "     |      For version 2 (the default), all of the bits are used if *a* is a str,\n",
      "     |      bytes, or bytearray.  For version 1 (provided for reproducing random\n",
      "     |      sequences from older versions of Python), the algorithm for str and\n",
      "     |      bytes generates a narrower range of seeds.\n",
      "     |  \n",
      "     |  setstate(self, state)\n",
      "     |      Restore internal state from object returned by getstate().\n",
      "     |  \n",
      "     |  shuffle(self, x, random=None)\n",
      "     |      Shuffle list x in place, and return None.\n",
      "     |      \n",
      "     |      Optional argument random is a 0-argument function returning a\n",
      "     |      random float in [0.0, 1.0); if it is the default None, the\n",
      "     |      standard random.random will be used.\n",
      "     |  \n",
      "     |  triangular(self, low=0.0, high=1.0, mode=None)\n",
      "     |      Triangular distribution.\n",
      "     |      \n",
      "     |      Continuous distribution bounded by given lower and upper limits,\n",
      "     |      and having a given mode value in-between.\n",
      "     |      \n",
      "     |      http://en.wikipedia.org/wiki/Triangular_distribution\n",
      "     |  \n",
      "     |  uniform(self, a, b)\n",
      "     |      Get a random number in the range [a, b) or [a, b] depending on rounding.\n",
      "     |  \n",
      "     |  vonmisesvariate(self, mu, kappa)\n",
      "     |      Circular data distribution.\n",
      "     |      \n",
      "     |      mu is the mean angle, expressed in radians between 0 and 2*pi, and\n",
      "     |      kappa is the concentration parameter, which must be greater than or\n",
      "     |      equal to zero.  If kappa is equal to zero, this distribution reduces\n",
      "     |      to a uniform random angle over the range 0 to 2*pi.\n",
      "     |  \n",
      "     |  weibullvariate(self, alpha, beta)\n",
      "     |      Weibull distribution.\n",
      "     |      \n",
      "     |      alpha is the scale parameter and beta is the shape parameter.\n",
      "     |  \n",
      "     |  ----------------------------------------------------------------------\n",
      "     |  Class methods defined here:\n",
      "     |  \n",
      "     |  __init_subclass__(**kwargs) from builtins.type\n",
      "     |      Control how subclasses generate random integers.\n",
      "     |      \n",
      "     |      The algorithm a subclass can use depends on the random() and/or\n",
      "     |      getrandbits() implementation available to it and determines\n",
      "     |      whether it can generate random integers from arbitrarily large\n",
      "     |      ranges.\n",
      "     |  \n",
      "     |  ----------------------------------------------------------------------\n",
      "     |  Data descriptors defined here:\n",
      "     |  \n",
      "     |  __dict__\n",
      "     |      dictionary for instance variables (if defined)\n",
      "     |  \n",
      "     |  __weakref__\n",
      "     |      list of weak references to the object (if defined)\n",
      "     |  \n",
      "     |  ----------------------------------------------------------------------\n",
      "     |  Data and other attributes defined here:\n",
      "     |  \n",
      "     |  VERSION = 3\n",
      "     |  \n",
      "     |  ----------------------------------------------------------------------\n",
      "     |  Methods inherited from _random.Random:\n",
      "     |  \n",
      "     |  getrandbits(self, k, /)\n",
      "     |      getrandbits(k) -> x.  Generates an int with k random bits.\n",
      "     |  \n",
      "     |  random(self, /)\n",
      "     |      random() -> x in the interval [0, 1).\n",
      "     |  \n",
      "     |  ----------------------------------------------------------------------\n",
      "     |  Static methods inherited from _random.Random:\n",
      "     |  \n",
      "     |  __new__(*args, **kwargs) from builtins.type\n",
      "     |      Create and return a new object.  See help(type) for accurate signature.\n",
      "    \n",
      "    class SystemRandom(Random)\n",
      "     |  SystemRandom(x=None)\n",
      "     |  \n",
      "     |  Alternate random number generator using sources provided\n",
      "     |  by the operating system (such as /dev/urandom on Unix or\n",
      "     |  CryptGenRandom on Windows).\n",
      "     |  \n",
      "     |   Not available on all systems (see os.urandom() for details).\n",
      "     |  \n",
      "     |  Method resolution order:\n",
      "     |      SystemRandom\n",
      "     |      Random\n",
      "     |      _random.Random\n",
      "     |      builtins.object\n",
      "     |  \n",
      "     |  Methods defined here:\n",
      "     |  \n",
      "     |  getrandbits(self, k)\n",
      "     |      getrandbits(k) -> x.  Generates an int with k random bits.\n",
      "     |  \n",
      "     |  getstate = _notimplemented(self, *args, **kwds)\n",
      "     |  \n",
      "     |  randbytes(self, n)\n",
      "     |      Generate n random bytes.\n",
      "     |  \n",
      "     |  random(self)\n",
      "     |      Get the next random number in the range [0.0, 1.0).\n",
      "     |  \n",
      "     |  seed(self, *args, **kwds)\n",
      "     |      Stub method.  Not used for a system random number generator.\n",
      "     |  \n",
      "     |  setstate = _notimplemented(self, *args, **kwds)\n",
      "     |  \n",
      "     |  ----------------------------------------------------------------------\n",
      "     |  Methods inherited from Random:\n",
      "     |  \n",
      "     |  __getstate__(self)\n",
      "     |      # Issue 17489: Since __reduce__ was defined to fix #759889 this is no\n",
      "     |      # longer called; we leave it here because it has been here since random was\n",
      "     |      # rewritten back in 2001 and why risk breaking something.\n",
      "     |  \n",
      "     |  __init__(self, x=None)\n",
      "     |      Initialize an instance.\n",
      "     |      \n",
      "     |      Optional argument x controls seeding, as for Random.seed().\n",
      "     |  \n",
      "     |  __reduce__(self)\n",
      "     |      Helper for pickle.\n",
      "     |  \n",
      "     |  __setstate__(self, state)\n",
      "     |  \n",
      "     |  betavariate(self, alpha, beta)\n",
      "     |      Beta distribution.\n",
      "     |      \n",
      "     |      Conditions on the parameters are alpha > 0 and beta > 0.\n",
      "     |      Returned values range between 0 and 1.\n",
      "     |  \n",
      "     |  choice(self, seq)\n",
      "     |      Choose a random element from a non-empty sequence.\n",
      "     |  \n",
      "     |  choices(self, population, weights=None, *, cum_weights=None, k=1)\n",
      "     |      Return a k sized list of population elements chosen with replacement.\n",
      "     |      \n",
      "     |      If the relative weights or cumulative weights are not specified,\n",
      "     |      the selections are made with equal probability.\n",
      "     |  \n",
      "     |  expovariate(self, lambd)\n",
      "     |      Exponential distribution.\n",
      "     |      \n",
      "     |      lambd is 1.0 divided by the desired mean.  It should be\n",
      "     |      nonzero.  (The parameter would be called \"lambda\", but that is\n",
      "     |      a reserved word in Python.)  Returned values range from 0 to\n",
      "     |      positive infinity if lambd is positive, and from negative\n",
      "     |      infinity to 0 if lambd is negative.\n",
      "     |  \n",
      "     |  gammavariate(self, alpha, beta)\n",
      "     |      Gamma distribution.  Not the gamma function!\n",
      "     |      \n",
      "     |      Conditions on the parameters are alpha > 0 and beta > 0.\n",
      "     |      \n",
      "     |      The probability distribution function is:\n",
      "     |      \n",
      "     |                  x ** (alpha - 1) * math.exp(-x / beta)\n",
      "     |        pdf(x) =  --------------------------------------\n",
      "     |                    math.gamma(alpha) * beta ** alpha\n",
      "     |  \n",
      "     |  gauss(self, mu, sigma)\n",
      "     |      Gaussian distribution.\n",
      "     |      \n",
      "     |      mu is the mean, and sigma is the standard deviation.  This is\n",
      "     |      slightly faster than the normalvariate() function.\n",
      "     |      \n",
      "     |      Not thread-safe without a lock around calls.\n",
      "     |  \n",
      "     |  lognormvariate(self, mu, sigma)\n",
      "     |      Log normal distribution.\n",
      "     |      \n",
      "     |      If you take the natural logarithm of this distribution, you'll get a\n",
      "     |      normal distribution with mean mu and standard deviation sigma.\n",
      "     |      mu can have any value, and sigma must be greater than zero.\n",
      "     |  \n",
      "     |  normalvariate(self, mu, sigma)\n",
      "     |      Normal distribution.\n",
      "     |      \n",
      "     |      mu is the mean, and sigma is the standard deviation.\n",
      "     |  \n",
      "     |  paretovariate(self, alpha)\n",
      "     |      Pareto distribution.  alpha is the shape parameter.\n",
      "     |  \n",
      "     |  randint(self, a, b)\n",
      "     |      Return random integer in range [a, b], including both end points.\n",
      "     |  \n",
      "     |  randrange(self, start, stop=None, step=1)\n",
      "     |      Choose a random item from range(start, stop[, step]).\n",
      "     |      \n",
      "     |      This fixes the problem with randint() which includes the\n",
      "     |      endpoint; in Python this is usually not what you want.\n",
      "     |  \n",
      "     |  sample(self, population, k, *, counts=None)\n",
      "     |      Chooses k unique random elements from a population sequence or set.\n",
      "     |      \n",
      "     |      Returns a new list containing elements from the population while\n",
      "     |      leaving the original population unchanged.  The resulting list is\n",
      "     |      in selection order so that all sub-slices will also be valid random\n",
      "     |      samples.  This allows raffle winners (the sample) to be partitioned\n",
      "     |      into grand prize and second place winners (the subslices).\n",
      "     |      \n",
      "     |      Members of the population need not be hashable or unique.  If the\n",
      "     |      population contains repeats, then each occurrence is a possible\n",
      "     |      selection in the sample.\n",
      "     |      \n",
      "     |      Repeated elements can be specified one at a time or with the optional\n",
      "     |      counts parameter.  For example:\n",
      "     |      \n",
      "     |          sample(['red', 'blue'], counts=[4, 2], k=5)\n",
      "     |      \n",
      "     |      is equivalent to:\n",
      "     |      \n",
      "     |          sample(['red', 'red', 'red', 'red', 'blue', 'blue'], k=5)\n",
      "     |      \n",
      "     |      To choose a sample from a range of integers, use range() for the\n",
      "     |      population argument.  This is especially fast and space efficient\n",
      "     |      for sampling from a large population:\n",
      "     |      \n",
      "     |          sample(range(10000000), 60)\n",
      "     |  \n",
      "     |  shuffle(self, x, random=None)\n",
      "     |      Shuffle list x in place, and return None.\n",
      "     |      \n",
      "     |      Optional argument random is a 0-argument function returning a\n",
      "     |      random float in [0.0, 1.0); if it is the default None, the\n",
      "     |      standard random.random will be used.\n",
      "     |  \n",
      "     |  triangular(self, low=0.0, high=1.0, mode=None)\n",
      "     |      Triangular distribution.\n",
      "     |      \n",
      "     |      Continuous distribution bounded by given lower and upper limits,\n",
      "     |      and having a given mode value in-between.\n",
      "     |      \n",
      "     |      http://en.wikipedia.org/wiki/Triangular_distribution\n",
      "     |  \n",
      "     |  uniform(self, a, b)\n",
      "     |      Get a random number in the range [a, b) or [a, b] depending on rounding.\n",
      "     |  \n",
      "     |  vonmisesvariate(self, mu, kappa)\n",
      "     |      Circular data distribution.\n",
      "     |      \n",
      "     |      mu is the mean angle, expressed in radians between 0 and 2*pi, and\n",
      "     |      kappa is the concentration parameter, which must be greater than or\n",
      "     |      equal to zero.  If kappa is equal to zero, this distribution reduces\n",
      "     |      to a uniform random angle over the range 0 to 2*pi.\n",
      "     |  \n",
      "     |  weibullvariate(self, alpha, beta)\n",
      "     |      Weibull distribution.\n",
      "     |      \n",
      "     |      alpha is the scale parameter and beta is the shape parameter.\n",
      "     |  \n",
      "     |  ----------------------------------------------------------------------\n",
      "     |  Class methods inherited from Random:\n",
      "     |  \n",
      "     |  __init_subclass__(**kwargs) from builtins.type\n",
      "     |      Control how subclasses generate random integers.\n",
      "     |      \n",
      "     |      The algorithm a subclass can use depends on the random() and/or\n",
      "     |      getrandbits() implementation available to it and determines\n",
      "     |      whether it can generate random integers from arbitrarily large\n",
      "     |      ranges.\n",
      "     |  \n",
      "     |  ----------------------------------------------------------------------\n",
      "     |  Data descriptors inherited from Random:\n",
      "     |  \n",
      "     |  __dict__\n",
      "     |      dictionary for instance variables (if defined)\n",
      "     |  \n",
      "     |  __weakref__\n",
      "     |      list of weak references to the object (if defined)\n",
      "     |  \n",
      "     |  ----------------------------------------------------------------------\n",
      "     |  Data and other attributes inherited from Random:\n",
      "     |  \n",
      "     |  VERSION = 3\n",
      "     |  \n",
      "     |  ----------------------------------------------------------------------\n",
      "     |  Static methods inherited from _random.Random:\n",
      "     |  \n",
      "     |  __new__(*args, **kwargs) from builtins.type\n",
      "     |      Create and return a new object.  See help(type) for accurate signature.\n",
      "\n",
      "FUNCTIONS\n",
      "    betavariate(alpha, beta) method of Random instance\n",
      "        Beta distribution.\n",
      "        \n",
      "        Conditions on the parameters are alpha > 0 and beta > 0.\n",
      "        Returned values range between 0 and 1.\n",
      "    \n",
      "    choice(seq) method of Random instance\n",
      "        Choose a random element from a non-empty sequence.\n",
      "    \n",
      "    choices(population, weights=None, *, cum_weights=None, k=1) method of Random instance\n",
      "        Return a k sized list of population elements chosen with replacement.\n",
      "        \n",
      "        If the relative weights or cumulative weights are not specified,\n",
      "        the selections are made with equal probability.\n",
      "    \n",
      "    expovariate(lambd) method of Random instance\n",
      "        Exponential distribution.\n",
      "        \n",
      "        lambd is 1.0 divided by the desired mean.  It should be\n",
      "        nonzero.  (The parameter would be called \"lambda\", but that is\n",
      "        a reserved word in Python.)  Returned values range from 0 to\n",
      "        positive infinity if lambd is positive, and from negative\n",
      "        infinity to 0 if lambd is negative.\n",
      "    \n",
      "    gammavariate(alpha, beta) method of Random instance\n",
      "        Gamma distribution.  Not the gamma function!\n",
      "        \n",
      "        Conditions on the parameters are alpha > 0 and beta > 0.\n",
      "        \n",
      "        The probability distribution function is:\n",
      "        \n",
      "                    x ** (alpha - 1) * math.exp(-x / beta)\n",
      "          pdf(x) =  --------------------------------------\n",
      "                      math.gamma(alpha) * beta ** alpha\n",
      "    \n",
      "    gauss(mu, sigma) method of Random instance\n",
      "        Gaussian distribution.\n",
      "        \n",
      "        mu is the mean, and sigma is the standard deviation.  This is\n",
      "        slightly faster than the normalvariate() function.\n",
      "        \n",
      "        Not thread-safe without a lock around calls.\n",
      "    \n",
      "    getrandbits(k, /) method of Random instance\n",
      "        getrandbits(k) -> x.  Generates an int with k random bits.\n",
      "    \n",
      "    getstate() method of Random instance\n",
      "        Return internal state; can be passed to setstate() later.\n",
      "    \n",
      "    lognormvariate(mu, sigma) method of Random instance\n",
      "        Log normal distribution.\n",
      "        \n",
      "        If you take the natural logarithm of this distribution, you'll get a\n",
      "        normal distribution with mean mu and standard deviation sigma.\n",
      "        mu can have any value, and sigma must be greater than zero.\n",
      "    \n",
      "    normalvariate(mu, sigma) method of Random instance\n",
      "        Normal distribution.\n",
      "        \n",
      "        mu is the mean, and sigma is the standard deviation.\n",
      "    \n",
      "    paretovariate(alpha) method of Random instance\n",
      "        Pareto distribution.  alpha is the shape parameter.\n",
      "    \n",
      "    randbytes(n) method of Random instance\n",
      "        Generate n random bytes.\n",
      "    \n",
      "    randint(a, b) method of Random instance\n",
      "        Return random integer in range [a, b], including both end points.\n",
      "    \n",
      "    random() method of Random instance\n",
      "        random() -> x in the interval [0, 1).\n",
      "    \n",
      "    randrange(start, stop=None, step=1) method of Random instance\n",
      "        Choose a random item from range(start, stop[, step]).\n",
      "        \n",
      "        This fixes the problem with randint() which includes the\n",
      "        endpoint; in Python this is usually not what you want.\n",
      "    \n",
      "    sample(population, k, *, counts=None) method of Random instance\n",
      "        Chooses k unique random elements from a population sequence or set.\n",
      "        \n",
      "        Returns a new list containing elements from the population while\n",
      "        leaving the original population unchanged.  The resulting list is\n",
      "        in selection order so that all sub-slices will also be valid random\n",
      "        samples.  This allows raffle winners (the sample) to be partitioned\n",
      "        into grand prize and second place winners (the subslices).\n",
      "        \n",
      "        Members of the population need not be hashable or unique.  If the\n",
      "        population contains repeats, then each occurrence is a possible\n",
      "        selection in the sample.\n",
      "        \n",
      "        Repeated elements can be specified one at a time or with the optional\n",
      "        counts parameter.  For example:\n",
      "        \n",
      "            sample(['red', 'blue'], counts=[4, 2], k=5)\n",
      "        \n",
      "        is equivalent to:\n",
      "        \n",
      "            sample(['red', 'red', 'red', 'red', 'blue', 'blue'], k=5)\n",
      "        \n",
      "        To choose a sample from a range of integers, use range() for the\n",
      "        population argument.  This is especially fast and space efficient\n",
      "        for sampling from a large population:\n",
      "        \n",
      "            sample(range(10000000), 60)\n",
      "    \n",
      "    seed(a=None, version=2) method of Random instance\n",
      "        Initialize internal state from a seed.\n",
      "        \n",
      "        The only supported seed types are None, int, float,\n",
      "        str, bytes, and bytearray.\n",
      "        \n",
      "        None or no argument seeds from current time or from an operating\n",
      "        system specific randomness source if available.\n",
      "        \n",
      "        If *a* is an int, all bits are used.\n",
      "        \n",
      "        For version 2 (the default), all of the bits are used if *a* is a str,\n",
      "        bytes, or bytearray.  For version 1 (provided for reproducing random\n",
      "        sequences from older versions of Python), the algorithm for str and\n",
      "        bytes generates a narrower range of seeds.\n",
      "    \n",
      "    setstate(state) method of Random instance\n",
      "        Restore internal state from object returned by getstate().\n",
      "    \n",
      "    shuffle(x, random=None) method of Random instance\n",
      "        Shuffle list x in place, and return None.\n",
      "        \n",
      "        Optional argument random is a 0-argument function returning a\n",
      "        random float in [0.0, 1.0); if it is the default None, the\n",
      "        standard random.random will be used.\n",
      "    \n",
      "    triangular(low=0.0, high=1.0, mode=None) method of Random instance\n",
      "        Triangular distribution.\n",
      "        \n",
      "        Continuous distribution bounded by given lower and upper limits,\n",
      "        and having a given mode value in-between.\n",
      "        \n",
      "        http://en.wikipedia.org/wiki/Triangular_distribution\n",
      "    \n",
      "    uniform(a, b) method of Random instance\n",
      "        Get a random number in the range [a, b) or [a, b] depending on rounding.\n",
      "    \n",
      "    vonmisesvariate(mu, kappa) method of Random instance\n",
      "        Circular data distribution.\n",
      "        \n",
      "        mu is the mean angle, expressed in radians between 0 and 2*pi, and\n",
      "        kappa is the concentration parameter, which must be greater than or\n",
      "        equal to zero.  If kappa is equal to zero, this distribution reduces\n",
      "        to a uniform random angle over the range 0 to 2*pi.\n",
      "    \n",
      "    weibullvariate(alpha, beta) method of Random instance\n",
      "        Weibull distribution.\n",
      "        \n",
      "        alpha is the scale parameter and beta is the shape parameter.\n",
      "\n",
      "DATA\n",
      "    __all__ = ['Random', 'SystemRandom', 'betavariate', 'choice', 'choices...\n",
      "\n",
      "FILE\n",
      "    c:\\users\\erdem\\anaconda3\\lib\\random.py\n",
      "\n",
      "\n"
     ]
    }
   ],
   "source": [
    "help(random)"
   ]
  },
  {
   "cell_type": "code",
   "execution_count": 79,
   "id": "b50f93af-d5a2-42e7-b3c3-3c8482ea7434",
   "metadata": {},
   "outputs": [
    {
     "data": {
      "text/plain": [
       "0.44801887380283445"
      ]
     },
     "execution_count": 79,
     "metadata": {},
     "output_type": "execute_result"
    }
   ],
   "source": [
    "#random(self, /)\n",
    "#   |      random() -> x in the interval [0, 1).\n",
    "\n",
    "\n",
    "random.random()"
   ]
  },
  {
   "cell_type": "code",
   "execution_count": 80,
   "id": "32e7e49a-0712-4188-9522-27f3f93fdc19",
   "metadata": {},
   "outputs": [
    {
     "data": {
      "text/plain": [
       "45.47112627124531"
      ]
     },
     "execution_count": 80,
     "metadata": {},
     "output_type": "execute_result"
    }
   ],
   "source": [
    "random.uniform(10,50)"
   ]
  },
  {
   "cell_type": "code",
   "execution_count": 81,
   "id": "74f14905-111f-45c3-9b2c-f37889b16588",
   "metadata": {},
   "outputs": [
    {
     "data": {
      "text/plain": [
       "15"
      ]
     },
     "execution_count": 81,
     "metadata": {},
     "output_type": "execute_result"
    }
   ],
   "source": [
    "random.randint(10,50)"
   ]
  },
  {
   "cell_type": "code",
   "execution_count": 85,
   "id": "1b535e7f-5b20-4905-90c9-ff07e21209fc",
   "metadata": {},
   "outputs": [
    {
     "data": {
      "text/plain": [
       "5"
      ]
     },
     "execution_count": 85,
     "metadata": {},
     "output_type": "execute_result"
    }
   ],
   "source": [
    "random.choice([*range(10)])"
   ]
  },
  {
   "cell_type": "code",
   "execution_count": 86,
   "id": "3fefe6d3-08ab-4e4c-b108-cd0eb5e56b88",
   "metadata": {},
   "outputs": [
    {
     "data": {
      "text/plain": [
       "9"
      ]
     },
     "execution_count": 86,
     "metadata": {},
     "output_type": "execute_result"
    }
   ],
   "source": [
    "random.choice(range(10))"
   ]
  },
  {
   "cell_type": "code",
   "execution_count": 87,
   "id": "04b115a9-00c1-42a9-9f57-4728931c993f",
   "metadata": {},
   "outputs": [
    {
     "data": {
      "text/plain": [
       "[1, 4, 0, 3]"
      ]
     },
     "execution_count": 87,
     "metadata": {},
     "output_type": "execute_result"
    }
   ],
   "source": [
    "random.sample(range(10),k=4)"
   ]
  },
  {
   "cell_type": "code",
   "execution_count": 89,
   "id": "9d2d41b7-4068-40b4-bba2-7ed2ffb34f50",
   "metadata": {},
   "outputs": [
    {
     "name": "stdout",
     "output_type": "stream",
     "text": [
      "[0, 1, 2, 3, 4, 5, 6, 7, 8, 9]\n",
      "[3, 2, 9, 6, 4, 1, 5, 7, 0, 8]\n"
     ]
    }
   ],
   "source": [
    "list = [*range(10)]\n",
    "print(list)\n",
    "random.shuffle(list)\n",
    "print(list)"
   ]
  },
  {
   "cell_type": "markdown",
   "id": "6d556519-d3b5-40f5-bf21-d009120c9b02",
   "metadata": {},
   "source": [
    "## Math module"
   ]
  },
  {
   "cell_type": "code",
   "execution_count": 90,
   "id": "777c69e9-b841-4a7c-8156-21c0ce8db68b",
   "metadata": {},
   "outputs": [],
   "source": [
    "import math"
   ]
  },
  {
   "cell_type": "code",
   "execution_count": 91,
   "id": "fa3fbda8-77c6-44bc-914b-b84d82a68299",
   "metadata": {},
   "outputs": [
    {
     "name": "stdout",
     "output_type": "stream",
     "text": [
      "Help on built-in module math:\n",
      "\n",
      "NAME\n",
      "    math\n",
      "\n",
      "DESCRIPTION\n",
      "    This module provides access to the mathematical functions\n",
      "    defined by the C standard.\n",
      "\n",
      "FUNCTIONS\n",
      "    acos(x, /)\n",
      "        Return the arc cosine (measured in radians) of x.\n",
      "        \n",
      "        The result is between 0 and pi.\n",
      "    \n",
      "    acosh(x, /)\n",
      "        Return the inverse hyperbolic cosine of x.\n",
      "    \n",
      "    asin(x, /)\n",
      "        Return the arc sine (measured in radians) of x.\n",
      "        \n",
      "        The result is between -pi/2 and pi/2.\n",
      "    \n",
      "    asinh(x, /)\n",
      "        Return the inverse hyperbolic sine of x.\n",
      "    \n",
      "    atan(x, /)\n",
      "        Return the arc tangent (measured in radians) of x.\n",
      "        \n",
      "        The result is between -pi/2 and pi/2.\n",
      "    \n",
      "    atan2(y, x, /)\n",
      "        Return the arc tangent (measured in radians) of y/x.\n",
      "        \n",
      "        Unlike atan(y/x), the signs of both x and y are considered.\n",
      "    \n",
      "    atanh(x, /)\n",
      "        Return the inverse hyperbolic tangent of x.\n",
      "    \n",
      "    ceil(x, /)\n",
      "        Return the ceiling of x as an Integral.\n",
      "        \n",
      "        This is the smallest integer >= x.\n",
      "    \n",
      "    comb(n, k, /)\n",
      "        Number of ways to choose k items from n items without repetition and without order.\n",
      "        \n",
      "        Evaluates to n! / (k! * (n - k)!) when k <= n and evaluates\n",
      "        to zero when k > n.\n",
      "        \n",
      "        Also called the binomial coefficient because it is equivalent\n",
      "        to the coefficient of k-th term in polynomial expansion of the\n",
      "        expression (1 + x)**n.\n",
      "        \n",
      "        Raises TypeError if either of the arguments are not integers.\n",
      "        Raises ValueError if either of the arguments are negative.\n",
      "    \n",
      "    copysign(x, y, /)\n",
      "        Return a float with the magnitude (absolute value) of x but the sign of y.\n",
      "        \n",
      "        On platforms that support signed zeros, copysign(1.0, -0.0)\n",
      "        returns -1.0.\n",
      "    \n",
      "    cos(x, /)\n",
      "        Return the cosine of x (measured in radians).\n",
      "    \n",
      "    cosh(x, /)\n",
      "        Return the hyperbolic cosine of x.\n",
      "    \n",
      "    degrees(x, /)\n",
      "        Convert angle x from radians to degrees.\n",
      "    \n",
      "    dist(p, q, /)\n",
      "        Return the Euclidean distance between two points p and q.\n",
      "        \n",
      "        The points should be specified as sequences (or iterables) of\n",
      "        coordinates.  Both inputs must have the same dimension.\n",
      "        \n",
      "        Roughly equivalent to:\n",
      "            sqrt(sum((px - qx) ** 2.0 for px, qx in zip(p, q)))\n",
      "    \n",
      "    erf(x, /)\n",
      "        Error function at x.\n",
      "    \n",
      "    erfc(x, /)\n",
      "        Complementary error function at x.\n",
      "    \n",
      "    exp(x, /)\n",
      "        Return e raised to the power of x.\n",
      "    \n",
      "    expm1(x, /)\n",
      "        Return exp(x)-1.\n",
      "        \n",
      "        This function avoids the loss of precision involved in the direct evaluation of exp(x)-1 for small x.\n",
      "    \n",
      "    fabs(x, /)\n",
      "        Return the absolute value of the float x.\n",
      "    \n",
      "    factorial(x, /)\n",
      "        Find x!.\n",
      "        \n",
      "        Raise a ValueError if x is negative or non-integral.\n",
      "    \n",
      "    floor(x, /)\n",
      "        Return the floor of x as an Integral.\n",
      "        \n",
      "        This is the largest integer <= x.\n",
      "    \n",
      "    fmod(x, y, /)\n",
      "        Return fmod(x, y), according to platform C.\n",
      "        \n",
      "        x % y may differ.\n",
      "    \n",
      "    frexp(x, /)\n",
      "        Return the mantissa and exponent of x, as pair (m, e).\n",
      "        \n",
      "        m is a float and e is an int, such that x = m * 2.**e.\n",
      "        If x is 0, m and e are both 0.  Else 0.5 <= abs(m) < 1.0.\n",
      "    \n",
      "    fsum(seq, /)\n",
      "        Return an accurate floating point sum of values in the iterable seq.\n",
      "        \n",
      "        Assumes IEEE-754 floating point arithmetic.\n",
      "    \n",
      "    gamma(x, /)\n",
      "        Gamma function at x.\n",
      "    \n",
      "    gcd(*integers)\n",
      "        Greatest Common Divisor.\n",
      "    \n",
      "    hypot(...)\n",
      "        hypot(*coordinates) -> value\n",
      "        \n",
      "        Multidimensional Euclidean distance from the origin to a point.\n",
      "        \n",
      "        Roughly equivalent to:\n",
      "            sqrt(sum(x**2 for x in coordinates))\n",
      "        \n",
      "        For a two dimensional point (x, y), gives the hypotenuse\n",
      "        using the Pythagorean theorem:  sqrt(x*x + y*y).\n",
      "        \n",
      "        For example, the hypotenuse of a 3/4/5 right triangle is:\n",
      "        \n",
      "            >>> hypot(3.0, 4.0)\n",
      "            5.0\n",
      "    \n",
      "    isclose(a, b, *, rel_tol=1e-09, abs_tol=0.0)\n",
      "        Determine whether two floating point numbers are close in value.\n",
      "        \n",
      "          rel_tol\n",
      "            maximum difference for being considered \"close\", relative to the\n",
      "            magnitude of the input values\n",
      "          abs_tol\n",
      "            maximum difference for being considered \"close\", regardless of the\n",
      "            magnitude of the input values\n",
      "        \n",
      "        Return True if a is close in value to b, and False otherwise.\n",
      "        \n",
      "        For the values to be considered close, the difference between them\n",
      "        must be smaller than at least one of the tolerances.\n",
      "        \n",
      "        -inf, inf and NaN behave similarly to the IEEE 754 Standard.  That\n",
      "        is, NaN is not close to anything, even itself.  inf and -inf are\n",
      "        only close to themselves.\n",
      "    \n",
      "    isfinite(x, /)\n",
      "        Return True if x is neither an infinity nor a NaN, and False otherwise.\n",
      "    \n",
      "    isinf(x, /)\n",
      "        Return True if x is a positive or negative infinity, and False otherwise.\n",
      "    \n",
      "    isnan(x, /)\n",
      "        Return True if x is a NaN (not a number), and False otherwise.\n",
      "    \n",
      "    isqrt(n, /)\n",
      "        Return the integer part of the square root of the input.\n",
      "    \n",
      "    lcm(*integers)\n",
      "        Least Common Multiple.\n",
      "    \n",
      "    ldexp(x, i, /)\n",
      "        Return x * (2**i).\n",
      "        \n",
      "        This is essentially the inverse of frexp().\n",
      "    \n",
      "    lgamma(x, /)\n",
      "        Natural logarithm of absolute value of Gamma function at x.\n",
      "    \n",
      "    log(...)\n",
      "        log(x, [base=math.e])\n",
      "        Return the logarithm of x to the given base.\n",
      "        \n",
      "        If the base not specified, returns the natural logarithm (base e) of x.\n",
      "    \n",
      "    log10(x, /)\n",
      "        Return the base 10 logarithm of x.\n",
      "    \n",
      "    log1p(x, /)\n",
      "        Return the natural logarithm of 1+x (base e).\n",
      "        \n",
      "        The result is computed in a way which is accurate for x near zero.\n",
      "    \n",
      "    log2(x, /)\n",
      "        Return the base 2 logarithm of x.\n",
      "    \n",
      "    modf(x, /)\n",
      "        Return the fractional and integer parts of x.\n",
      "        \n",
      "        Both results carry the sign of x and are floats.\n",
      "    \n",
      "    nextafter(x, y, /)\n",
      "        Return the next floating-point value after x towards y.\n",
      "    \n",
      "    perm(n, k=None, /)\n",
      "        Number of ways to choose k items from n items without repetition and with order.\n",
      "        \n",
      "        Evaluates to n! / (n - k)! when k <= n and evaluates\n",
      "        to zero when k > n.\n",
      "        \n",
      "        If k is not specified or is None, then k defaults to n\n",
      "        and the function returns n!.\n",
      "        \n",
      "        Raises TypeError if either of the arguments are not integers.\n",
      "        Raises ValueError if either of the arguments are negative.\n",
      "    \n",
      "    pow(x, y, /)\n",
      "        Return x**y (x to the power of y).\n",
      "    \n",
      "    prod(iterable, /, *, start=1)\n",
      "        Calculate the product of all the elements in the input iterable.\n",
      "        \n",
      "        The default start value for the product is 1.\n",
      "        \n",
      "        When the iterable is empty, return the start value.  This function is\n",
      "        intended specifically for use with numeric values and may reject\n",
      "        non-numeric types.\n",
      "    \n",
      "    radians(x, /)\n",
      "        Convert angle x from degrees to radians.\n",
      "    \n",
      "    remainder(x, y, /)\n",
      "        Difference between x and the closest integer multiple of y.\n",
      "        \n",
      "        Return x - n*y where n*y is the closest integer multiple of y.\n",
      "        In the case where x is exactly halfway between two multiples of\n",
      "        y, the nearest even value of n is used. The result is always exact.\n",
      "    \n",
      "    sin(x, /)\n",
      "        Return the sine of x (measured in radians).\n",
      "    \n",
      "    sinh(x, /)\n",
      "        Return the hyperbolic sine of x.\n",
      "    \n",
      "    sqrt(x, /)\n",
      "        Return the square root of x.\n",
      "    \n",
      "    tan(x, /)\n",
      "        Return the tangent of x (measured in radians).\n",
      "    \n",
      "    tanh(x, /)\n",
      "        Return the hyperbolic tangent of x.\n",
      "    \n",
      "    trunc(x, /)\n",
      "        Truncates the Real x to the nearest Integral toward 0.\n",
      "        \n",
      "        Uses the __trunc__ magic method.\n",
      "    \n",
      "    ulp(x, /)\n",
      "        Return the value of the least significant bit of the float x.\n",
      "\n",
      "DATA\n",
      "    e = 2.718281828459045\n",
      "    inf = inf\n",
      "    nan = nan\n",
      "    pi = 3.141592653589793\n",
      "    tau = 6.283185307179586\n",
      "\n",
      "FILE\n",
      "    (built-in)\n",
      "\n",
      "\n"
     ]
    }
   ],
   "source": [
    "help(math)"
   ]
  },
  {
   "cell_type": "code",
   "execution_count": 96,
   "id": "caebaf9b-6258-4d7d-ae5a-5249703986b6",
   "metadata": {},
   "outputs": [
    {
     "data": {
      "text/plain": [
       "8"
      ]
     },
     "execution_count": 96,
     "metadata": {},
     "output_type": "execute_result"
    }
   ],
   "source": [
    "math.ceil(7.2) #round to ceiling"
   ]
  },
  {
   "cell_type": "code",
   "execution_count": 97,
   "id": "397a2f90-c415-42a7-b60e-9b789e9136b3",
   "metadata": {},
   "outputs": [
    {
     "data": {
      "text/plain": [
       "8"
      ]
     },
     "execution_count": 97,
     "metadata": {},
     "output_type": "execute_result"
    }
   ],
   "source": [
    "math.ceil(7.8)"
   ]
  },
  {
   "cell_type": "code",
   "execution_count": 99,
   "id": "7ccf182f-5ddf-4943-8153-753448cedbbb",
   "metadata": {},
   "outputs": [
    {
     "data": {
      "text/plain": [
       "7"
      ]
     },
     "execution_count": 99,
     "metadata": {},
     "output_type": "execute_result"
    }
   ],
   "source": [
    "math.floor(7.8) #round to floor"
   ]
  },
  {
   "cell_type": "code",
   "execution_count": 101,
   "id": "78f5d346-56d9-440a-818e-716b6170891f",
   "metadata": {},
   "outputs": [
    {
     "data": {
      "text/plain": [
       "120"
      ]
     },
     "execution_count": 101,
     "metadata": {},
     "output_type": "execute_result"
    }
   ],
   "source": [
    "math.factorial(5)"
   ]
  },
  {
   "cell_type": "code",
   "execution_count": 102,
   "id": "4bd96370-1793-4a66-82b5-f014170e9e11",
   "metadata": {},
   "outputs": [
    {
     "data": {
      "text/plain": [
       "1024.0"
      ]
     },
     "execution_count": 102,
     "metadata": {},
     "output_type": "execute_result"
    }
   ],
   "source": [
    "math.pow(4,5)"
   ]
  },
  {
   "cell_type": "markdown",
   "id": "a7f2c417-8c75-424f-8cea-4b8beb7c44d0",
   "metadata": {},
   "source": [
    "## Collection modul"
   ]
  },
  {
   "cell_type": "code",
   "execution_count": 105,
   "id": "2e3f07fc-cbfe-449c-9867-7de021254757",
   "metadata": {},
   "outputs": [],
   "source": [
    "from collections import Counter"
   ]
  },
  {
   "cell_type": "code",
   "execution_count": 107,
   "id": "79aec7bc-cdee-46aa-9309-66c11b3fb509",
   "metadata": {},
   "outputs": [],
   "source": [
    "list1 = random.sample(range(10), k=4)\n",
    "list2 = random.sample(range(10), k=4)\n",
    "list3 = random.sample(range(10), k=4)\n",
    "list4 = random.sample(range(10), k=4)"
   ]
  },
  {
   "cell_type": "code",
   "execution_count": 108,
   "id": "04c1fb97-d7aa-4b36-801d-60466fa1caf0",
   "metadata": {},
   "outputs": [
    {
     "name": "stdout",
     "output_type": "stream",
     "text": [
      "[[1, 3, 6, 2], [3, 2, 7, 0], [0, 9, 1, 5], [3, 6, 4, 1]]\n",
      "[1, 3, 6, 2, 3, 2, 7, 0, 0, 9, 1, 5, 3, 6, 4, 1]\n"
     ]
    }
   ],
   "source": [
    "list_list = [list1,list2,list3,list4]\n",
    "print(list_list)\n",
    "list_total = list1+list2+list3+list4\n",
    "print(list_total)"
   ]
  },
  {
   "cell_type": "code",
   "execution_count": 111,
   "id": "977b8b63-5d18-49e2-8ef9-a671a1e61823",
   "metadata": {},
   "outputs": [
    {
     "name": "stdout",
     "output_type": "stream",
     "text": [
      "1. list \t [1, 3, 6, 2]\n",
      "2. list \t [3, 2, 7, 0]\n",
      "3. list \t [0, 9, 1, 5]\n",
      "4. list \t [3, 6, 4, 1]\n"
     ]
    },
    {
     "data": {
      "text/plain": [
       "Counter({1: 3, 3: 3, 6: 2, 2: 2, 7: 1, 0: 2, 9: 1, 5: 1, 4: 1})"
      ]
     },
     "execution_count": 111,
     "metadata": {},
     "output_type": "execute_result"
    }
   ],
   "source": [
    "for i,l in enumerate(list_list):\n",
    "    print(\"{}. list \\t {}\".format(i+1,l))\n",
    "    \n",
    "Counter(list_total)"
   ]
  },
  {
   "cell_type": "code",
   "execution_count": 112,
   "id": "0cee1c67-328c-49ee-a23f-43c91528380d",
   "metadata": {},
   "outputs": [
    {
     "data": {
      "text/plain": [
       "Counter({'d': 4,\n",
       "         'f': 2,\n",
       "         'h': 7,\n",
       "         'l': 1,\n",
       "         'ı': 4,\n",
       "         'r': 3,\n",
       "         'e': 3,\n",
       "         'j': 3,\n",
       "         's': 5,\n",
       "         'o': 2,\n",
       "         'ş': 2,\n",
       "         'p': 1})"
      ]
     },
     "execution_count": 112,
     "metadata": {},
     "output_type": "execute_result"
    }
   ],
   "source": [
    "Counter(\"dfhlırejhıshdeorshseıroşhjsfdıphjsdşh\")"
   ]
  },
  {
   "cell_type": "code",
   "execution_count": 114,
   "id": "4e3164ff-5de6-4b91-a304-95a78b6bfdd9",
   "metadata": {},
   "outputs": [
    {
     "name": "stdout",
     "output_type": "stream",
     "text": [
      " \n",
      "There lived a certain man in Russia long ago\n",
      "He was big and strong, in his eyes a flaming glow\n",
      "Most people look at him with terror and with fear\n",
      "But to Moscow chicks he was such a lovely dear\n",
      "He could preach the Bible like a preacher\n",
      "Full of ecstasy and fire\n",
      "But he also was the kind of teacher\n",
      "Women would desire\n",
      "Hey, hey, hey, hey, hey, hey, hey, hey\n",
      "Hey, hey, hey, hey, hey, hey, hey, hey\n",
      "Hey, hey, hey, hey, hey, hey, hey, hey\n",
      "Hey, hey, hey, hey, hey, hey, hey, hey\n",
      "Hey, hey, hey, hey, hey, hey, hey, hey\n",
      "There lived a certain man in Russia long ago\n",
      "He was big and strong, in his eyes a flaming glow\n",
      "Most people look at him with terror and with fear\n",
      "But to Moscow chicks he was such a lovely dear\n",
      "He could preach the Bible like a preacher\n",
      "Full of ecstasy and fire\n",
      "But he also was the kind of teacher\n",
      "Women would desire\n",
      "Ra-ra-Rasputin\n",
      "Lover of the Russian queen\n",
      "There was a cat that really was gone\n",
      "Ra-ra-Rasputin\n",
      "Russia's greatest love machine\n",
      "It was a shame how he carried on\n",
      "\n"
     ]
    }
   ],
   "source": [
    "music = \"\"\" \n",
    "There lived a certain man in Russia long ago\n",
    "He was big and strong, in his eyes a flaming glow\n",
    "Most people look at him with terror and with fear\n",
    "But to Moscow chicks he was such a lovely dear\n",
    "He could preach the Bible like a preacher\n",
    "Full of ecstasy and fire\n",
    "But he also was the kind of teacher\n",
    "Women would desire\n",
    "Hey, hey, hey, hey, hey, hey, hey, hey\n",
    "Hey, hey, hey, hey, hey, hey, hey, hey\n",
    "Hey, hey, hey, hey, hey, hey, hey, hey\n",
    "Hey, hey, hey, hey, hey, hey, hey, hey\n",
    "Hey, hey, hey, hey, hey, hey, hey, hey\n",
    "There lived a certain man in Russia long ago\n",
    "He was big and strong, in his eyes a flaming glow\n",
    "Most people look at him with terror and with fear\n",
    "But to Moscow chicks he was such a lovely dear\n",
    "He could preach the Bible like a preacher\n",
    "Full of ecstasy and fire\n",
    "But he also was the kind of teacher\n",
    "Women would desire\n",
    "Ra-ra-Rasputin\n",
    "Lover of the Russian queen\n",
    "There was a cat that really was gone\n",
    "Ra-ra-Rasputin\n",
    "Russia's greatest love machine\n",
    "It was a shame how he carried on\n",
    "\"\"\"\n",
    "\n",
    "print(music)"
   ]
  },
  {
   "cell_type": "code",
   "execution_count": 115,
   "id": "17683d2b-9fb6-43d2-8ab1-e900aeec44b3",
   "metadata": {},
   "outputs": [
    {
     "data": {
      "text/plain": [
       "Counter({' ': 169,\n",
       "         '\\n': 28,\n",
       "         'T': 3,\n",
       "         'h': 70,\n",
       "         'e': 115,\n",
       "         'r': 36,\n",
       "         'l': 33,\n",
       "         'i': 40,\n",
       "         'v': 6,\n",
       "         'd': 19,\n",
       "         'a': 66,\n",
       "         'c': 23,\n",
       "         't': 37,\n",
       "         'n': 31,\n",
       "         'm': 10,\n",
       "         'R': 8,\n",
       "         'u': 19,\n",
       "         's': 44,\n",
       "         'o': 44,\n",
       "         'g': 14,\n",
       "         'H': 9,\n",
       "         'w': 20,\n",
       "         'b': 4,\n",
       "         ',': 37,\n",
       "         'y': 47,\n",
       "         'f': 11,\n",
       "         'M': 4,\n",
       "         'p': 10,\n",
       "         'k': 8,\n",
       "         'B': 6,\n",
       "         'F': 2,\n",
       "         'W': 2,\n",
       "         '-': 4,\n",
       "         'L': 1,\n",
       "         'q': 1,\n",
       "         \"'\": 1,\n",
       "         'I': 1})"
      ]
     },
     "execution_count": 115,
     "metadata": {},
     "output_type": "execute_result"
    }
   ],
   "source": [
    "Counter(music)"
   ]
  },
  {
   "cell_type": "code",
   "execution_count": 116,
   "id": "a3c842d6-1744-4c07-b49e-eb2e0ea680ea",
   "metadata": {},
   "outputs": [
    {
     "data": {
      "text/plain": [
       "Counter({'There': 3,\n",
       "         'lived': 2,\n",
       "         'a': 10,\n",
       "         'certain': 2,\n",
       "         'man': 2,\n",
       "         'in': 4,\n",
       "         'Russia': 2,\n",
       "         'long': 2,\n",
       "         'ago': 2,\n",
       "         'He': 4,\n",
       "         'was': 9,\n",
       "         'big': 2,\n",
       "         'and': 6,\n",
       "         'strong,': 2,\n",
       "         'his': 2,\n",
       "         'eyes': 2,\n",
       "         'flaming': 2,\n",
       "         'glow': 2,\n",
       "         'Most': 2,\n",
       "         'people': 2,\n",
       "         'look': 2,\n",
       "         'at': 2,\n",
       "         'him': 2,\n",
       "         'with': 4,\n",
       "         'terror': 2,\n",
       "         'fear': 2,\n",
       "         'But': 4,\n",
       "         'to': 2,\n",
       "         'Moscow': 2,\n",
       "         'chicks': 2,\n",
       "         'he': 5,\n",
       "         'such': 2,\n",
       "         'lovely': 2,\n",
       "         'dear': 2,\n",
       "         'could': 2,\n",
       "         'preach': 2,\n",
       "         'the': 5,\n",
       "         'Bible': 2,\n",
       "         'like': 2,\n",
       "         'preacher': 2,\n",
       "         'Full': 2,\n",
       "         'of': 5,\n",
       "         'ecstasy': 2,\n",
       "         'fire': 2,\n",
       "         'also': 2,\n",
       "         'kind': 2,\n",
       "         'teacher': 2,\n",
       "         'Women': 2,\n",
       "         'would': 2,\n",
       "         'desire': 2,\n",
       "         'Hey,': 5,\n",
       "         'hey,': 30,\n",
       "         'hey': 5,\n",
       "         'Ra-ra-Rasputin': 2,\n",
       "         'Lover': 1,\n",
       "         'Russian': 1,\n",
       "         'queen': 1,\n",
       "         'cat': 1,\n",
       "         'that': 1,\n",
       "         'really': 1,\n",
       "         'gone': 1,\n",
       "         \"Russia's\": 1,\n",
       "         'greatest': 1,\n",
       "         'love': 1,\n",
       "         'machine': 1,\n",
       "         'It': 1,\n",
       "         'shame': 1,\n",
       "         'how': 1,\n",
       "         'carried': 1,\n",
       "         'on': 1})"
      ]
     },
     "execution_count": 116,
     "metadata": {},
     "output_type": "execute_result"
    }
   ],
   "source": [
    "Counter(music.split())"
   ]
  },
  {
   "cell_type": "code",
   "execution_count": 117,
   "id": "4a0d6aad-4daf-49ac-869b-7021613fa4fa",
   "metadata": {},
   "outputs": [
    {
     "data": {
      "text/plain": [
       "Counter({'there': 3,\n",
       "         'lived': 2,\n",
       "         'a': 10,\n",
       "         'certain': 2,\n",
       "         'man': 2,\n",
       "         'in': 4,\n",
       "         'russia': 2,\n",
       "         'long': 2,\n",
       "         'ago': 2,\n",
       "         'he': 9,\n",
       "         'was': 9,\n",
       "         'big': 2,\n",
       "         'and': 6,\n",
       "         'strong,': 2,\n",
       "         'his': 2,\n",
       "         'eyes': 2,\n",
       "         'flaming': 2,\n",
       "         'glow': 2,\n",
       "         'most': 2,\n",
       "         'people': 2,\n",
       "         'look': 2,\n",
       "         'at': 2,\n",
       "         'him': 2,\n",
       "         'with': 4,\n",
       "         'terror': 2,\n",
       "         'fear': 2,\n",
       "         'but': 4,\n",
       "         'to': 2,\n",
       "         'moscow': 2,\n",
       "         'chicks': 2,\n",
       "         'such': 2,\n",
       "         'lovely': 2,\n",
       "         'dear': 2,\n",
       "         'could': 2,\n",
       "         'preach': 2,\n",
       "         'the': 5,\n",
       "         'bible': 2,\n",
       "         'like': 2,\n",
       "         'preacher': 2,\n",
       "         'full': 2,\n",
       "         'of': 5,\n",
       "         'ecstasy': 2,\n",
       "         'fire': 2,\n",
       "         'also': 2,\n",
       "         'kind': 2,\n",
       "         'teacher': 2,\n",
       "         'women': 2,\n",
       "         'would': 2,\n",
       "         'desire': 2,\n",
       "         'hey,': 35,\n",
       "         'hey': 5,\n",
       "         'ra-ra-rasputin': 2,\n",
       "         'lover': 1,\n",
       "         'russian': 1,\n",
       "         'queen': 1,\n",
       "         'cat': 1,\n",
       "         'that': 1,\n",
       "         'really': 1,\n",
       "         'gone': 1,\n",
       "         \"russia's\": 1,\n",
       "         'greatest': 1,\n",
       "         'love': 1,\n",
       "         'machine': 1,\n",
       "         'it': 1,\n",
       "         'shame': 1,\n",
       "         'how': 1,\n",
       "         'carried': 1,\n",
       "         'on': 1})"
      ]
     },
     "execution_count": 117,
     "metadata": {},
     "output_type": "execute_result"
    }
   ],
   "source": [
    "Counter(music.lower().split())"
   ]
  },
  {
   "cell_type": "code",
   "execution_count": 118,
   "id": "87c71c89-c943-4057-b475-d9916eeaf5cd",
   "metadata": {},
   "outputs": [
    {
     "data": {
      "text/plain": [
       "[('hey,', 35)]"
      ]
     },
     "execution_count": 118,
     "metadata": {},
     "output_type": "execute_result"
    }
   ],
   "source": [
    "Counter(music.lower().split()).most_common(1)"
   ]
  },
  {
   "cell_type": "code",
   "execution_count": 119,
   "id": "1f4fa574-1b72-4210-a4da-fcddf66a05b8",
   "metadata": {},
   "outputs": [
    {
     "data": {
      "text/plain": [
       "[('hey,', 35), ('a', 10)]"
      ]
     },
     "execution_count": 119,
     "metadata": {},
     "output_type": "execute_result"
    }
   ],
   "source": [
    "Counter(music.lower().split()).most_common(2)"
   ]
  },
  {
   "cell_type": "code",
   "execution_count": 120,
   "id": "f156e06c-bf4a-4e49-9346-4529182301ad",
   "metadata": {},
   "outputs": [
    {
     "data": {
      "text/plain": [
       "[('hey,', 35), ('a', 10), ('he', 9)]"
      ]
     },
     "execution_count": 120,
     "metadata": {},
     "output_type": "execute_result"
    }
   ],
   "source": [
    "Counter(music.lower().split()).most_common(3)"
   ]
  },
  {
   "cell_type": "markdown",
   "id": "7547b96f-06f6-40bb-9b52-34854356881a",
   "metadata": {},
   "source": [
    "## Datetime"
   ]
  },
  {
   "cell_type": "code",
   "execution_count": 121,
   "id": "ef845bb5-00a0-43a8-882d-1b1e96577991",
   "metadata": {},
   "outputs": [],
   "source": [
    "import datetime"
   ]
  },
  {
   "cell_type": "code",
   "execution_count": 122,
   "id": "b20f7923-3284-4d4d-8703-784977a2edf9",
   "metadata": {},
   "outputs": [],
   "source": [
    "from datetime import date"
   ]
  },
  {
   "cell_type": "code",
   "execution_count": 123,
   "id": "028df189-41f0-414a-891d-457ad84fdfda",
   "metadata": {},
   "outputs": [
    {
     "data": {
      "text/plain": [
       "datetime.date(2025, 1, 1)"
      ]
     },
     "execution_count": 123,
     "metadata": {},
     "output_type": "execute_result"
    }
   ],
   "source": [
    "today= date.today()\n",
    "today"
   ]
  },
  {
   "cell_type": "code",
   "execution_count": 124,
   "id": "a44f6822-c7b9-4def-8084-184a3fa17c24",
   "metadata": {},
   "outputs": [
    {
     "data": {
      "text/plain": [
       "datetime.date(2024, 12, 31)"
      ]
     },
     "execution_count": 124,
     "metadata": {},
     "output_type": "execute_result"
    }
   ],
   "source": [
    "yest = date(2024,12,31)\n",
    "yest"
   ]
  },
  {
   "cell_type": "code",
   "execution_count": 125,
   "id": "12e517fb-1ed8-4efd-8ff2-adf57ed6ab3d",
   "metadata": {},
   "outputs": [
    {
     "data": {
      "text/plain": [
       "datetime.timedelta(days=1)"
      ]
     },
     "execution_count": 125,
     "metadata": {},
     "output_type": "execute_result"
    }
   ],
   "source": [
    "today-yest"
   ]
  },
  {
   "cell_type": "code",
   "execution_count": 127,
   "id": "866bbc5b-1cd1-4cf8-af9d-98d8fda76e24",
   "metadata": {},
   "outputs": [
    {
     "data": {
      "text/plain": [
       "1"
      ]
     },
     "execution_count": 127,
     "metadata": {},
     "output_type": "execute_result"
    }
   ],
   "source": [
    "date_int = today-yest\n",
    "date_int.days"
   ]
  },
  {
   "cell_type": "code",
   "execution_count": 126,
   "id": "213b3440-0bb3-4034-85f2-a2e903b4f5b6",
   "metadata": {},
   "outputs": [
    {
     "data": {
      "text/plain": [
       "datetime.date(2025, 1, 2)"
      ]
     },
     "execution_count": 126,
     "metadata": {},
     "output_type": "execute_result"
    }
   ],
   "source": [
    "tomr = today + datetime.timedelta(days=1)\n",
    "tomr"
   ]
  },
  {
   "cell_type": "code",
   "execution_count": 128,
   "id": "c299f623-5ca9-4984-8e39-96e75190bf38",
   "metadata": {},
   "outputs": [
    {
     "data": {
      "text/plain": [
       "True"
      ]
     },
     "execution_count": 128,
     "metadata": {},
     "output_type": "execute_result"
    }
   ],
   "source": [
    "yest < today"
   ]
  },
  {
   "cell_type": "code",
   "execution_count": 129,
   "id": "da38d04e-666f-4d6b-9c07-2cce570d7fec",
   "metadata": {},
   "outputs": [
    {
     "data": {
      "text/plain": [
       "2025"
      ]
     },
     "execution_count": 129,
     "metadata": {},
     "output_type": "execute_result"
    }
   ],
   "source": [
    "today.year"
   ]
  },
  {
   "cell_type": "code",
   "execution_count": 131,
   "id": "0c33782b-9942-42ac-b656-6d04ceac4d60",
   "metadata": {},
   "outputs": [
    {
     "data": {
      "text/plain": [
       "1"
      ]
     },
     "execution_count": 131,
     "metadata": {},
     "output_type": "execute_result"
    }
   ],
   "source": [
    "today.month"
   ]
  },
  {
   "cell_type": "code",
   "execution_count": 132,
   "id": "97d8634e-c7ac-476c-bb0d-af9d31eee519",
   "metadata": {},
   "outputs": [
    {
     "ename": "AttributeError",
     "evalue": "'datetime.date' object has no attribute 'week'",
     "output_type": "error",
     "traceback": [
      "\u001b[1;31m---------------------------------------------------------------------------\u001b[0m",
      "\u001b[1;31mAttributeError\u001b[0m                            Traceback (most recent call last)",
      "Cell \u001b[1;32mIn[132], line 1\u001b[0m\n\u001b[1;32m----> 1\u001b[0m \u001b[43mtoday\u001b[49m\u001b[38;5;241;43m.\u001b[39;49m\u001b[43mweek\u001b[49m\n",
      "\u001b[1;31mAttributeError\u001b[0m: 'datetime.date' object has no attribute 'week'"
     ]
    }
   ],
   "source": [
    "today.week"
   ]
  },
  {
   "cell_type": "code",
   "execution_count": 135,
   "id": "f1a414a1-dcf7-4587-931f-7a28b58173eb",
   "metadata": {},
   "outputs": [
    {
     "data": {
      "text/plain": [
       "datetime.IsoCalendarDate(year=2025, week=1, weekday=3)"
      ]
     },
     "execution_count": 135,
     "metadata": {},
     "output_type": "execute_result"
    }
   ],
   "source": [
    "date.isocalendar(today) #start 1"
   ]
  },
  {
   "cell_type": "code",
   "execution_count": 136,
   "id": "b99e40a5-1e6b-46f4-989e-0dd5f231798c",
   "metadata": {},
   "outputs": [
    {
     "data": {
      "text/plain": [
       "2"
      ]
     },
     "execution_count": 136,
     "metadata": {},
     "output_type": "execute_result"
    }
   ],
   "source": [
    "date.weekday(today) #start 0"
   ]
  },
  {
   "cell_type": "code",
   "execution_count": 137,
   "id": "9416d7fa-3f10-44f4-b370-7311610a9a4b",
   "metadata": {},
   "outputs": [
    {
     "data": {
      "text/plain": [
       "'Wed Jan  1 00:00:00 2025'"
      ]
     },
     "execution_count": 137,
     "metadata": {},
     "output_type": "execute_result"
    }
   ],
   "source": [
    "date.ctime(today)"
   ]
  },
  {
   "cell_type": "code",
   "execution_count": 138,
   "id": "c6180c0a-2763-4a7c-af09-8552e1d6cd15",
   "metadata": {},
   "outputs": [],
   "source": [
    "from datetime import time"
   ]
  },
  {
   "cell_type": "code",
   "execution_count": 141,
   "id": "4e4abb53-f0e2-441e-b7ed-9946a49c1549",
   "metadata": {},
   "outputs": [
    {
     "name": "stdout",
     "output_type": "stream",
     "text": [
      "13:35:25\n"
     ]
    }
   ],
   "source": [
    "timess = time(13,35,25)\n",
    "print(timess)"
   ]
  },
  {
   "cell_type": "code",
   "execution_count": 142,
   "id": "7335a6d3-af22-4efd-8930-887375056d26",
   "metadata": {},
   "outputs": [
    {
     "data": {
      "text/plain": [
       "13"
      ]
     },
     "execution_count": 142,
     "metadata": {},
     "output_type": "execute_result"
    }
   ],
   "source": [
    "timess.hour"
   ]
  },
  {
   "cell_type": "code",
   "execution_count": 143,
   "id": "454539f5-3f39-4879-af75-47c7a27b6c32",
   "metadata": {},
   "outputs": [
    {
     "data": {
      "text/plain": [
       "35"
      ]
     },
     "execution_count": 143,
     "metadata": {},
     "output_type": "execute_result"
    }
   ],
   "source": [
    "timess.minute"
   ]
  },
  {
   "cell_type": "code",
   "execution_count": 144,
   "id": "f0b8faa6-d94a-4d20-95ff-9329bde56c8e",
   "metadata": {},
   "outputs": [
    {
     "data": {
      "text/plain": [
       "25"
      ]
     },
     "execution_count": 144,
     "metadata": {},
     "output_type": "execute_result"
    }
   ],
   "source": [
    "timess.second"
   ]
  },
  {
   "cell_type": "code",
   "execution_count": 145,
   "id": "34c6a74f-66dd-418a-a0cd-4c5ac6d7fb0a",
   "metadata": {},
   "outputs": [
    {
     "name": "stdout",
     "output_type": "stream",
     "text": [
      "2025-01-01 13:35:25\n"
     ]
    }
   ],
   "source": [
    "dt = datetime.datetime(2025,1,1,13,35,25)\n",
    "print(dt)"
   ]
  },
  {
   "cell_type": "markdown",
   "id": "96f2ceda-02ab-4265-88d7-ea37ca10ba8d",
   "metadata": {},
   "source": [
    "## time"
   ]
  },
  {
   "cell_type": "code",
   "execution_count": 146,
   "id": "c535c5ff-ba8a-48ef-aac5-67bc97aabf51",
   "metadata": {},
   "outputs": [],
   "source": [
    "import time"
   ]
  },
  {
   "cell_type": "code",
   "execution_count": 147,
   "id": "64fe3608-dc7d-43f8-949b-e5f5e6e7df47",
   "metadata": {},
   "outputs": [
    {
     "data": {
      "text/plain": [
       "1735727899.124011"
      ]
     },
     "execution_count": 147,
     "metadata": {},
     "output_type": "execute_result"
    }
   ],
   "source": [
    "time.time()"
   ]
  },
  {
   "cell_type": "code",
   "execution_count": 150,
   "id": "6200a2d2-acc7-4f31-9688-38a876305ca0",
   "metadata": {},
   "outputs": [
    {
     "name": "stdout",
     "output_type": "stream",
     "text": [
      "start time 1735839460.361252\n",
      "finish time 1735839465.361353\n",
      "process time 5.00010085105896\n"
     ]
    }
   ],
   "source": [
    "str_time = time.time()\n",
    "print(\"start time {}\".format(str_time))\n",
    "time.sleep(5)\n",
    "fnh_time = time.time()\n",
    "print(\"finish time {}\".format(fnh_time))\n",
    "print(\"process time {}\".format(fnh_time - str_time))"
   ]
  },
  {
   "cell_type": "markdown",
   "id": "e280c54c-09ab-4249-a01e-15e60f4f7d63",
   "metadata": {},
   "source": [
    "## Decorator"
   ]
  },
  {
   "cell_type": "code",
   "execution_count": 151,
   "id": "5a644098-d47d-40d7-8988-87f16e891b26",
   "metadata": {},
   "outputs": [],
   "source": [
    "def trying():\n",
    "    print('abc')"
   ]
  },
  {
   "cell_type": "code",
   "execution_count": 153,
   "id": "162812d1-a857-422a-8021-83bc7f4246be",
   "metadata": {},
   "outputs": [
    {
     "name": "stdout",
     "output_type": "stream",
     "text": [
      "abc\n"
     ]
    }
   ],
   "source": [
    "trying()"
   ]
  },
  {
   "cell_type": "code",
   "execution_count": 156,
   "id": "c8ec6c42-bbf8-4b08-bb7c-56835d64bc4a",
   "metadata": {},
   "outputs": [],
   "source": [
    "f = trying"
   ]
  },
  {
   "cell_type": "code",
   "execution_count": 157,
   "id": "b3da203d-3edb-4b28-aca3-48d78c6027f5",
   "metadata": {},
   "outputs": [
    {
     "name": "stdout",
     "output_type": "stream",
     "text": [
      "abc\n"
     ]
    }
   ],
   "source": [
    "f()"
   ]
  },
  {
   "cell_type": "code",
   "execution_count": 160,
   "id": "0c09fd81-3f85-4f7f-89cf-0c505c30d5b0",
   "metadata": {},
   "outputs": [],
   "source": [
    "def trying1():\n",
    "    print('processing')\n",
    "    def test():\n",
    "        return 'test processing'\n",
    "    print(test())\n"
   ]
  },
  {
   "cell_type": "code",
   "execution_count": 161,
   "id": "6968dc46-ff5e-49f9-86ad-c48eb7a7ab6b",
   "metadata": {},
   "outputs": [
    {
     "name": "stdout",
     "output_type": "stream",
     "text": [
      "processing\n",
      "test processing\n"
     ]
    }
   ],
   "source": [
    "trying1()"
   ]
  },
  {
   "cell_type": "code",
   "execution_count": 163,
   "id": "7411d8d8-dd16-4ac2-998d-f8a4b355ae6a",
   "metadata": {},
   "outputs": [],
   "source": [
    "def trying2():\n",
    "    print('processing')\n",
    "    def test():\n",
    "        return 'test processing'\n",
    "    return test\n"
   ]
  },
  {
   "cell_type": "code",
   "execution_count": 164,
   "id": "bfb9a4b7-a483-4642-b8a9-f4a04d4c2a47",
   "metadata": {},
   "outputs": [
    {
     "name": "stdout",
     "output_type": "stream",
     "text": [
      "processing\n"
     ]
    },
    {
     "data": {
      "text/plain": [
       "<function __main__.trying2.<locals>.test()>"
      ]
     },
     "execution_count": 164,
     "metadata": {},
     "output_type": "execute_result"
    }
   ],
   "source": [
    "trying2()"
   ]
  },
  {
   "cell_type": "code",
   "execution_count": 167,
   "id": "6a941c36-43f7-459d-8ade-c1fd226cf322",
   "metadata": {},
   "outputs": [
    {
     "name": "stdout",
     "output_type": "stream",
     "text": [
      "processing\n"
     ]
    }
   ],
   "source": [
    "f1 = trying2()"
   ]
  },
  {
   "cell_type": "code",
   "execution_count": 168,
   "id": "c71bb8a0-bfbb-4a2a-a550-418eecc6a413",
   "metadata": {},
   "outputs": [
    {
     "data": {
      "text/plain": [
       "'test processing'"
      ]
     },
     "execution_count": 168,
     "metadata": {},
     "output_type": "execute_result"
    }
   ],
   "source": [
    "f1()"
   ]
  },
  {
   "cell_type": "code",
   "execution_count": 169,
   "id": "60fe9d9b-0e9e-4b5b-9795-f497e8709e95",
   "metadata": {},
   "outputs": [
    {
     "name": "stdout",
     "output_type": "stream",
     "text": [
      "processing\n",
      "test processing\n"
     ]
    }
   ],
   "source": [
    "f1 = trying2()\n",
    "print(f1())"
   ]
  },
  {
   "cell_type": "code",
   "execution_count": 170,
   "id": "335831b3-00be-4f43-a4d2-49e510d816b8",
   "metadata": {},
   "outputs": [],
   "source": [
    "def trying3():\n",
    "    return \"trying processing\""
   ]
  },
  {
   "cell_type": "code",
   "execution_count": 173,
   "id": "b84691d6-0585-4006-8847-906195406b96",
   "metadata": {},
   "outputs": [],
   "source": [
    "def second():\n",
    "    print( \"second processing\")\n",
    "    print(f1())\n",
    "    "
   ]
  },
  {
   "cell_type": "code",
   "execution_count": 174,
   "id": "ddfd079c-8fa5-44ea-99fb-02d933f6ad89",
   "metadata": {},
   "outputs": [
    {
     "name": "stdout",
     "output_type": "stream",
     "text": [
      "second processing\n",
      "test processing\n"
     ]
    }
   ],
   "source": [
    "second()"
   ]
  },
  {
   "cell_type": "code",
   "execution_count": 185,
   "id": "dd4b44d1-ab55-47f9-9da9-0982643ee2ad",
   "metadata": {},
   "outputs": [],
   "source": [
    "def deco(f):\n",
    "    \n",
    "    def wrapper():\n",
    "        print('start')\n",
    "        \n",
    "        f()\n",
    "        \n",
    "        print('finish')\n",
    "    return wrapper"
   ]
  },
  {
   "cell_type": "code",
   "execution_count": 186,
   "id": "19c0d3ae-04c9-47dd-89cf-931316fd232b",
   "metadata": {},
   "outputs": [],
   "source": [
    "def write():\n",
    "    print('write')"
   ]
  },
  {
   "cell_type": "code",
   "execution_count": 187,
   "id": "d7bb2969-2120-49a6-9233-37797b532b81",
   "metadata": {},
   "outputs": [],
   "source": [
    "def write2():\n",
    "    print('write2')"
   ]
  },
  {
   "cell_type": "code",
   "execution_count": 188,
   "id": "f797f5b6-8d42-4c5f-913f-c511d8bc7332",
   "metadata": {},
   "outputs": [],
   "source": [
    "write = deco(write)"
   ]
  },
  {
   "cell_type": "code",
   "execution_count": 189,
   "id": "d9314ce1-ea68-4f87-802e-f568db809db0",
   "metadata": {},
   "outputs": [
    {
     "name": "stdout",
     "output_type": "stream",
     "text": [
      "start\n",
      "write\n",
      "finish\n"
     ]
    }
   ],
   "source": [
    "write()"
   ]
  },
  {
   "cell_type": "code",
   "execution_count": 190,
   "id": "ee4a8747-16fe-4fe7-a3df-fb06a49f629f",
   "metadata": {},
   "outputs": [],
   "source": [
    "write2 = deco(write2)"
   ]
  },
  {
   "cell_type": "code",
   "execution_count": 191,
   "id": "a7788e94-5e18-442c-a47c-9a46e19e5dff",
   "metadata": {},
   "outputs": [
    {
     "name": "stdout",
     "output_type": "stream",
     "text": [
      "start\n",
      "write2\n",
      "finish\n"
     ]
    }
   ],
   "source": [
    "write2()"
   ]
  },
  {
   "cell_type": "code",
   "execution_count": 194,
   "id": "9fa7da8e-a616-4417-b564-2499f8b5693c",
   "metadata": {},
   "outputs": [],
   "source": [
    "#Same as above and shorter\n",
    "\n",
    "@deco\n",
    "def write():\n",
    "    print('write')"
   ]
  },
  {
   "cell_type": "code",
   "execution_count": 195,
   "id": "09cfca05-3f13-4bc4-a3f7-1ca45b5ddf40",
   "metadata": {},
   "outputs": [
    {
     "name": "stdout",
     "output_type": "stream",
     "text": [
      "start\n",
      "write\n",
      "finish\n"
     ]
    }
   ],
   "source": [
    "write()"
   ]
  },
  {
   "cell_type": "code",
   "execution_count": 196,
   "id": "32976b90-b47f-4ea6-9873-df4c138f4aa5",
   "metadata": {},
   "outputs": [],
   "source": [
    "@deco\n",
    "def summ(a,b):\n",
    "    print(a+b)"
   ]
  },
  {
   "cell_type": "code",
   "execution_count": 197,
   "id": "9748bcdf-3c6e-469b-b92f-06479b162f37",
   "metadata": {},
   "outputs": [
    {
     "ename": "TypeError",
     "evalue": "deco.<locals>.wrapper() takes 0 positional arguments but 2 were given",
     "output_type": "error",
     "traceback": [
      "\u001b[1;31m---------------------------------------------------------------------------\u001b[0m",
      "\u001b[1;31mTypeError\u001b[0m                                 Traceback (most recent call last)",
      "Cell \u001b[1;32mIn[197], line 1\u001b[0m\n\u001b[1;32m----> 1\u001b[0m \u001b[43msumm\u001b[49m\u001b[43m(\u001b[49m\u001b[38;5;241;43m2\u001b[39;49m\u001b[43m,\u001b[49m\u001b[38;5;241;43m3\u001b[39;49m\u001b[43m)\u001b[49m\n",
      "\u001b[1;31mTypeError\u001b[0m: deco.<locals>.wrapper() takes 0 positional arguments but 2 were given"
     ]
    }
   ],
   "source": [
    "summ(2,3)"
   ]
  },
  {
   "cell_type": "code",
   "execution_count": 198,
   "id": "dd510703-4fe1-455c-b54f-ad13a794ad68",
   "metadata": {},
   "outputs": [],
   "source": [
    "def deco1(f):\n",
    "    \n",
    "    def wrapper(*arg):  #*arg It is used for arguments whose number we do not know.\n",
    "        print('start')\n",
    "        \n",
    "        f(*arg)\n",
    "        \n",
    "        print('finish')\n",
    "    return wrapper"
   ]
  },
  {
   "cell_type": "code",
   "execution_count": 199,
   "id": "0a2eae53-9dda-4263-b27d-e3227d872cfe",
   "metadata": {},
   "outputs": [
    {
     "name": "stdout",
     "output_type": "stream",
     "text": [
      "start\n",
      "5\n",
      "finish\n"
     ]
    }
   ],
   "source": [
    "@deco1\n",
    "def summ(a,b):\n",
    "    print(a+b)\n",
    "    \n",
    "summ(2,3)"
   ]
  },
  {
   "cell_type": "code",
   "execution_count": 202,
   "id": "f8b80ba0-9161-4c4a-8d97-1d801d6375d4",
   "metadata": {},
   "outputs": [],
   "source": [
    "def deco2(f,ms1,msg2):\n",
    "    \n",
    "    def wrapper(*arg):  #*arg It is used for arguments whose number we do not know.\n",
    "        print(msg1)\n",
    "        \n",
    "        f(*arg)\n",
    "        \n",
    "        print(msg2)\n",
    "    return wrapper"
   ]
  },
  {
   "cell_type": "code",
   "execution_count": 203,
   "id": "2317e221-e2a3-4c54-b56d-ac1e9e1cb35d",
   "metadata": {},
   "outputs": [
    {
     "ename": "TypeError",
     "evalue": "deco2() missing 1 required positional argument: 'msg2'",
     "output_type": "error",
     "traceback": [
      "\u001b[1;31m---------------------------------------------------------------------------\u001b[0m",
      "\u001b[1;31mTypeError\u001b[0m                                 Traceback (most recent call last)",
      "Cell \u001b[1;32mIn[203], line 1\u001b[0m\n\u001b[1;32m----> 1\u001b[0m \u001b[38;5;129m@deco2\u001b[39m\u001b[43m(\u001b[49m\u001b[38;5;124;43m'\u001b[39;49m\u001b[38;5;124;43mfirst\u001b[39;49m\u001b[38;5;124;43m'\u001b[39;49m\u001b[43m,\u001b[49m\u001b[38;5;124;43m'\u001b[39;49m\u001b[38;5;124;43mend\u001b[39;49m\u001b[38;5;124;43m'\u001b[39;49m\u001b[43m)\u001b[49m\n\u001b[0;32m      2\u001b[0m \u001b[38;5;28;01mdef\u001b[39;00m \u001b[38;5;21msumm\u001b[39m(a,b):\n\u001b[0;32m      3\u001b[0m     \u001b[38;5;28mprint\u001b[39m(a\u001b[38;5;241m+\u001b[39mb)\n\u001b[0;32m      5\u001b[0m summ(\u001b[38;5;241m2\u001b[39m,\u001b[38;5;241m3\u001b[39m)\n",
      "\u001b[1;31mTypeError\u001b[0m: deco2() missing 1 required positional argument: 'msg2'"
     ]
    }
   ],
   "source": [
    "@deco2('first','end')\n",
    "def summ(a,b):\n",
    "    print(a+b)\n",
    "    \n",
    "summ(2,3)"
   ]
  },
  {
   "cell_type": "code",
   "execution_count": 210,
   "id": "001b1404-a090-40c2-984e-a9a474d325f5",
   "metadata": {},
   "outputs": [],
   "source": [
    "def deco3(msg1,msg2):\n",
    "    def spacing_func(f):\n",
    "        def wrapper(*arg):  #*arg It is used for arguments whose number we do not know.\n",
    "            print(msg1)\n",
    "            \n",
    "            f(*arg)\n",
    "            \n",
    "            print(msg2)\n",
    "        return wrapper\n",
    "    return spacing_func"
   ]
  },
  {
   "cell_type": "code",
   "execution_count": 211,
   "id": "2abbaea7-d392-43fc-ba38-c1accf053700",
   "metadata": {},
   "outputs": [
    {
     "name": "stdout",
     "output_type": "stream",
     "text": [
      "first\n",
      "5\n",
      "end\n"
     ]
    }
   ],
   "source": [
    "@deco3('first','end')\n",
    "def summ(a,b):\n",
    "    print(a+b)\n",
    "    \n",
    "summ(2,3)"
   ]
  },
  {
   "cell_type": "code",
   "execution_count": 212,
   "id": "e03ac094-60ab-4012-857c-b0ed50405dc8",
   "metadata": {},
   "outputs": [
    {
     "name": "stdout",
     "output_type": "stream",
     "text": [
      "abc\n",
      "start time 1735840777.242939\n",
      "finish time 1735840782.258456\n",
      "process time 5.015516996383667\n"
     ]
    }
   ],
   "source": [
    "str_time = time.time()\n",
    "\n",
    "f()\n",
    "\n",
    "fnh_time = time.time()\n",
    "\n",
    "\n",
    "print(\"start time {}\".format(str_time))\n",
    "\n",
    "time.sleep(5)\n",
    "fnh_time = time.time()\n",
    "print(\"finish time {}\".format(fnh_time))\n",
    "print(\"process time {}\".format(fnh_time - str_time))"
   ]
  },
  {
   "cell_type": "code",
   "execution_count": 220,
   "id": "71ddf24e-5e13-4842-a34e-478d64c8c64d",
   "metadata": {},
   "outputs": [],
   "source": [
    "def time_measure(f):\n",
    "    def wrapped(*args):\n",
    "        str_time = time.time()\n",
    "        print(\"start time {}\".format(str_time))\n",
    "        f(*args)\n",
    "        fnh_time = time.time()\n",
    "        print(\"finish time {}\".format(fnh_time))\n",
    "        print(\"process time {}\".format(fnh_time - str_time))\n",
    "        \n",
    "    return wrapped\n",
    "\n",
    "        \n",
    "        "
   ]
  },
  {
   "cell_type": "code",
   "execution_count": 221,
   "id": "f8d3a485-b870-4eca-bc46-a6821a161860",
   "metadata": {},
   "outputs": [],
   "source": [
    "\n",
    "@time_measure\n",
    "def factorial(nmb):\n",
    "    total = 1\n",
    "    \n",
    "    while nmb > 1:\n",
    "        total = total * nmb\n",
    "        nmb -= 1\n",
    "        \n",
    "    print(total)"
   ]
  },
  {
   "cell_type": "code",
   "execution_count": 235,
   "id": "b1ad2290-afb0-4530-9760-44f5c7b0b5ae",
   "metadata": {},
   "outputs": [
    {
     "name": "stdout",
     "output_type": "stream",
     "text": [
      "start time 1735841168.4566207\n",
      "402387260077093773543702433923003985719374864210714632543799910429938512398629020592044208486969404800479988610197196058631666872994808558901323829669944590997424504087073759918823627727188732519779505950995276120874975462497043601418278094646496291056393887437886487337119181045825783647849977012476632889835955735432513185323958463075557409114262417474349347553428646576611667797396668820291207379143853719588249808126867838374559731746136085379534524221586593201928090878297308431392844403281231558611036976801357304216168747609675871348312025478589320767169132448426236131412508780208000261683151027341827977704784635868170164365024153691398281264810213092761244896359928705114964975419909342221566832572080821333186116811553615836546984046708975602900950537616475847728421889679646244945160765353408198901385442487984959953319101723355556602139450399736280750137837615307127761926849034352625200015888535147331611702103968175921510907788019393178114194545257223865541461062892187960223838971476088506276862967146674697562911234082439208160153780889893964518263243671616762179168909779911903754031274622289988005195444414282012187361745992642956581746628302955570299024324153181617210465832036786906117260158783520751516284225540265170483304226143974286933061690897968482590125458327168226458066526769958652682272807075781391858178889652208164348344825993266043367660176999612831860788386150279465955131156552036093988180612138558600301435694527224206344631797460594682573103790084024432438465657245014402821885252470935190620929023136493273497565513958720559654228749774011413346962715422845862377387538230483865688976461927383814900140767310446640259899490222221765904339901886018566526485061799702356193897017860040811889729918311021171229845901641921068884387121855646124960798722908519296819372388642614839657382291123125024186649353143970137428531926649875337218940694281434118520158014123344828015051399694290153483077644569099073152433278288269864602789864321139083506217095002597389863554277196742822248757586765752344220207573630569498825087968928162753848863396909959826280956121450994871701244516461260379029309120889086942028510640182154399457156805941872748998094254742173582401063677404595741785160829230135358081840096996372524230560855903700624271243416909004153690105933983835777939410970027753472000000000000000000000000000000000000000000000000000000000000000000000000000000000000000000000000000000000000000000000000000000000000000000000000000000000000000000000000000000000000000000000000000000000000000000000000000000000000000000000000000000000\n",
      "finish time 1735841168.457595\n",
      "process time 0.0009744167327880859\n"
     ]
    }
   ],
   "source": [
    "factorial(1000)"
   ]
  },
  {
   "cell_type": "code",
   "execution_count": 236,
   "id": "9d8aa6b2-25b2-4d29-aff0-15ab8ce9071a",
   "metadata": {},
   "outputs": [],
   "source": [
    "import sys\n",
    "sys.set_int_max_str_digits(0)"
   ]
  },
  {
   "cell_type": "code",
   "execution_count": 239,
   "id": "05acabd2-43e9-4950-9287-094d5263b9ac",
   "metadata": {},
   "outputs": [
    {
     "name": "stdout",
     "output_type": "stream",
     "text": [
      "start time 1735841476.2806761\n",
      "41493596034378540855568670930866121709511191949318099176894676576975585651235319500860007652178003420075184635383617118495750871114045907794553402161068339611621037904199177522062663390179682805164719697495968842457728766097103003726111095340241127118833157738815328438929737613021106312930374401485378725446079610290429491049793888120762511625132917004641668962117590203575175488980653577868915285093782469994674699190832093511068363824287063522268544339213775150488588104036818809099292912497141900508938994404715351473154531587441509960174267875087460367974117072368747277143988920683691618503608198459718093784453523958505377611086511162363145920886108557450874513945305436213711898150847192094426374203275029996333784944014775671414680824207499914714878359669720638954670589960178569480263388767112871068004950827400717124819476386401369193544354120312786601434792549959143530120653103406625503231020738351502195103148673612338739395096551462159349015789949944072311004426924838140141455487872738045856023561583204317945953055830693351246890721246151468485308724031267967089113548982733475375756899365176396424781733462510879015743437398920492267098317033932107176343983352444576040476565400414414699479984354554597799386702839428513413188913165695310848513525094006147774047007331406541794428004436691903685469270857271701648011512057452448607968773784803660653009109815639091294110633715621540903800135058671624262333902434166628716521228590274568833504897926869369792878376894841436573866436955075473964882256222183380014600761196859217603234808467455216330411738004331144225926243690558782914907973885758784585739828695390302383837265882427654306437517757897215045071361801730051628424476294227485755627828763498767195281368913583918824499284741591683130334032199946752082914885764345863832313545205075955912062067273296951386122994658607527317884452449865348164169238844889061495850934373442889814884427321817131272533891534506581143823381205875379808605080889761753882896252933633750454549168600267229591225528854584482686655324313011353754812409561237686078007700707939541848907149467377854407528307872988103912945121929864793703451257436445581459757140822705986325165352906584571123585270211933452981105568398809884094980346185078025273038736784042169427237980464304250045030806637032760016341921442805708802430850567892108646977455139539119838636167190300278146380136932482332771595180596193069504237836082620570887209297929797429404576877338319877444685544294800321741056689423710545028870419611915072739000031642014474213323293871618029555614004602867400422885389854650328028428515122296028795741801621823236098320971441047012533067314896153236788734984553949604397050352347766211395914519270422122231426998692087463520980686224354813376194395131942868113486531562228173214976481705381846155326596187530296478601160872263640443922257601926494610916885151013143945574398303192557154162151442469122370519149097861849436150963109933639594561796593396851958605338631176324147066842257192394742531726479559749993283247279807896470753054014194090200609712674753186365525403212757757853930697530056595208207457499471898144453772248207888443335118545601568853708182892895218300139654376947286418776665762815389737340159410543681435437346134244692067070082782423645557450882556670157242752810317141640631410681384330924027281318960884813040665226169552825637183862464944295688859393846726723694199475571320546018263425731029115353532728808182773021596787088437293412117084511580629967697266601663635276959969021502122104954259567278593185516268447100374434620422003535391203738393095420695021486207390653190910821344334251497896284236198571674773848126097443055036250866354720730971298084697196537722779893160200560725058007512407494448163392214398118492748281978655178478547749198714138485042290383954090570842038137277135667703565041081780520695032136233521692740531015340921761834078817735674646749071616600653230438902639786065509005309872435445689315601329942407112295015453771521051942445512795364971214872222193729289159833001742397977592530501318837883494884232222507318816399438935627817102875432588794558857742780390717166381257903798149148445526885871629931014510733215554773264576035916184298708323237568837917135073006026738292294687081030751946020376438138677107333779312582257356435534577162804030480925785909747233413932904072239860005448269296110393640127539539899397420021925268928622564959279136369546983247314494094297494213208716963662812963846191378114609210701033012119934264941666449130310898493535366401831282683112506578386425906537197010907276429330534751297336716929415047870949241778121534979499449732358445130210029720359993576507730563696950539990891252004810120090569633144368179194247963563389102486250773367249399801723451627048850149438343735826440053481474957421328873648479589553843836378275601433377798816126854462406494134416119108952653326761627660221130879211665924379496534838030236064294981985541014311566601739518539426008673198564586684635442730180022292607589767192198367529528365158715521887698317999005853121518691037776676883654291247419826099434535671529412823837612115555686210454583810355154404953718470726363218532775486501811002621331228429860926112159573066023932077476742800909462674322138805290643067711276964013735906251051050623568241317651533030775358975134565147424167401517470720839101869989993279364910892687924739705814152855543965954222603919059265825637344676406359525838966981511983959886603683753042017990328185945569412550519066302854869533377682984600031808093822130038102214387057461181304251961916405970456035183121708151658647356556540532928411748628957082856792300053525846377061280591452035546389932127875906349627837975871352588618213252263577038396202737385324908353680497990085701522483303439525197344653342994652565236096742834550523739733902374261808871799283722285366293439240895762913154442106573609205481842139365893867715542842477275100166734357743093638948444564764377184073874379471007867151070449554657626281566137550730763768080600031844296233977808233311359787577136983012817571625671683287281511937336685789437109097748581222868126824122317272681184975207863453107495331708260153159440253645365524453587952034745213429248916644504804355352281977721981971869054884176896398782704782066126921472548618247859626434279190274503452994769367997217285165465591799471789067885687278574470084289723778234763080740919512966238346427839653865017324665850192144091694630371265581197700774682562035198318782913591013997817303635173764706714383992810291224460848320518983248348855131025539721583184931653670732273172995431750775475634748127320956655431851879586978172491721700865768098908327830838240437737974455342525688712898855513180967012497859454290609627370590659970784172738420721605576789060565167694565490120388165775861939230924362983389549857279874523398090499858467484850399509109398834210424693113617875978611803096108774362764990414655167545507613665725914993376114340243762910290384135888531312591132544849225896007184851169390193985434649415483782338302531368775990005443722332901462568184095998830522521585328599833990336595418932696680163265899358234663247080324020429791357425755498549372896192091650794671997121439832581553945835125648010889886887056882711222628734035772418424803231173027338442220604015609242079569493204943809402465562530303328824165302038006041288444384884189129393985971765670211501611340121169355535864984802941563238279447576315042685734269863116562800932164578165410411899078396210758605145091526528422433647230880469088426412525126584729134059195171754291152622002229756986927959124620964363057052133099216422258437651889193630329851223282950806126200573565554213183555838289318138795940962303792777230344423432341561603558590502324475274502630869831414125396371754413611897269158650716722308083435295578401087236027347001118786146233185439431057058483770474806035004556885020602730222256397630738939985024978155182679916994164145540329909813190506654358156657691529068908186204138444091456355291242064901717436430473455191375922914953282988151808740076733486997695322871450791584448703980405737673555777873593937891577147956023340708456392314170118392555234618119775915673385955919265270624063734277760215846511035368057963320714896942663358570375305829676608224208465464558556667889222627619990263961792637457851652540918756608543859661221944248720424960000000000000000000000000000000000000000000000000000000000000000000000000000000000000000000000000000000000000000000000000000000000000000000000000000000000000000000000000000000000000000000000000000000000000000000000000000000000000000000000000000000000000000000000000000000000000000000000000000000000000000000000000000000000000000000000000000000000000000000000000000000000000000000000000000000000000000000000000000000000000000000000000000000000000000000000000000000000000000000000000000000000000000000000000000000000000000000000000000000000000000000000000000000000000000000000000000000000000000000000000000000000000000000000000000000000000000000000000000000000000000000000000000000000000000000000000000000000000000000000000000000000000000000000000000\n",
      "finish time 1735841476.283711\n",
      "process time 0.003034830093383789\n"
     ]
    }
   ],
   "source": [
    "factorial(3000)"
   ]
  },
  {
   "cell_type": "code",
   "execution_count": null,
   "id": "d95ad97b-2523-496a-bbd6-09ae2ea834a3",
   "metadata": {},
   "outputs": [],
   "source": []
  }
 ],
 "metadata": {
  "kernelspec": {
   "display_name": "Python 3 (ipykernel)",
   "language": "python",
   "name": "python3"
  },
  "language_info": {
   "codemirror_mode": {
    "name": "ipython",
    "version": 3
   },
   "file_extension": ".py",
   "mimetype": "text/x-python",
   "name": "python",
   "nbconvert_exporter": "python",
   "pygments_lexer": "ipython3",
   "version": "3.10.9"
  }
 },
 "nbformat": 4,
 "nbformat_minor": 5
}
